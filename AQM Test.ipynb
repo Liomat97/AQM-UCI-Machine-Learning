{
 "cells": [
  {
   "cell_type": "markdown",
   "id": "a68ce2a9",
   "metadata": {},
   "source": [
    "# **Import of the Data files and basic Libraries**"
   ]
  },
  {
   "cell_type": "code",
   "execution_count": 1,
   "id": "05c667c9",
   "metadata": {},
   "outputs": [],
   "source": [
    "import numpy as np\n",
    "import pandas as pd\n",
    "import statsmodels.api as sm\n",
    "import matplotlib.pyplot as plt\n",
    "\n",
    "# other imports will be made when needed later in the code"
   ]
  },
  {
   "cell_type": "code",
   "execution_count": 2,
   "id": "557f415f",
   "metadata": {},
   "outputs": [],
   "source": [
    "bank = pd.read_csv('Data/bank.csv', sep=';')\n",
    "bank_full = pd.read_csv('Data/bank-full.csv', sep=';')\n",
    "\n",
    "bank_add = pd.read_csv('Data/bank-additional.csv', sep=';')\n",
    "bank_add_full = pd.read_csv('Data/bank-additional-full.csv', sep=';')"
   ]
  },
  {
   "cell_type": "markdown",
   "id": "28ce12d9",
   "metadata": {},
   "source": [
    "# **Inspecting the Datasets**"
   ]
  },
  {
   "cell_type": "code",
   "execution_count": 3,
   "id": "d3c7c070",
   "metadata": {},
   "outputs": [],
   "source": [
    "# In the code below we examine which dataset we will use for the study"
   ]
  },
  {
   "cell_type": "code",
   "execution_count": 4,
   "id": "a346e1b3",
   "metadata": {},
   "outputs": [
    {
     "name": "stdout",
     "output_type": "stream",
     "text": [
      "<class 'pandas.core.frame.DataFrame'>\n",
      "RangeIndex: 4521 entries, 0 to 4520\n",
      "Data columns (total 17 columns):\n",
      " #   Column     Non-Null Count  Dtype \n",
      "---  ------     --------------  ----- \n",
      " 0   age        4521 non-null   int64 \n",
      " 1   job        4521 non-null   object\n",
      " 2   marital    4521 non-null   object\n",
      " 3   education  4521 non-null   object\n",
      " 4   default    4521 non-null   object\n",
      " 5   balance    4521 non-null   int64 \n",
      " 6   housing    4521 non-null   object\n",
      " 7   loan       4521 non-null   object\n",
      " 8   contact    4521 non-null   object\n",
      " 9   day        4521 non-null   int64 \n",
      " 10  month      4521 non-null   object\n",
      " 11  duration   4521 non-null   int64 \n",
      " 12  campaign   4521 non-null   int64 \n",
      " 13  pdays      4521 non-null   int64 \n",
      " 14  previous   4521 non-null   int64 \n",
      " 15  poutcome   4521 non-null   object\n",
      " 16  y          4521 non-null   object\n",
      "dtypes: int64(7), object(10)\n",
      "memory usage: 600.6+ KB\n"
     ]
    }
   ],
   "source": [
    "bank.info()"
   ]
  },
  {
   "cell_type": "code",
   "execution_count": 5,
   "id": "7b19ba59",
   "metadata": {},
   "outputs": [
    {
     "name": "stdout",
     "output_type": "stream",
     "text": [
      "<class 'pandas.core.frame.DataFrame'>\n",
      "RangeIndex: 45211 entries, 0 to 45210\n",
      "Data columns (total 17 columns):\n",
      " #   Column     Non-Null Count  Dtype \n",
      "---  ------     --------------  ----- \n",
      " 0   age        45211 non-null  int64 \n",
      " 1   job        45211 non-null  object\n",
      " 2   marital    45211 non-null  object\n",
      " 3   education  45211 non-null  object\n",
      " 4   default    45211 non-null  object\n",
      " 5   balance    45211 non-null  int64 \n",
      " 6   housing    45211 non-null  object\n",
      " 7   loan       45211 non-null  object\n",
      " 8   contact    45211 non-null  object\n",
      " 9   day        45211 non-null  int64 \n",
      " 10  month      45211 non-null  object\n",
      " 11  duration   45211 non-null  int64 \n",
      " 12  campaign   45211 non-null  int64 \n",
      " 13  pdays      45211 non-null  int64 \n",
      " 14  previous   45211 non-null  int64 \n",
      " 15  poutcome   45211 non-null  object\n",
      " 16  y          45211 non-null  object\n",
      "dtypes: int64(7), object(10)\n",
      "memory usage: 5.9+ MB\n"
     ]
    }
   ],
   "source": [
    "bank_full.info()"
   ]
  },
  {
   "cell_type": "code",
   "execution_count": 6,
   "id": "c00fcf31",
   "metadata": {},
   "outputs": [
    {
     "name": "stdout",
     "output_type": "stream",
     "text": [
      "<class 'pandas.core.frame.DataFrame'>\n",
      "RangeIndex: 4119 entries, 0 to 4118\n",
      "Data columns (total 21 columns):\n",
      " #   Column          Non-Null Count  Dtype  \n",
      "---  ------          --------------  -----  \n",
      " 0   age             4119 non-null   int64  \n",
      " 1   job             4119 non-null   object \n",
      " 2   marital         4119 non-null   object \n",
      " 3   education       4119 non-null   object \n",
      " 4   default         4119 non-null   object \n",
      " 5   housing         4119 non-null   object \n",
      " 6   loan            4119 non-null   object \n",
      " 7   contact         4119 non-null   object \n",
      " 8   month           4119 non-null   object \n",
      " 9   day_of_week     4119 non-null   object \n",
      " 10  duration        4119 non-null   int64  \n",
      " 11  campaign        4119 non-null   int64  \n",
      " 12  pdays           4119 non-null   int64  \n",
      " 13  previous        4119 non-null   int64  \n",
      " 14  poutcome        4119 non-null   object \n",
      " 15  emp.var.rate    4119 non-null   float64\n",
      " 16  cons.price.idx  4119 non-null   float64\n",
      " 17  cons.conf.idx   4119 non-null   float64\n",
      " 18  euribor3m       4119 non-null   float64\n",
      " 19  nr.employed     4119 non-null   float64\n",
      " 20  y               4119 non-null   object \n",
      "dtypes: float64(5), int64(5), object(11)\n",
      "memory usage: 675.9+ KB\n"
     ]
    }
   ],
   "source": [
    "bank_add.info()"
   ]
  },
  {
   "cell_type": "code",
   "execution_count": 7,
   "id": "778c1f4a",
   "metadata": {},
   "outputs": [
    {
     "name": "stdout",
     "output_type": "stream",
     "text": [
      "<class 'pandas.core.frame.DataFrame'>\n",
      "RangeIndex: 41188 entries, 0 to 41187\n",
      "Data columns (total 21 columns):\n",
      " #   Column          Non-Null Count  Dtype  \n",
      "---  ------          --------------  -----  \n",
      " 0   age             41188 non-null  int64  \n",
      " 1   job             41188 non-null  object \n",
      " 2   marital         41188 non-null  object \n",
      " 3   education       41188 non-null  object \n",
      " 4   default         41188 non-null  object \n",
      " 5   housing         41188 non-null  object \n",
      " 6   loan            41188 non-null  object \n",
      " 7   contact         41188 non-null  object \n",
      " 8   month           41188 non-null  object \n",
      " 9   day_of_week     41188 non-null  object \n",
      " 10  duration        41188 non-null  int64  \n",
      " 11  campaign        41188 non-null  int64  \n",
      " 12  pdays           41188 non-null  int64  \n",
      " 13  previous        41188 non-null  int64  \n",
      " 14  poutcome        41188 non-null  object \n",
      " 15  emp.var.rate    41188 non-null  float64\n",
      " 16  cons.price.idx  41188 non-null  float64\n",
      " 17  cons.conf.idx   41188 non-null  float64\n",
      " 18  euribor3m       41188 non-null  float64\n",
      " 19  nr.employed     41188 non-null  float64\n",
      " 20  y               41188 non-null  object \n",
      "dtypes: float64(5), int64(5), object(11)\n",
      "memory usage: 6.6+ MB\n"
     ]
    }
   ],
   "source": [
    "bank_add_full.info()"
   ]
  },
  {
   "cell_type": "code",
   "execution_count": 8,
   "id": "7792f208",
   "metadata": {},
   "outputs": [
    {
     "name": "stdout",
     "output_type": "stream",
     "text": [
      "The shape of bank is         :  (4521, 17)\n",
      "The shape of bank_full is    :  (45211, 17)\n",
      "The shape of bank_add is     :  (4119, 21)\n",
      "The shape of bank_add_full is:  (41188, 21)\n"
     ]
    }
   ],
   "source": [
    "print('The shape of bank is         : ', bank.shape)\n",
    "print('The shape of bank_full is    : ',bank_full.shape)\n",
    "print('The shape of bank_add is     : ',bank_add.shape)\n",
    "print('The shape of bank_add_full is: ',bank_add_full.shape)"
   ]
  },
  {
   "cell_type": "code",
   "execution_count": 9,
   "id": "aa26fa13",
   "metadata": {},
   "outputs": [],
   "source": [
    "# The biggest Dataset is the Bank_full but the one with the most independent variables is Bank_add_full. \n",
    "# In order to get the best performing prediction model we decided to choose Bank_add_full as our base dataset for this study"
   ]
  },
  {
   "cell_type": "markdown",
   "id": "968288f2",
   "metadata": {},
   "source": [
    "## Check the dataset for Missing Values"
   ]
  },
  {
   "cell_type": "code",
   "execution_count": 10,
   "id": "f4d1dbba",
   "metadata": {},
   "outputs": [
    {
     "data": {
      "text/plain": [
       "age               0\n",
       "job               0\n",
       "marital           0\n",
       "education         0\n",
       "default           0\n",
       "housing           0\n",
       "loan              0\n",
       "contact           0\n",
       "month             0\n",
       "day_of_week       0\n",
       "duration          0\n",
       "campaign          0\n",
       "pdays             0\n",
       "previous          0\n",
       "poutcome          0\n",
       "emp.var.rate      0\n",
       "cons.price.idx    0\n",
       "cons.conf.idx     0\n",
       "euribor3m         0\n",
       "nr.employed       0\n",
       "y                 0\n",
       "dtype: int64"
      ]
     },
     "execution_count": 10,
     "metadata": {},
     "output_type": "execute_result"
    }
   ],
   "source": [
    "bank_add_full.isna().sum()"
   ]
  },
  {
   "cell_type": "code",
   "execution_count": 11,
   "id": "4cee6878",
   "metadata": {},
   "outputs": [
    {
     "data": {
      "text/html": [
       "<div>\n",
       "<style scoped>\n",
       "    .dataframe tbody tr th:only-of-type {\n",
       "        vertical-align: middle;\n",
       "    }\n",
       "\n",
       "    .dataframe tbody tr th {\n",
       "        vertical-align: top;\n",
       "    }\n",
       "\n",
       "    .dataframe thead th {\n",
       "        text-align: right;\n",
       "    }\n",
       "</style>\n",
       "<table border=\"1\" class=\"dataframe\">\n",
       "  <thead>\n",
       "    <tr style=\"text-align: right;\">\n",
       "      <th></th>\n",
       "      <th>age</th>\n",
       "      <th>job</th>\n",
       "      <th>marital</th>\n",
       "      <th>education</th>\n",
       "      <th>default</th>\n",
       "      <th>housing</th>\n",
       "      <th>loan</th>\n",
       "      <th>contact</th>\n",
       "      <th>month</th>\n",
       "      <th>day_of_week</th>\n",
       "      <th>...</th>\n",
       "      <th>campaign</th>\n",
       "      <th>pdays</th>\n",
       "      <th>previous</th>\n",
       "      <th>poutcome</th>\n",
       "      <th>emp.var.rate</th>\n",
       "      <th>cons.price.idx</th>\n",
       "      <th>cons.conf.idx</th>\n",
       "      <th>euribor3m</th>\n",
       "      <th>nr.employed</th>\n",
       "      <th>y</th>\n",
       "    </tr>\n",
       "  </thead>\n",
       "  <tbody>\n",
       "    <tr>\n",
       "      <th>0</th>\n",
       "      <td>56</td>\n",
       "      <td>housemaid</td>\n",
       "      <td>married</td>\n",
       "      <td>basic.4y</td>\n",
       "      <td>no</td>\n",
       "      <td>no</td>\n",
       "      <td>no</td>\n",
       "      <td>telephone</td>\n",
       "      <td>may</td>\n",
       "      <td>mon</td>\n",
       "      <td>...</td>\n",
       "      <td>1</td>\n",
       "      <td>999</td>\n",
       "      <td>0</td>\n",
       "      <td>nonexistent</td>\n",
       "      <td>1.1</td>\n",
       "      <td>93.994</td>\n",
       "      <td>-36.4</td>\n",
       "      <td>4.857</td>\n",
       "      <td>5191.0</td>\n",
       "      <td>no</td>\n",
       "    </tr>\n",
       "    <tr>\n",
       "      <th>1</th>\n",
       "      <td>57</td>\n",
       "      <td>services</td>\n",
       "      <td>married</td>\n",
       "      <td>high.school</td>\n",
       "      <td>unknown</td>\n",
       "      <td>no</td>\n",
       "      <td>no</td>\n",
       "      <td>telephone</td>\n",
       "      <td>may</td>\n",
       "      <td>mon</td>\n",
       "      <td>...</td>\n",
       "      <td>1</td>\n",
       "      <td>999</td>\n",
       "      <td>0</td>\n",
       "      <td>nonexistent</td>\n",
       "      <td>1.1</td>\n",
       "      <td>93.994</td>\n",
       "      <td>-36.4</td>\n",
       "      <td>4.857</td>\n",
       "      <td>5191.0</td>\n",
       "      <td>no</td>\n",
       "    </tr>\n",
       "    <tr>\n",
       "      <th>2</th>\n",
       "      <td>37</td>\n",
       "      <td>services</td>\n",
       "      <td>married</td>\n",
       "      <td>high.school</td>\n",
       "      <td>no</td>\n",
       "      <td>yes</td>\n",
       "      <td>no</td>\n",
       "      <td>telephone</td>\n",
       "      <td>may</td>\n",
       "      <td>mon</td>\n",
       "      <td>...</td>\n",
       "      <td>1</td>\n",
       "      <td>999</td>\n",
       "      <td>0</td>\n",
       "      <td>nonexistent</td>\n",
       "      <td>1.1</td>\n",
       "      <td>93.994</td>\n",
       "      <td>-36.4</td>\n",
       "      <td>4.857</td>\n",
       "      <td>5191.0</td>\n",
       "      <td>no</td>\n",
       "    </tr>\n",
       "    <tr>\n",
       "      <th>3</th>\n",
       "      <td>40</td>\n",
       "      <td>admin.</td>\n",
       "      <td>married</td>\n",
       "      <td>basic.6y</td>\n",
       "      <td>no</td>\n",
       "      <td>no</td>\n",
       "      <td>no</td>\n",
       "      <td>telephone</td>\n",
       "      <td>may</td>\n",
       "      <td>mon</td>\n",
       "      <td>...</td>\n",
       "      <td>1</td>\n",
       "      <td>999</td>\n",
       "      <td>0</td>\n",
       "      <td>nonexistent</td>\n",
       "      <td>1.1</td>\n",
       "      <td>93.994</td>\n",
       "      <td>-36.4</td>\n",
       "      <td>4.857</td>\n",
       "      <td>5191.0</td>\n",
       "      <td>no</td>\n",
       "    </tr>\n",
       "    <tr>\n",
       "      <th>4</th>\n",
       "      <td>56</td>\n",
       "      <td>services</td>\n",
       "      <td>married</td>\n",
       "      <td>high.school</td>\n",
       "      <td>no</td>\n",
       "      <td>no</td>\n",
       "      <td>yes</td>\n",
       "      <td>telephone</td>\n",
       "      <td>may</td>\n",
       "      <td>mon</td>\n",
       "      <td>...</td>\n",
       "      <td>1</td>\n",
       "      <td>999</td>\n",
       "      <td>0</td>\n",
       "      <td>nonexistent</td>\n",
       "      <td>1.1</td>\n",
       "      <td>93.994</td>\n",
       "      <td>-36.4</td>\n",
       "      <td>4.857</td>\n",
       "      <td>5191.0</td>\n",
       "      <td>no</td>\n",
       "    </tr>\n",
       "  </tbody>\n",
       "</table>\n",
       "<p>5 rows × 21 columns</p>\n",
       "</div>"
      ],
      "text/plain": [
       "   age        job  marital    education  default housing loan    contact  \\\n",
       "0   56  housemaid  married     basic.4y       no      no   no  telephone   \n",
       "1   57   services  married  high.school  unknown      no   no  telephone   \n",
       "2   37   services  married  high.school       no     yes   no  telephone   \n",
       "3   40     admin.  married     basic.6y       no      no   no  telephone   \n",
       "4   56   services  married  high.school       no      no  yes  telephone   \n",
       "\n",
       "  month day_of_week  ...  campaign  pdays  previous     poutcome emp.var.rate  \\\n",
       "0   may         mon  ...         1    999         0  nonexistent          1.1   \n",
       "1   may         mon  ...         1    999         0  nonexistent          1.1   \n",
       "2   may         mon  ...         1    999         0  nonexistent          1.1   \n",
       "3   may         mon  ...         1    999         0  nonexistent          1.1   \n",
       "4   may         mon  ...         1    999         0  nonexistent          1.1   \n",
       "\n",
       "   cons.price.idx  cons.conf.idx  euribor3m  nr.employed   y  \n",
       "0          93.994          -36.4      4.857       5191.0  no  \n",
       "1          93.994          -36.4      4.857       5191.0  no  \n",
       "2          93.994          -36.4      4.857       5191.0  no  \n",
       "3          93.994          -36.4      4.857       5191.0  no  \n",
       "4          93.994          -36.4      4.857       5191.0  no  \n",
       "\n",
       "[5 rows x 21 columns]"
      ]
     },
     "execution_count": 11,
     "metadata": {},
     "output_type": "execute_result"
    }
   ],
   "source": [
    "bank_add_full.head()"
   ]
  },
  {
   "cell_type": "code",
   "execution_count": 12,
   "id": "e565f24c",
   "metadata": {},
   "outputs": [
    {
     "data": {
      "text/plain": [
       "Index(['age', 'job', 'marital', 'education', 'default', 'housing', 'loan',\n",
       "       'contact', 'month', 'day_of_week', 'duration', 'campaign', 'pdays',\n",
       "       'previous', 'poutcome', 'emp.var.rate', 'cons.price.idx',\n",
       "       'cons.conf.idx', 'euribor3m', 'nr.employed', 'y'],\n",
       "      dtype='object')"
      ]
     },
     "execution_count": 12,
     "metadata": {},
     "output_type": "execute_result"
    }
   ],
   "source": [
    "bank_add_full.keys()"
   ]
  },
  {
   "cell_type": "code",
   "execution_count": 13,
   "id": "57ce2d6e",
   "metadata": {},
   "outputs": [],
   "source": [
    "# As you can also see, there are no missing values.\n",
    "# therefore the dataset is complete and no further cleaning has to be done"
   ]
  },
  {
   "cell_type": "markdown",
   "id": "3ec511a2",
   "metadata": {},
   "source": [
    "# **Transform the Dataset**"
   ]
  },
  {
   "cell_type": "markdown",
   "id": "efc623bd",
   "metadata": {},
   "source": [
    "## Change the Classification to a Binary "
   ]
  },
  {
   "cell_type": "code",
   "execution_count": 14,
   "id": "98ccc0ea",
   "metadata": {},
   "outputs": [
    {
     "data": {
      "text/html": [
       "<div>\n",
       "<style scoped>\n",
       "    .dataframe tbody tr th:only-of-type {\n",
       "        vertical-align: middle;\n",
       "    }\n",
       "\n",
       "    .dataframe tbody tr th {\n",
       "        vertical-align: top;\n",
       "    }\n",
       "\n",
       "    .dataframe thead th {\n",
       "        text-align: right;\n",
       "    }\n",
       "</style>\n",
       "<table border=\"1\" class=\"dataframe\">\n",
       "  <thead>\n",
       "    <tr style=\"text-align: right;\">\n",
       "      <th></th>\n",
       "      <th>age</th>\n",
       "      <th>duration</th>\n",
       "      <th>campaign</th>\n",
       "      <th>pdays</th>\n",
       "      <th>previous</th>\n",
       "      <th>emp.var.rate</th>\n",
       "      <th>cons.price.idx</th>\n",
       "      <th>cons.conf.idx</th>\n",
       "      <th>euribor3m</th>\n",
       "      <th>nr.employed</th>\n",
       "      <th>...</th>\n",
       "      <th>month_nov</th>\n",
       "      <th>month_oct</th>\n",
       "      <th>month_sep</th>\n",
       "      <th>day_of_week_mon</th>\n",
       "      <th>day_of_week_thu</th>\n",
       "      <th>day_of_week_tue</th>\n",
       "      <th>day_of_week_wed</th>\n",
       "      <th>poutcome_nonexistent</th>\n",
       "      <th>poutcome_success</th>\n",
       "      <th>y_yes</th>\n",
       "    </tr>\n",
       "  </thead>\n",
       "  <tbody>\n",
       "    <tr>\n",
       "      <th>0</th>\n",
       "      <td>56</td>\n",
       "      <td>261</td>\n",
       "      <td>1</td>\n",
       "      <td>999</td>\n",
       "      <td>0</td>\n",
       "      <td>1.1</td>\n",
       "      <td>93.994</td>\n",
       "      <td>-36.4</td>\n",
       "      <td>4.857</td>\n",
       "      <td>5191.0</td>\n",
       "      <td>...</td>\n",
       "      <td>0</td>\n",
       "      <td>0</td>\n",
       "      <td>0</td>\n",
       "      <td>1</td>\n",
       "      <td>0</td>\n",
       "      <td>0</td>\n",
       "      <td>0</td>\n",
       "      <td>1</td>\n",
       "      <td>0</td>\n",
       "      <td>0</td>\n",
       "    </tr>\n",
       "    <tr>\n",
       "      <th>1</th>\n",
       "      <td>57</td>\n",
       "      <td>149</td>\n",
       "      <td>1</td>\n",
       "      <td>999</td>\n",
       "      <td>0</td>\n",
       "      <td>1.1</td>\n",
       "      <td>93.994</td>\n",
       "      <td>-36.4</td>\n",
       "      <td>4.857</td>\n",
       "      <td>5191.0</td>\n",
       "      <td>...</td>\n",
       "      <td>0</td>\n",
       "      <td>0</td>\n",
       "      <td>0</td>\n",
       "      <td>1</td>\n",
       "      <td>0</td>\n",
       "      <td>0</td>\n",
       "      <td>0</td>\n",
       "      <td>1</td>\n",
       "      <td>0</td>\n",
       "      <td>0</td>\n",
       "    </tr>\n",
       "    <tr>\n",
       "      <th>2</th>\n",
       "      <td>37</td>\n",
       "      <td>226</td>\n",
       "      <td>1</td>\n",
       "      <td>999</td>\n",
       "      <td>0</td>\n",
       "      <td>1.1</td>\n",
       "      <td>93.994</td>\n",
       "      <td>-36.4</td>\n",
       "      <td>4.857</td>\n",
       "      <td>5191.0</td>\n",
       "      <td>...</td>\n",
       "      <td>0</td>\n",
       "      <td>0</td>\n",
       "      <td>0</td>\n",
       "      <td>1</td>\n",
       "      <td>0</td>\n",
       "      <td>0</td>\n",
       "      <td>0</td>\n",
       "      <td>1</td>\n",
       "      <td>0</td>\n",
       "      <td>0</td>\n",
       "    </tr>\n",
       "    <tr>\n",
       "      <th>3</th>\n",
       "      <td>40</td>\n",
       "      <td>151</td>\n",
       "      <td>1</td>\n",
       "      <td>999</td>\n",
       "      <td>0</td>\n",
       "      <td>1.1</td>\n",
       "      <td>93.994</td>\n",
       "      <td>-36.4</td>\n",
       "      <td>4.857</td>\n",
       "      <td>5191.0</td>\n",
       "      <td>...</td>\n",
       "      <td>0</td>\n",
       "      <td>0</td>\n",
       "      <td>0</td>\n",
       "      <td>1</td>\n",
       "      <td>0</td>\n",
       "      <td>0</td>\n",
       "      <td>0</td>\n",
       "      <td>1</td>\n",
       "      <td>0</td>\n",
       "      <td>0</td>\n",
       "    </tr>\n",
       "    <tr>\n",
       "      <th>4</th>\n",
       "      <td>56</td>\n",
       "      <td>307</td>\n",
       "      <td>1</td>\n",
       "      <td>999</td>\n",
       "      <td>0</td>\n",
       "      <td>1.1</td>\n",
       "      <td>93.994</td>\n",
       "      <td>-36.4</td>\n",
       "      <td>4.857</td>\n",
       "      <td>5191.0</td>\n",
       "      <td>...</td>\n",
       "      <td>0</td>\n",
       "      <td>0</td>\n",
       "      <td>0</td>\n",
       "      <td>1</td>\n",
       "      <td>0</td>\n",
       "      <td>0</td>\n",
       "      <td>0</td>\n",
       "      <td>1</td>\n",
       "      <td>0</td>\n",
       "      <td>0</td>\n",
       "    </tr>\n",
       "  </tbody>\n",
       "</table>\n",
       "<p>5 rows × 54 columns</p>\n",
       "</div>"
      ],
      "text/plain": [
       "   age  duration  campaign  pdays  previous  emp.var.rate  cons.price.idx  \\\n",
       "0   56       261         1    999         0           1.1          93.994   \n",
       "1   57       149         1    999         0           1.1          93.994   \n",
       "2   37       226         1    999         0           1.1          93.994   \n",
       "3   40       151         1    999         0           1.1          93.994   \n",
       "4   56       307         1    999         0           1.1          93.994   \n",
       "\n",
       "   cons.conf.idx  euribor3m  nr.employed  ...  month_nov  month_oct  \\\n",
       "0          -36.4      4.857       5191.0  ...          0          0   \n",
       "1          -36.4      4.857       5191.0  ...          0          0   \n",
       "2          -36.4      4.857       5191.0  ...          0          0   \n",
       "3          -36.4      4.857       5191.0  ...          0          0   \n",
       "4          -36.4      4.857       5191.0  ...          0          0   \n",
       "\n",
       "   month_sep  day_of_week_mon  day_of_week_thu  day_of_week_tue  \\\n",
       "0          0                1                0                0   \n",
       "1          0                1                0                0   \n",
       "2          0                1                0                0   \n",
       "3          0                1                0                0   \n",
       "4          0                1                0                0   \n",
       "\n",
       "   day_of_week_wed  poutcome_nonexistent  poutcome_success  y_yes  \n",
       "0                0                     1                 0      0  \n",
       "1                0                     1                 0      0  \n",
       "2                0                     1                 0      0  \n",
       "3                0                     1                 0      0  \n",
       "4                0                     1                 0      0  \n",
       "\n",
       "[5 rows x 54 columns]"
      ]
     },
     "execution_count": 14,
     "metadata": {},
     "output_type": "execute_result"
    }
   ],
   "source": [
    "clean_bank_add_full = pd.get_dummies(bank_add_full, drop_first=True)\n",
    "clean_bank_add_full.head()"
   ]
  },
  {
   "cell_type": "markdown",
   "id": "69736c9e",
   "metadata": {},
   "source": [
    "## Drop duration"
   ]
  },
  {
   "cell_type": "code",
   "execution_count": 15,
   "id": "5b426d43",
   "metadata": {},
   "outputs": [],
   "source": [
    "# according to the researchers it is usefull to drop duration\n",
    "clean_bank_add_full = clean_bank_add_full.drop('duration', axis=1)"
   ]
  },
  {
   "cell_type": "code",
   "execution_count": 16,
   "id": "74343e06",
   "metadata": {},
   "outputs": [
    {
     "data": {
      "text/plain": [
       "Index(['age', 'campaign', 'pdays', 'previous', 'emp.var.rate',\n",
       "       'cons.price.idx', 'cons.conf.idx', 'euribor3m', 'nr.employed',\n",
       "       'job_blue-collar', 'job_entrepreneur', 'job_housemaid',\n",
       "       'job_management', 'job_retired', 'job_self-employed', 'job_services',\n",
       "       'job_student', 'job_technician', 'job_unemployed', 'job_unknown',\n",
       "       'marital_married', 'marital_single', 'marital_unknown',\n",
       "       'education_basic.6y', 'education_basic.9y', 'education_high.school',\n",
       "       'education_illiterate', 'education_professional.course',\n",
       "       'education_university.degree', 'education_unknown', 'default_unknown',\n",
       "       'default_yes', 'housing_unknown', 'housing_yes', 'loan_unknown',\n",
       "       'loan_yes', 'contact_telephone', 'month_aug', 'month_dec', 'month_jul',\n",
       "       'month_jun', 'month_mar', 'month_may', 'month_nov', 'month_oct',\n",
       "       'month_sep', 'day_of_week_mon', 'day_of_week_thu', 'day_of_week_tue',\n",
       "       'day_of_week_wed', 'poutcome_nonexistent', 'poutcome_success', 'y_yes'],\n",
       "      dtype='object')"
      ]
     },
     "execution_count": 16,
     "metadata": {},
     "output_type": "execute_result"
    }
   ],
   "source": [
    "clean_bank_add_full.keys()"
   ]
  },
  {
   "cell_type": "markdown",
   "id": "81601451",
   "metadata": {},
   "source": [
    "## Next we define the X & Y"
   ]
  },
  {
   "cell_type": "code",
   "execution_count": 17,
   "id": "b1ad8f45",
   "metadata": {},
   "outputs": [],
   "source": [
    "# We define the x Table and y Table\n",
    "    #x Table contains all ....... (without the outcome)\n",
    "    #y Table only contains the Outcome 0 or 1 (=Success)\n",
    "x = clean_bank_add_full.drop('y_yes', axis=1)       # independant features\n",
    "y = clean_bank_add_full['y_yes']                    # dependent variable"
   ]
  },
  {
   "cell_type": "markdown",
   "id": "51ec841f",
   "metadata": {},
   "source": [
    "## We split the Dataset into Train (0.5) / Validation (0.2) / Test (0.3)"
   ]
  },
  {
   "cell_type": "code",
   "execution_count": 18,
   "id": "a5ec74bf",
   "metadata": {},
   "outputs": [],
   "source": [
    "from sklearn.model_selection import train_test_split\n",
    "\n",
    "# First we split in Train (0.7) & in Test (0.3)\n",
    "# random state means the code will always have the same training set (in order to reproduce results)\n",
    "train1_x, test_x, train1_y, test_y = train_test_split(x, y, test_size=0.3, random_state=42)\n",
    "\n",
    "# Second we split again to get Train (0.5) / Validation (0.2) / Test (0.3)\n",
    "train_x, validation_x, train_y, validation_y = train_test_split(train1_x, train1_y, test_size=(0.2/0.7), random_state=42)"
   ]
  },
  {
   "cell_type": "code",
   "execution_count": 19,
   "metadata": {},
   "outputs": [
    {
     "data": {
      "text/html": [
       "<div>\n",
       "<style scoped>\n",
       "    .dataframe tbody tr th:only-of-type {\n",
       "        vertical-align: middle;\n",
       "    }\n",
       "\n",
       "    .dataframe tbody tr th {\n",
       "        vertical-align: top;\n",
       "    }\n",
       "\n",
       "    .dataframe thead th {\n",
       "        text-align: right;\n",
       "    }\n",
       "</style>\n",
       "<table border=\"1\" class=\"dataframe\">\n",
       "  <thead>\n",
       "    <tr style=\"text-align: right;\">\n",
       "      <th></th>\n",
       "      <th>age</th>\n",
       "      <th>campaign</th>\n",
       "      <th>pdays</th>\n",
       "      <th>previous</th>\n",
       "      <th>emp.var.rate</th>\n",
       "      <th>cons.price.idx</th>\n",
       "      <th>cons.conf.idx</th>\n",
       "      <th>euribor3m</th>\n",
       "      <th>nr.employed</th>\n",
       "      <th>job_blue-collar</th>\n",
       "      <th>...</th>\n",
       "      <th>month_may</th>\n",
       "      <th>month_nov</th>\n",
       "      <th>month_oct</th>\n",
       "      <th>month_sep</th>\n",
       "      <th>day_of_week_mon</th>\n",
       "      <th>day_of_week_thu</th>\n",
       "      <th>day_of_week_tue</th>\n",
       "      <th>day_of_week_wed</th>\n",
       "      <th>poutcome_nonexistent</th>\n",
       "      <th>poutcome_success</th>\n",
       "    </tr>\n",
       "  </thead>\n",
       "  <tbody>\n",
       "    <tr>\n",
       "      <th>39075</th>\n",
       "      <td>29</td>\n",
       "      <td>3</td>\n",
       "      <td>999</td>\n",
       "      <td>1</td>\n",
       "      <td>-3.0</td>\n",
       "      <td>92.713</td>\n",
       "      <td>-33.0</td>\n",
       "      <td>0.709</td>\n",
       "      <td>5023.5</td>\n",
       "      <td>0</td>\n",
       "      <td>...</td>\n",
       "      <td>0</td>\n",
       "      <td>0</td>\n",
       "      <td>0</td>\n",
       "      <td>0</td>\n",
       "      <td>1</td>\n",
       "      <td>0</td>\n",
       "      <td>0</td>\n",
       "      <td>0</td>\n",
       "      <td>0</td>\n",
       "      <td>0</td>\n",
       "    </tr>\n",
       "    <tr>\n",
       "      <th>34855</th>\n",
       "      <td>29</td>\n",
       "      <td>4</td>\n",
       "      <td>999</td>\n",
       "      <td>0</td>\n",
       "      <td>-1.8</td>\n",
       "      <td>92.893</td>\n",
       "      <td>-46.2</td>\n",
       "      <td>1.250</td>\n",
       "      <td>5099.1</td>\n",
       "      <td>0</td>\n",
       "      <td>...</td>\n",
       "      <td>1</td>\n",
       "      <td>0</td>\n",
       "      <td>0</td>\n",
       "      <td>0</td>\n",
       "      <td>0</td>\n",
       "      <td>0</td>\n",
       "      <td>0</td>\n",
       "      <td>0</td>\n",
       "      <td>1</td>\n",
       "      <td>0</td>\n",
       "    </tr>\n",
       "    <tr>\n",
       "      <th>7107</th>\n",
       "      <td>45</td>\n",
       "      <td>2</td>\n",
       "      <td>999</td>\n",
       "      <td>0</td>\n",
       "      <td>1.1</td>\n",
       "      <td>93.994</td>\n",
       "      <td>-36.4</td>\n",
       "      <td>4.860</td>\n",
       "      <td>5191.0</td>\n",
       "      <td>1</td>\n",
       "      <td>...</td>\n",
       "      <td>1</td>\n",
       "      <td>0</td>\n",
       "      <td>0</td>\n",
       "      <td>0</td>\n",
       "      <td>0</td>\n",
       "      <td>1</td>\n",
       "      <td>0</td>\n",
       "      <td>0</td>\n",
       "      <td>1</td>\n",
       "      <td>0</td>\n",
       "    </tr>\n",
       "    <tr>\n",
       "      <th>31614</th>\n",
       "      <td>34</td>\n",
       "      <td>1</td>\n",
       "      <td>999</td>\n",
       "      <td>1</td>\n",
       "      <td>-1.8</td>\n",
       "      <td>92.893</td>\n",
       "      <td>-46.2</td>\n",
       "      <td>1.327</td>\n",
       "      <td>5099.1</td>\n",
       "      <td>0</td>\n",
       "      <td>...</td>\n",
       "      <td>1</td>\n",
       "      <td>0</td>\n",
       "      <td>0</td>\n",
       "      <td>0</td>\n",
       "      <td>0</td>\n",
       "      <td>1</td>\n",
       "      <td>0</td>\n",
       "      <td>0</td>\n",
       "      <td>0</td>\n",
       "      <td>0</td>\n",
       "    </tr>\n",
       "    <tr>\n",
       "      <th>34878</th>\n",
       "      <td>32</td>\n",
       "      <td>9</td>\n",
       "      <td>999</td>\n",
       "      <td>0</td>\n",
       "      <td>-1.8</td>\n",
       "      <td>92.893</td>\n",
       "      <td>-46.2</td>\n",
       "      <td>1.250</td>\n",
       "      <td>5099.1</td>\n",
       "      <td>0</td>\n",
       "      <td>...</td>\n",
       "      <td>1</td>\n",
       "      <td>0</td>\n",
       "      <td>0</td>\n",
       "      <td>0</td>\n",
       "      <td>0</td>\n",
       "      <td>0</td>\n",
       "      <td>0</td>\n",
       "      <td>0</td>\n",
       "      <td>1</td>\n",
       "      <td>0</td>\n",
       "    </tr>\n",
       "  </tbody>\n",
       "</table>\n",
       "<p>5 rows × 52 columns</p>\n",
       "</div>"
      ],
      "text/plain": [
       "       age  campaign  pdays  previous  emp.var.rate  cons.price.idx  \\\n",
       "39075   29         3    999         1          -3.0          92.713   \n",
       "34855   29         4    999         0          -1.8          92.893   \n",
       "7107    45         2    999         0           1.1          93.994   \n",
       "31614   34         1    999         1          -1.8          92.893   \n",
       "34878   32         9    999         0          -1.8          92.893   \n",
       "\n",
       "       cons.conf.idx  euribor3m  nr.employed  job_blue-collar  ...  month_may  \\\n",
       "39075          -33.0      0.709       5023.5                0  ...          0   \n",
       "34855          -46.2      1.250       5099.1                0  ...          1   \n",
       "7107           -36.4      4.860       5191.0                1  ...          1   \n",
       "31614          -46.2      1.327       5099.1                0  ...          1   \n",
       "34878          -46.2      1.250       5099.1                0  ...          1   \n",
       "\n",
       "       month_nov  month_oct  month_sep  day_of_week_mon  day_of_week_thu  \\\n",
       "39075          0          0          0                1                0   \n",
       "34855          0          0          0                0                0   \n",
       "7107           0          0          0                0                1   \n",
       "31614          0          0          0                0                1   \n",
       "34878          0          0          0                0                0   \n",
       "\n",
       "       day_of_week_tue  day_of_week_wed  poutcome_nonexistent  \\\n",
       "39075                0                0                     0   \n",
       "34855                0                0                     1   \n",
       "7107                 0                0                     1   \n",
       "31614                0                0                     0   \n",
       "34878                0                0                     1   \n",
       "\n",
       "       poutcome_success  \n",
       "39075                 0  \n",
       "34855                 0  \n",
       "7107                  0  \n",
       "31614                 0  \n",
       "34878                 0  \n",
       "\n",
       "[5 rows x 52 columns]"
      ]
     },
     "execution_count": 19,
     "metadata": {},
     "output_type": "execute_result"
    }
   ],
   "source": [
    "train1_x.head()"
   ]
  },
  {
   "cell_type": "code",
   "execution_count": 20,
   "id": "029ee429",
   "metadata": {},
   "outputs": [
    {
     "name": "stdout",
     "output_type": "stream",
     "text": [
      "Shape of train_x             : (20593, 52)\n",
      "Shape of validation_x        : (8238, 52)\n",
      "Shape of test_x              : (12357, 52)\n",
      "Shape of train_y             : (20593,)\n",
      "Shape of validation_y        : (8238,)\n",
      "Shape of test_y              : (12357,)\n",
      "\n",
      "Lenght of Dataset            :  41188\n",
      "Percentage of Train          :  50.00 %\n",
      "Percentage of Validation     :  20.00 %\n",
      "Percentage of Test           :  30.00 %\n"
     ]
    }
   ],
   "source": [
    "#Quick check if the split is correct:\n",
    "print(\"Shape of train_x             : \"+str(train_x.shape))\n",
    "print(\"Shape of validation_x        : \"+str(validation_x.shape))\n",
    "print(\"Shape of test_x              : \"+str(test_x.shape))\n",
    "print(\"Shape of train_y             : \"+str(train_y.shape))\n",
    "print(\"Shape of validation_y        : \"+str(validation_y.shape))\n",
    "print(\"Shape of test_y              : \"+str(test_y.shape))\n",
    "print('')\n",
    "print(\"Lenght of Dataset            : \", len(x))\n",
    "print(\"Percentage of Train          : \", '{:.2f}'.format(len(train_x)/len(x)*100), '%')\n",
    "print(\"Percentage of Validation     : \", '{:.2f}'.format(len(validation_x)/len(x)*100), '%')\n",
    "print(\"Percentage of Test           : \", '{:.2f}'.format(len(test_x)/len(x)*100), '%')\n"
   ]
  },
  {
   "cell_type": "markdown",
   "id": "9cb767be",
   "metadata": {},
   "source": [
    "## Linear Regression"
   ]
  },
  {
   "cell_type": "markdown",
   "id": "dd38e901",
   "metadata": {},
   "source": [
    "## OLS"
   ]
  },
  {
   "cell_type": "code",
   "execution_count": 21,
   "id": "8c1c24fb",
   "metadata": {},
   "outputs": [
    {
     "data": {
      "text/html": [
       "<table class=\"simpletable\">\n",
       "<caption>OLS Regression Results</caption>\n",
       "<tr>\n",
       "  <th>Dep. Variable:</th>          <td>y_yes</td>      <th>  R-squared:         </th> <td>   0.218</td>\n",
       "</tr>\n",
       "<tr>\n",
       "  <th>Model:</th>                   <td>OLS</td>       <th>  Adj. R-squared:    </th> <td>   0.216</td>\n",
       "</tr>\n",
       "<tr>\n",
       "  <th>Method:</th>             <td>Least Squares</td>  <th>  F-statistic:       </th> <td>   112.2</td>\n",
       "</tr>\n",
       "<tr>\n",
       "  <th>Date:</th>             <td>Fri, 10 Jun 2022</td> <th>  Prob (F-statistic):</th>  <td>  0.00</td> \n",
       "</tr>\n",
       "<tr>\n",
       "  <th>Time:</th>                 <td>10:51:45</td>     <th>  Log-Likelihood:    </th> <td> -2938.6</td>\n",
       "</tr>\n",
       "<tr>\n",
       "  <th>No. Observations:</th>      <td> 20593</td>      <th>  AIC:               </th> <td>   5981.</td>\n",
       "</tr>\n",
       "<tr>\n",
       "  <th>Df Residuals:</th>          <td> 20541</td>      <th>  BIC:               </th> <td>   6394.</td>\n",
       "</tr>\n",
       "<tr>\n",
       "  <th>Df Model:</th>              <td>    51</td>      <th>                     </th>     <td> </td>   \n",
       "</tr>\n",
       "<tr>\n",
       "  <th>Covariance Type:</th>      <td>nonrobust</td>    <th>                     </th>     <td> </td>   \n",
       "</tr>\n",
       "</table>\n",
       "<table class=\"simpletable\">\n",
       "<tr>\n",
       "                <td></td>                   <th>coef</th>     <th>std err</th>      <th>t</th>      <th>P>|t|</th>  <th>[0.025</th>    <th>0.975]</th>  \n",
       "</tr>\n",
       "<tr>\n",
       "  <th>const</th>                         <td>  -29.5598</td> <td>    4.757</td> <td>   -6.214</td> <td> 0.000</td> <td>  -38.883</td> <td>  -20.236</td>\n",
       "</tr>\n",
       "<tr>\n",
       "  <th>age</th>                           <td>-7.257e-05</td> <td>    0.000</td> <td>   -0.298</td> <td> 0.766</td> <td>   -0.001</td> <td>    0.000</td>\n",
       "</tr>\n",
       "<tr>\n",
       "  <th>campaign</th>                      <td>   -0.0023</td> <td>    0.001</td> <td>   -3.175</td> <td> 0.002</td> <td>   -0.004</td> <td>   -0.001</td>\n",
       "</tr>\n",
       "<tr>\n",
       "  <th>pdays</th>                         <td>   -0.0003</td> <td> 3.59e-05</td> <td>   -8.300</td> <td> 0.000</td> <td>   -0.000</td> <td>   -0.000</td>\n",
       "</tr>\n",
       "<tr>\n",
       "  <th>previous</th>                      <td>   -0.0197</td> <td>    0.010</td> <td>   -2.041</td> <td> 0.041</td> <td>   -0.039</td> <td>   -0.001</td>\n",
       "</tr>\n",
       "<tr>\n",
       "  <th>emp.var.rate</th>                  <td>   -0.2256</td> <td>    0.019</td> <td>  -11.790</td> <td> 0.000</td> <td>   -0.263</td> <td>   -0.188</td>\n",
       "</tr>\n",
       "<tr>\n",
       "  <th>cons.price.idx</th>                <td>    0.2936</td> <td>    0.032</td> <td>    9.254</td> <td> 0.000</td> <td>    0.231</td> <td>    0.356</td>\n",
       "</tr>\n",
       "<tr>\n",
       "  <th>cons.conf.idx</th>                 <td>    0.0045</td> <td>    0.001</td> <td>    4.078</td> <td> 0.000</td> <td>    0.002</td> <td>    0.007</td>\n",
       "</tr>\n",
       "<tr>\n",
       "  <th>euribor3m</th>                     <td>    0.0688</td> <td>    0.016</td> <td>    4.320</td> <td> 0.000</td> <td>    0.038</td> <td>    0.100</td>\n",
       "</tr>\n",
       "<tr>\n",
       "  <th>nr.employed</th>                   <td>    0.0005</td> <td>    0.000</td> <td>    1.249</td> <td> 0.212</td> <td>   -0.000</td> <td>    0.001</td>\n",
       "</tr>\n",
       "<tr>\n",
       "  <th>job_blue-collar</th>               <td>   -0.0048</td> <td>    0.007</td> <td>   -0.658</td> <td> 0.511</td> <td>   -0.019</td> <td>    0.009</td>\n",
       "</tr>\n",
       "<tr>\n",
       "  <th>job_entrepreneur</th>              <td>   -0.0004</td> <td>    0.011</td> <td>   -0.032</td> <td> 0.975</td> <td>   -0.023</td> <td>    0.022</td>\n",
       "</tr>\n",
       "<tr>\n",
       "  <th>job_housemaid</th>                 <td>   -0.0152</td> <td>    0.013</td> <td>   -1.139</td> <td> 0.255</td> <td>   -0.041</td> <td>    0.011</td>\n",
       "</tr>\n",
       "<tr>\n",
       "  <th>job_management</th>                <td>   -0.0061</td> <td>    0.009</td> <td>   -0.715</td> <td> 0.475</td> <td>   -0.023</td> <td>    0.011</td>\n",
       "</tr>\n",
       "<tr>\n",
       "  <th>job_retired</th>                   <td>    0.0321</td> <td>    0.012</td> <td>    2.679</td> <td> 0.007</td> <td>    0.009</td> <td>    0.056</td>\n",
       "</tr>\n",
       "<tr>\n",
       "  <th>job_self-employed</th>             <td>   -0.0142</td> <td>    0.011</td> <td>   -1.280</td> <td> 0.200</td> <td>   -0.036</td> <td>    0.008</td>\n",
       "</tr>\n",
       "<tr>\n",
       "  <th>job_services</th>                  <td>   -0.0078</td> <td>    0.008</td> <td>   -0.991</td> <td> 0.322</td> <td>   -0.023</td> <td>    0.008</td>\n",
       "</tr>\n",
       "<tr>\n",
       "  <th>job_student</th>                   <td>    0.0297</td> <td>    0.014</td> <td>    2.057</td> <td> 0.040</td> <td>    0.001</td> <td>    0.058</td>\n",
       "</tr>\n",
       "<tr>\n",
       "  <th>job_technician</th>                <td>    0.0007</td> <td>    0.007</td> <td>    0.102</td> <td> 0.919</td> <td>   -0.013</td> <td>    0.014</td>\n",
       "</tr>\n",
       "<tr>\n",
       "  <th>job_unemployed</th>                <td>    0.0130</td> <td>    0.013</td> <td>    0.989</td> <td> 0.323</td> <td>   -0.013</td> <td>    0.039</td>\n",
       "</tr>\n",
       "<tr>\n",
       "  <th>job_unknown</th>                   <td>   -0.0233</td> <td>    0.023</td> <td>   -1.033</td> <td> 0.302</td> <td>   -0.068</td> <td>    0.021</td>\n",
       "</tr>\n",
       "<tr>\n",
       "  <th>marital_married</th>               <td>    0.0011</td> <td>    0.006</td> <td>    0.164</td> <td> 0.870</td> <td>   -0.012</td> <td>    0.014</td>\n",
       "</tr>\n",
       "<tr>\n",
       "  <th>marital_single</th>                <td>   -0.0011</td> <td>    0.007</td> <td>   -0.152</td> <td> 0.880</td> <td>   -0.016</td> <td>    0.013</td>\n",
       "</tr>\n",
       "<tr>\n",
       "  <th>marital_unknown</th>               <td>    0.0248</td> <td>    0.042</td> <td>    0.587</td> <td> 0.557</td> <td>   -0.058</td> <td>    0.108</td>\n",
       "</tr>\n",
       "<tr>\n",
       "  <th>education_basic.6y</th>            <td>    0.0011</td> <td>    0.010</td> <td>    0.104</td> <td> 0.917</td> <td>   -0.019</td> <td>    0.022</td>\n",
       "</tr>\n",
       "<tr>\n",
       "  <th>education_basic.9y</th>            <td>   -0.0084</td> <td>    0.008</td> <td>   -1.019</td> <td> 0.308</td> <td>   -0.025</td> <td>    0.008</td>\n",
       "</tr>\n",
       "<tr>\n",
       "  <th>education_high.school</th>         <td>   -0.0010</td> <td>    0.009</td> <td>   -0.114</td> <td> 0.909</td> <td>   -0.018</td> <td>    0.016</td>\n",
       "</tr>\n",
       "<tr>\n",
       "  <th>education_illiterate</th>          <td>    0.1210</td> <td>    0.099</td> <td>    1.221</td> <td> 0.222</td> <td>   -0.073</td> <td>    0.315</td>\n",
       "</tr>\n",
       "<tr>\n",
       "  <th>education_professional.course</th> <td>    0.0029</td> <td>    0.010</td> <td>    0.306</td> <td> 0.760</td> <td>   -0.016</td> <td>    0.022</td>\n",
       "</tr>\n",
       "<tr>\n",
       "  <th>education_university.degree</th>   <td>    0.0113</td> <td>    0.009</td> <td>    1.293</td> <td> 0.196</td> <td>   -0.006</td> <td>    0.028</td>\n",
       "</tr>\n",
       "<tr>\n",
       "  <th>education_unknown</th>             <td>   -0.0099</td> <td>    0.012</td> <td>   -0.856</td> <td> 0.392</td> <td>   -0.033</td> <td>    0.013</td>\n",
       "</tr>\n",
       "<tr>\n",
       "  <th>default_unknown</th>               <td>   -0.0085</td> <td>    0.005</td> <td>   -1.654</td> <td> 0.098</td> <td>   -0.019</td> <td>    0.002</td>\n",
       "</tr>\n",
       "<tr>\n",
       "  <th>default_yes</th>                   <td>   -0.0564</td> <td>    0.280</td> <td>   -0.202</td> <td> 0.840</td> <td>   -0.604</td> <td>    0.492</td>\n",
       "</tr>\n",
       "<tr>\n",
       "  <th>housing_unknown</th>               <td>   -0.0052</td> <td>    0.006</td> <td>   -0.825</td> <td> 0.409</td> <td>   -0.018</td> <td>    0.007</td>\n",
       "</tr>\n",
       "<tr>\n",
       "  <th>housing_yes</th>                   <td>   -0.0031</td> <td>    0.004</td> <td>   -0.781</td> <td> 0.435</td> <td>   -0.011</td> <td>    0.005</td>\n",
       "</tr>\n",
       "<tr>\n",
       "  <th>loan_unknown</th>                  <td>   -0.0052</td> <td>    0.006</td> <td>   -0.825</td> <td> 0.409</td> <td>   -0.018</td> <td>    0.007</td>\n",
       "</tr>\n",
       "<tr>\n",
       "  <th>loan_yes</th>                      <td>    0.0050</td> <td>    0.005</td> <td>    0.923</td> <td> 0.356</td> <td>   -0.006</td> <td>    0.016</td>\n",
       "</tr>\n",
       "<tr>\n",
       "  <th>contact_telephone</th>             <td>   -0.0675</td> <td>    0.008</td> <td>   -8.719</td> <td> 0.000</td> <td>   -0.083</td> <td>   -0.052</td>\n",
       "</tr>\n",
       "<tr>\n",
       "  <th>month_aug</th>                     <td>    0.1083</td> <td>    0.018</td> <td>    6.071</td> <td> 0.000</td> <td>    0.073</td> <td>    0.143</td>\n",
       "</tr>\n",
       "<tr>\n",
       "  <th>month_dec</th>                     <td>    0.1118</td> <td>    0.032</td> <td>    3.513</td> <td> 0.000</td> <td>    0.049</td> <td>    0.174</td>\n",
       "</tr>\n",
       "<tr>\n",
       "  <th>month_jul</th>                     <td>    0.0274</td> <td>    0.011</td> <td>    2.481</td> <td> 0.013</td> <td>    0.006</td> <td>    0.049</td>\n",
       "</tr>\n",
       "<tr>\n",
       "  <th>month_jun</th>                     <td>   -0.0899</td> <td>    0.018</td> <td>   -5.104</td> <td> 0.000</td> <td>   -0.124</td> <td>   -0.055</td>\n",
       "</tr>\n",
       "<tr>\n",
       "  <th>month_mar</th>                     <td>    0.2662</td> <td>    0.022</td> <td>   12.245</td> <td> 0.000</td> <td>    0.224</td> <td>    0.309</td>\n",
       "</tr>\n",
       "<tr>\n",
       "  <th>month_may</th>                     <td>   -0.0395</td> <td>    0.010</td> <td>   -3.784</td> <td> 0.000</td> <td>   -0.060</td> <td>   -0.019</td>\n",
       "</tr>\n",
       "<tr>\n",
       "  <th>month_nov</th>                     <td>   -0.0398</td> <td>    0.013</td> <td>   -2.980</td> <td> 0.003</td> <td>   -0.066</td> <td>   -0.014</td>\n",
       "</tr>\n",
       "<tr>\n",
       "  <th>month_oct</th>                     <td>    0.0020</td> <td>    0.020</td> <td>    0.096</td> <td> 0.923</td> <td>   -0.038</td> <td>    0.042</td>\n",
       "</tr>\n",
       "<tr>\n",
       "  <th>month_sep</th>                     <td>    0.0415</td> <td>    0.025</td> <td>    1.642</td> <td> 0.101</td> <td>   -0.008</td> <td>    0.091</td>\n",
       "</tr>\n",
       "<tr>\n",
       "  <th>day_of_week_mon</th>               <td>   -0.0122</td> <td>    0.006</td> <td>   -1.960</td> <td> 0.050</td> <td>   -0.024</td> <td> 1.01e-06</td>\n",
       "</tr>\n",
       "<tr>\n",
       "  <th>day_of_week_thu</th>               <td>    0.0132</td> <td>    0.006</td> <td>    2.130</td> <td> 0.033</td> <td>    0.001</td> <td>    0.025</td>\n",
       "</tr>\n",
       "<tr>\n",
       "  <th>day_of_week_tue</th>               <td>    0.0045</td> <td>    0.006</td> <td>    0.711</td> <td> 0.477</td> <td>   -0.008</td> <td>    0.017</td>\n",
       "</tr>\n",
       "<tr>\n",
       "  <th>day_of_week_wed</th>               <td>    0.0183</td> <td>    0.006</td> <td>    2.922</td> <td> 0.003</td> <td>    0.006</td> <td>    0.031</td>\n",
       "</tr>\n",
       "<tr>\n",
       "  <th>poutcome_nonexistent</th>          <td>    0.0305</td> <td>    0.013</td> <td>    2.363</td> <td> 0.018</td> <td>    0.005</td> <td>    0.056</td>\n",
       "</tr>\n",
       "<tr>\n",
       "  <th>poutcome_success</th>              <td>    0.0839</td> <td>    0.035</td> <td>    2.366</td> <td> 0.018</td> <td>    0.014</td> <td>    0.153</td>\n",
       "</tr>\n",
       "</table>\n",
       "<table class=\"simpletable\">\n",
       "<tr>\n",
       "  <th>Omnibus:</th>       <td>8326.874</td> <th>  Durbin-Watson:     </th> <td>   1.998</td> \n",
       "</tr>\n",
       "<tr>\n",
       "  <th>Prob(Omnibus):</th>  <td> 0.000</td>  <th>  Jarque-Bera (JB):  </th> <td>33466.471</td>\n",
       "</tr>\n",
       "<tr>\n",
       "  <th>Skew:</th>           <td> 2.023</td>  <th>  Prob(JB):          </th> <td>    0.00</td> \n",
       "</tr>\n",
       "<tr>\n",
       "  <th>Kurtosis:</th>       <td> 7.758</td>  <th>  Cond. No.          </th> <td>1.00e+16</td> \n",
       "</tr>\n",
       "</table><br/><br/>Notes:<br/>[1] Standard Errors assume that the covariance matrix of the errors is correctly specified.<br/>[2] The smallest eigenvalue is 5.68e-21. This might indicate that there are<br/>strong multicollinearity problems or that the design matrix is singular."
      ],
      "text/plain": [
       "<class 'statsmodels.iolib.summary.Summary'>\n",
       "\"\"\"\n",
       "                            OLS Regression Results                            \n",
       "==============================================================================\n",
       "Dep. Variable:                  y_yes   R-squared:                       0.218\n",
       "Model:                            OLS   Adj. R-squared:                  0.216\n",
       "Method:                 Least Squares   F-statistic:                     112.2\n",
       "Date:                Fri, 10 Jun 2022   Prob (F-statistic):               0.00\n",
       "Time:                        10:51:45   Log-Likelihood:                -2938.6\n",
       "No. Observations:               20593   AIC:                             5981.\n",
       "Df Residuals:                   20541   BIC:                             6394.\n",
       "Df Model:                          51                                         \n",
       "Covariance Type:            nonrobust                                         \n",
       "=================================================================================================\n",
       "                                    coef    std err          t      P>|t|      [0.025      0.975]\n",
       "-------------------------------------------------------------------------------------------------\n",
       "const                           -29.5598      4.757     -6.214      0.000     -38.883     -20.236\n",
       "age                           -7.257e-05      0.000     -0.298      0.766      -0.001       0.000\n",
       "campaign                         -0.0023      0.001     -3.175      0.002      -0.004      -0.001\n",
       "pdays                            -0.0003   3.59e-05     -8.300      0.000      -0.000      -0.000\n",
       "previous                         -0.0197      0.010     -2.041      0.041      -0.039      -0.001\n",
       "emp.var.rate                     -0.2256      0.019    -11.790      0.000      -0.263      -0.188\n",
       "cons.price.idx                    0.2936      0.032      9.254      0.000       0.231       0.356\n",
       "cons.conf.idx                     0.0045      0.001      4.078      0.000       0.002       0.007\n",
       "euribor3m                         0.0688      0.016      4.320      0.000       0.038       0.100\n",
       "nr.employed                       0.0005      0.000      1.249      0.212      -0.000       0.001\n",
       "job_blue-collar                  -0.0048      0.007     -0.658      0.511      -0.019       0.009\n",
       "job_entrepreneur                 -0.0004      0.011     -0.032      0.975      -0.023       0.022\n",
       "job_housemaid                    -0.0152      0.013     -1.139      0.255      -0.041       0.011\n",
       "job_management                   -0.0061      0.009     -0.715      0.475      -0.023       0.011\n",
       "job_retired                       0.0321      0.012      2.679      0.007       0.009       0.056\n",
       "job_self-employed                -0.0142      0.011     -1.280      0.200      -0.036       0.008\n",
       "job_services                     -0.0078      0.008     -0.991      0.322      -0.023       0.008\n",
       "job_student                       0.0297      0.014      2.057      0.040       0.001       0.058\n",
       "job_technician                    0.0007      0.007      0.102      0.919      -0.013       0.014\n",
       "job_unemployed                    0.0130      0.013      0.989      0.323      -0.013       0.039\n",
       "job_unknown                      -0.0233      0.023     -1.033      0.302      -0.068       0.021\n",
       "marital_married                   0.0011      0.006      0.164      0.870      -0.012       0.014\n",
       "marital_single                   -0.0011      0.007     -0.152      0.880      -0.016       0.013\n",
       "marital_unknown                   0.0248      0.042      0.587      0.557      -0.058       0.108\n",
       "education_basic.6y                0.0011      0.010      0.104      0.917      -0.019       0.022\n",
       "education_basic.9y               -0.0084      0.008     -1.019      0.308      -0.025       0.008\n",
       "education_high.school            -0.0010      0.009     -0.114      0.909      -0.018       0.016\n",
       "education_illiterate              0.1210      0.099      1.221      0.222      -0.073       0.315\n",
       "education_professional.course     0.0029      0.010      0.306      0.760      -0.016       0.022\n",
       "education_university.degree       0.0113      0.009      1.293      0.196      -0.006       0.028\n",
       "education_unknown                -0.0099      0.012     -0.856      0.392      -0.033       0.013\n",
       "default_unknown                  -0.0085      0.005     -1.654      0.098      -0.019       0.002\n",
       "default_yes                      -0.0564      0.280     -0.202      0.840      -0.604       0.492\n",
       "housing_unknown                  -0.0052      0.006     -0.825      0.409      -0.018       0.007\n",
       "housing_yes                      -0.0031      0.004     -0.781      0.435      -0.011       0.005\n",
       "loan_unknown                     -0.0052      0.006     -0.825      0.409      -0.018       0.007\n",
       "loan_yes                          0.0050      0.005      0.923      0.356      -0.006       0.016\n",
       "contact_telephone                -0.0675      0.008     -8.719      0.000      -0.083      -0.052\n",
       "month_aug                         0.1083      0.018      6.071      0.000       0.073       0.143\n",
       "month_dec                         0.1118      0.032      3.513      0.000       0.049       0.174\n",
       "month_jul                         0.0274      0.011      2.481      0.013       0.006       0.049\n",
       "month_jun                        -0.0899      0.018     -5.104      0.000      -0.124      -0.055\n",
       "month_mar                         0.2662      0.022     12.245      0.000       0.224       0.309\n",
       "month_may                        -0.0395      0.010     -3.784      0.000      -0.060      -0.019\n",
       "month_nov                        -0.0398      0.013     -2.980      0.003      -0.066      -0.014\n",
       "month_oct                         0.0020      0.020      0.096      0.923      -0.038       0.042\n",
       "month_sep                         0.0415      0.025      1.642      0.101      -0.008       0.091\n",
       "day_of_week_mon                  -0.0122      0.006     -1.960      0.050      -0.024    1.01e-06\n",
       "day_of_week_thu                   0.0132      0.006      2.130      0.033       0.001       0.025\n",
       "day_of_week_tue                   0.0045      0.006      0.711      0.477      -0.008       0.017\n",
       "day_of_week_wed                   0.0183      0.006      2.922      0.003       0.006       0.031\n",
       "poutcome_nonexistent              0.0305      0.013      2.363      0.018       0.005       0.056\n",
       "poutcome_success                  0.0839      0.035      2.366      0.018       0.014       0.153\n",
       "==============================================================================\n",
       "Omnibus:                     8326.874   Durbin-Watson:                   1.998\n",
       "Prob(Omnibus):                  0.000   Jarque-Bera (JB):            33466.471\n",
       "Skew:                           2.023   Prob(JB):                         0.00\n",
       "Kurtosis:                       7.758   Cond. No.                     1.00e+16\n",
       "==============================================================================\n",
       "\n",
       "Notes:\n",
       "[1] Standard Errors assume that the covariance matrix of the errors is correctly specified.\n",
       "[2] The smallest eigenvalue is 5.68e-21. This might indicate that there are\n",
       "strong multicollinearity problems or that the design matrix is singular.\n",
       "\"\"\""
      ]
     },
     "execution_count": 21,
     "metadata": {},
     "output_type": "execute_result"
    }
   ],
   "source": [
    "x = train_x\n",
    "xcon = sm.add_constant(x)\n",
    "model = sm.OLS(train_y, xcon)\n",
    "results = model.fit()\n",
    "results.summary()"
   ]
  },
  {
   "cell_type": "code",
   "execution_count": 22,
   "id": "63e9a689",
   "metadata": {},
   "outputs": [
    {
     "name": "stdout",
     "output_type": "stream",
     "text": [
      "OLS Estimates               :  [-6.38505826e+00 -1.26834090e+01 -1.64788788e-02 -1.94044798e+01\n",
      " -1.64169706e+02  3.03640624e+01 -6.53039018e+00  1.58739663e+02\n",
      " -6.82180242e-01  2.36499188e+00  7.24935578e+00  6.86571076e+00\n",
      "  1.57120700e+01  4.65027859e+01  1.13086770e+01 -3.60432730e-01\n",
      " -2.78412714e+00  9.68187614e+00  3.78380235e+01  2.22254330e+01\n",
      " -1.11066819e+00  1.27076946e+00  9.32474357e+01 -1.75504302e+01\n",
      " -1.38354397e+00  4.11455861e+00  2.33504322e+02 -1.44439406e+01\n",
      " -4.03253794e+00  6.98303504e+00  1.54515657e+01 -1.02922540e+02\n",
      "  9.20796923e+18 -1.12137385e+02 -9.20796923e+18  7.03778889e-02\n",
      "  6.87901446e+00  1.36273707e+01  7.53597789e+00  6.79113880e+00\n",
      "  1.42685237e+00  1.07990210e+01 -1.54650127e-01  1.12909656e+01\n",
      "  8.20355802e+00  4.47766335e+00 -1.09083019e+01 -1.06450097e+01\n",
      " -6.67463124e+00 -4.60116847e+00 -1.03940133e+00 -4.48032872e-01]\n"
     ]
    },
    {
     "ename": "NameError",
     "evalue": "name 'xs' is not defined",
     "output_type": "error",
     "traceback": [
      "\u001b[1;31m---------------------------------------------------------------------------\u001b[0m",
      "\u001b[1;31mNameError\u001b[0m                                 Traceback (most recent call last)",
      "\u001b[1;32mc:\\Users\\Raphael\\OneDrive\\Dokumente\\GitHub\\AQM-UCI-Machine-Learning\\AQM Test.ipynb Cell 32'\u001b[0m in \u001b[0;36m<cell line: 8>\u001b[1;34m()\u001b[0m\n\u001b[0;32m      <a href='vscode-notebook-cell:/c%3A/Users/Raphael/OneDrive/Dokumente/GitHub/AQM-UCI-Machine-Learning/AQM%20Test.ipynb#ch0000095?line=4'>5</a>\u001b[0m \u001b[39mprint\u001b[39m(\u001b[39m\"\u001b[39m\u001b[39mOLS Estimates               : \u001b[39m\u001b[39m\"\u001b[39m, betaOLS)\n\u001b[0;32m      <a href='vscode-notebook-cell:/c%3A/Users/Raphael/OneDrive/Dokumente/GitHub/AQM-UCI-Machine-Learning/AQM%20Test.ipynb#ch0000095?line=6'>7</a>\u001b[0m lam \u001b[39m=\u001b[39m \u001b[39m50\u001b[39m\n\u001b[1;32m----> <a href='vscode-notebook-cell:/c%3A/Users/Raphael/OneDrive/Dokumente/GitHub/AQM-UCI-Machine-Learning/AQM%20Test.ipynb#ch0000095?line=7'>8</a>\u001b[0m betaRidge \u001b[39m=\u001b[39m np\u001b[39m.\u001b[39mdot(np\u001b[39m.\u001b[39mlinalg\u001b[39m.\u001b[39minv(np\u001b[39m.\u001b[39mdot(train_x\u001b[39m.\u001b[39mT,train_x)\u001b[39m+\u001b[39mlam\u001b[39m*\u001b[39mnp\u001b[39m.\u001b[39midentity(np\u001b[39m.\u001b[39mshape(xs)[\u001b[39m1\u001b[39m])),np\u001b[39m.\u001b[39mdot(train_x\u001b[39m.\u001b[39mT,train_y))\n\u001b[0;32m      <a href='vscode-notebook-cell:/c%3A/Users/Raphael/OneDrive/Dokumente/GitHub/AQM-UCI-Machine-Learning/AQM%20Test.ipynb#ch0000095?line=8'>9</a>\u001b[0m \u001b[39mprint\u001b[39m(\u001b[39m\"\u001b[39m\u001b[39mOwn Ridge Estimates         : \u001b[39m\u001b[39m\"\u001b[39m, np\u001b[39m.\u001b[39mappend(np\u001b[39m.\u001b[39mmean(y),betaRidge))\n\u001b[0;32m     <a href='vscode-notebook-cell:/c%3A/Users/Raphael/OneDrive/Dokumente/GitHub/AQM-UCI-Machine-Learning/AQM%20Test.ipynb#ch0000095?line=10'>11</a>\u001b[0m lr \u001b[39m=\u001b[39m LinearRegression()\n",
      "\u001b[1;31mNameError\u001b[0m: name 'xs' is not defined"
     ]
    }
   ],
   "source": [
    "from sklearn.linear_model import LinearRegression\n",
    "from sklearn.linear_model import Ridge\n",
    "\n",
    "betaOLS = np.dot(np.linalg.inv(np.dot(train_x.T,train_x)),np.dot(train_x.T,train_y))\n",
    "print(\"OLS Estimates               : \", betaOLS)\n",
    "\n",
    "lam = 50\n",
    "betaRidge = np.dot(np.linalg.inv(np.dot(train_x.T,train_x)+lam*np.identity(np.shape(xs)[1])),np.dot(train_x.T,train_y))\n",
    "print(\"Own Ridge Estimates         : \", np.append(np.mean(y),betaRidge))\n",
    "\n",
    "lr = LinearRegression()\n",
    "lr.fit(train_x,train_y)\n",
    "rr = Ridge(alpha=lam, fit_intercept=True, solver='sparse_cg')\n",
    "rr.fit(train_x, train_y)\n",
    "print(\"Ridge Estimates from package: \",np.append(rr.intercept_,rr.coef_))"
   ]
  },
  {
   "cell_type": "code",
   "execution_count": 36,
   "id": "f6ff2352",
   "metadata": {},
   "outputs": [
    {
     "name": "stderr",
     "output_type": "stream",
     "text": [
      "c:\\Users\\Raphael\\AppData\\Local\\Programs\\Python\\Python310\\lib\\site-packages\\statsmodels\\discrete\\discrete_model.py:1819: RuntimeWarning: overflow encountered in exp\n",
      "  return 1/(1+np.exp(-X))\n",
      "c:\\Users\\Raphael\\AppData\\Local\\Programs\\Python\\Python310\\lib\\site-packages\\statsmodels\\discrete\\discrete_model.py:1872: RuntimeWarning: divide by zero encountered in log\n",
      "  return np.sum(np.log(self.cdf(q*np.dot(X,params))))\n",
      "c:\\Users\\Raphael\\AppData\\Local\\Programs\\Python\\Python310\\lib\\site-packages\\statsmodels\\base\\model.py:604: ConvergenceWarning: Maximum Likelihood optimization failed to converge. Check mle_retvals\n",
      "  warnings.warn(\"Maximum Likelihood optimization failed to \"\n"
     ]
    },
    {
     "name": "stdout",
     "output_type": "stream",
     "text": [
      "Warning: Maximum number of iterations has been exceeded.\n",
      "         Current function value: inf\n",
      "         Iterations: 35\n",
      "                           Logit Regression Results                           \n",
      "==============================================================================\n",
      "Dep. Variable:                  y_yes   No. Observations:                20593\n",
      "Model:                          Logit   Df Residuals:                    20542\n",
      "Method:                           MLE   Df Model:                           50\n",
      "Date:                Fri, 10 Jun 2022   Pseudo R-squ.:                     inf\n",
      "Time:                        13:59:15   Log-Likelihood:                   -inf\n",
      "converged:                      False   LL-Null:                        0.0000\n",
      "Covariance Type:            nonrobust   LLR p-value:                     1.000\n",
      "=================================================================================================\n",
      "                                    coef    std err          z      P>|z|      [0.025      0.975]\n",
      "-------------------------------------------------------------------------------------------------\n",
      "age                              -0.0007      0.003     -0.203      0.839      -0.007       0.006\n",
      "campaign                         -0.0528      0.016     -3.395      0.001      -0.083      -0.022\n",
      "pdays                            -0.0015      0.000     -5.507      0.000      -0.002      -0.001\n",
      "previous                         -0.0781      0.077     -1.014      0.311      -0.229       0.073\n",
      "emp.var.rate                     -0.8665      0.114     -7.593      0.000      -1.090      -0.643\n",
      "cons.price.idx                    0.5741      0.052     11.001      0.000       0.472       0.676\n",
      "cons.conf.idx                    -0.0031      0.006     -0.528      0.597      -0.015       0.008\n",
      "euribor3m                         0.6827      0.136      5.009      0.000       0.416       0.950\n",
      "nr.employed                      -0.0110      0.001    -10.777      0.000      -0.013      -0.009\n",
      "job_blue-collar                  -0.0740      0.094     -0.786      0.432      -0.259       0.111\n",
      "job_entrepreneur                  0.0139      0.150      0.093      0.926      -0.280       0.307\n",
      "job_housemaid                    -0.2462      0.195     -1.264      0.206      -0.628       0.136\n",
      "job_management                   -0.0757      0.109     -0.694      0.488      -0.289       0.138\n",
      "job_retired                       0.2769      0.091      3.038      0.002       0.098       0.456\n",
      "job_self-employed                -0.2087      0.150     -1.395      0.163      -0.502       0.085\n",
      "job_services                     -0.1179      0.107     -1.101      0.271      -0.328       0.092\n",
      "job_student                       0.2531      0.141      1.795      0.073      -0.023       0.529\n",
      "job_technician                   -0.0023      0.087     -0.027      0.979      -0.173       0.169\n",
      "job_unemployed                    0.1299      0.153      0.846      0.397      -0.171       0.431\n",
      "job_unknown                      -0.3992      0.327     -1.221      0.222      -1.040       0.242\n",
      "marital_married                   0.0038      0.085      0.045      0.964      -0.162       0.170\n",
      "marital_single                   -0.0274      0.097     -0.283      0.777      -0.217       0.162\n",
      "marital_unknown                   0.3043      0.512      0.595      0.552      -0.698       1.307\n",
      "education_basic.6y                0.0306      0.143      0.214      0.830      -0.249       0.310\n",
      "education_basic.9y               -0.1162      0.107     -1.087      0.277      -0.326       0.093\n",
      "education_high.school            -0.0089      0.116     -0.077      0.939      -0.236       0.219\n",
      "education_illiterate              0.8892      0.923      0.963      0.336      -0.921       2.699\n",
      "education_professional.course     0.0396      0.108      0.365      0.715      -0.173       0.252\n",
      "education_university.degree       0.1303      0.128      1.014      0.311      -0.122       0.382\n",
      "education_unknown                -0.1030      0.159     -0.646      0.518      -0.416       0.210\n",
      "default_unknown                  -0.1663      0.067     -2.479      0.013      -0.298      -0.035\n",
      "default_yes                      -5.8874     73.751     -0.080      0.936    -150.437     138.662\n",
      "housing_unknown                  -0.0646        nan        nan        nan         nan         nan\n",
      "housing_yes                      -0.0470      0.051     -0.917      0.359      -0.147       0.053\n",
      "loan_unknown                     -0.0646        nan        nan        nan         nan         nan\n",
      "loan_yes                          0.0558      0.070      0.801      0.423      -0.081       0.192\n",
      "contact_telephone                -0.5637      0.084     -6.692      0.000      -0.729      -0.399\n",
      "month_aug                         0.1351      0.042      3.217      0.001       0.053       0.217\n",
      "month_dec                         0.0751      0.312      0.241      0.810      -0.536       0.687\n",
      "month_jul                         0.1053        nan        nan        nan         nan         nan\n",
      "month_jun                        -0.1735      0.100     -1.736      0.082      -0.369       0.022\n",
      "month_mar                         0.9444      0.159      5.937      0.000       0.633       1.256\n",
      "month_may                        -0.6613      0.029    -22.474      0.000      -0.719      -0.604\n",
      "month_nov                        -0.7129      0.107     -6.634      0.000      -0.923      -0.502\n",
      "month_oct                        -0.4849      0.174     -2.790      0.005      -0.826      -0.144\n",
      "month_sep                        -0.4165      0.162     -2.567      0.010      -0.735      -0.099\n",
      "day_of_week_mon                  -0.1439      0.082     -1.747      0.081      -0.305       0.018\n",
      "day_of_week_thu                   0.1536      0.077      1.983      0.047       0.002       0.305\n",
      "day_of_week_tue                   0.0415      0.083      0.498      0.618      -0.122       0.205\n",
      "day_of_week_wed                   0.2283      0.083      2.759      0.006       0.066       0.390\n",
      "poutcome_nonexistent              0.3749      0.120      3.117      0.002       0.139       0.611\n",
      "poutcome_success                  0.4058      0.274      1.481      0.139      -0.131       0.943\n",
      "=================================================================================================\n"
     ]
    },
    {
     "name": "stderr",
     "output_type": "stream",
     "text": [
      "c:\\Users\\Raphael\\AppData\\Local\\Programs\\Python\\Python310\\lib\\site-packages\\statsmodels\\base\\model.py:592: HessianInversionWarning: Inverting hessian failed, no bse or cov_params available\n",
      "  warnings.warn('Inverting hessian failed, no bse or cov_params '\n",
      "c:\\Users\\Raphael\\AppData\\Local\\Programs\\Python\\Python310\\lib\\site-packages\\statsmodels\\base\\model.py:592: HessianInversionWarning: Inverting hessian failed, no bse or cov_params available\n",
      "  warnings.warn('Inverting hessian failed, no bse or cov_params '\n"
     ]
    }
   ],
   "source": [
    "log_reg = sm.Logit(train_y, train_x).fit()\n",
    "\n",
    "print(log_reg.summary())"
   ]
  },
  {
   "cell_type": "code",
   "execution_count": null,
   "id": "c2fa167b",
   "metadata": {},
   "outputs": [],
   "source": []
  },
  {
   "cell_type": "code",
   "execution_count": 23,
   "id": "1962754c",
   "metadata": {},
   "outputs": [
    {
     "ename": "PatsyError",
     "evalue": "Index mismatch between data.index and train_y\n    train_y ~ train_x\n    ^^^^^^^",
     "output_type": "error",
     "traceback": [
      "\u001b[1;31m---------------------------------------------------------------------------\u001b[0m",
      "\u001b[1;31mPatsyError\u001b[0m                                Traceback (most recent call last)",
      "\u001b[1;32mc:\\Users\\Raphael\\OneDrive\\Dokumente\\GitHub\\AQM-UCI-Machine-Learning\\AQM Test.ipynb Cell 35'\u001b[0m in \u001b[0;36m<cell line: 5>\u001b[1;34m()\u001b[0m\n\u001b[0;32m      <a href='vscode-notebook-cell:/c%3A/Users/Raphael/OneDrive/Dokumente/GitHub/AQM-UCI-Machine-Learning/AQM%20Test.ipynb#ch0000077?line=2'>3</a>\u001b[0m datalogit \u001b[39m=\u001b[39m pd\u001b[39m.\u001b[39mDataFrame(np\u001b[39m.\u001b[39mcolumn_stack((train_y,train_x)))\n\u001b[0;32m      <a href='vscode-notebook-cell:/c%3A/Users/Raphael/OneDrive/Dokumente/GitHub/AQM-UCI-Machine-Learning/AQM%20Test.ipynb#ch0000077?line=3'>4</a>\u001b[0m formula \u001b[39m=\u001b[39m (\u001b[39m'\u001b[39m\u001b[39mtrain_y ~ train_x\u001b[39m\u001b[39m'\u001b[39m)\n\u001b[1;32m----> <a href='vscode-notebook-cell:/c%3A/Users/Raphael/OneDrive/Dokumente/GitHub/AQM-UCI-Machine-Learning/AQM%20Test.ipynb#ch0000077?line=4'>5</a>\u001b[0m model \u001b[39m=\u001b[39m logit(formula \u001b[39m=\u001b[39;49m formula, data \u001b[39m=\u001b[39;49m datalogit)\u001b[39m.\u001b[39mfit()\n\u001b[0;32m      <a href='vscode-notebook-cell:/c%3A/Users/Raphael/OneDrive/Dokumente/GitHub/AQM-UCI-Machine-Learning/AQM%20Test.ipynb#ch0000077?line=5'>6</a>\u001b[0m \u001b[39mprint\u001b[39m(model\u001b[39m.\u001b[39msummary())\n",
      "File \u001b[1;32mc:\\Users\\Raphael\\AppData\\Local\\Programs\\Python\\Python310\\lib\\site-packages\\statsmodels\\base\\model.py:200\u001b[0m, in \u001b[0;36mModel.from_formula\u001b[1;34m(cls, formula, data, subset, drop_cols, *args, **kwargs)\u001b[0m\n\u001b[0;32m    <a href='file:///c%3A/Users/Raphael/AppData/Local/Programs/Python/Python310/lib/site-packages/statsmodels/base/model.py?line=196'>197</a>\u001b[0m \u001b[39mif\u001b[39;00m missing \u001b[39m==\u001b[39m \u001b[39m'\u001b[39m\u001b[39mnone\u001b[39m\u001b[39m'\u001b[39m:  \u001b[39m# with patsy it's drop or raise. let's raise.\u001b[39;00m\n\u001b[0;32m    <a href='file:///c%3A/Users/Raphael/AppData/Local/Programs/Python/Python310/lib/site-packages/statsmodels/base/model.py?line=197'>198</a>\u001b[0m     missing \u001b[39m=\u001b[39m \u001b[39m'\u001b[39m\u001b[39mraise\u001b[39m\u001b[39m'\u001b[39m\n\u001b[1;32m--> <a href='file:///c%3A/Users/Raphael/AppData/Local/Programs/Python/Python310/lib/site-packages/statsmodels/base/model.py?line=199'>200</a>\u001b[0m tmp \u001b[39m=\u001b[39m handle_formula_data(data, \u001b[39mNone\u001b[39;49;00m, formula, depth\u001b[39m=\u001b[39;49meval_env,\n\u001b[0;32m    <a href='file:///c%3A/Users/Raphael/AppData/Local/Programs/Python/Python310/lib/site-packages/statsmodels/base/model.py?line=200'>201</a>\u001b[0m                           missing\u001b[39m=\u001b[39;49mmissing)\n\u001b[0;32m    <a href='file:///c%3A/Users/Raphael/AppData/Local/Programs/Python/Python310/lib/site-packages/statsmodels/base/model.py?line=201'>202</a>\u001b[0m ((endog, exog), missing_idx, design_info) \u001b[39m=\u001b[39m tmp\n\u001b[0;32m    <a href='file:///c%3A/Users/Raphael/AppData/Local/Programs/Python/Python310/lib/site-packages/statsmodels/base/model.py?line=202'>203</a>\u001b[0m max_endog \u001b[39m=\u001b[39m \u001b[39mcls\u001b[39m\u001b[39m.\u001b[39m_formula_max_endog\n",
      "File \u001b[1;32mc:\\Users\\Raphael\\AppData\\Local\\Programs\\Python\\Python310\\lib\\site-packages\\statsmodels\\formula\\formulatools.py:63\u001b[0m, in \u001b[0;36mhandle_formula_data\u001b[1;34m(Y, X, formula, depth, missing)\u001b[0m\n\u001b[0;32m     <a href='file:///c%3A/Users/Raphael/AppData/Local/Programs/Python/Python310/lib/site-packages/statsmodels/formula/formulatools.py?line=60'>61</a>\u001b[0m \u001b[39melse\u001b[39;00m:\n\u001b[0;32m     <a href='file:///c%3A/Users/Raphael/AppData/Local/Programs/Python/Python310/lib/site-packages/statsmodels/formula/formulatools.py?line=61'>62</a>\u001b[0m     \u001b[39mif\u001b[39;00m data_util\u001b[39m.\u001b[39m_is_using_pandas(Y, \u001b[39mNone\u001b[39;00m):\n\u001b[1;32m---> <a href='file:///c%3A/Users/Raphael/AppData/Local/Programs/Python/Python310/lib/site-packages/statsmodels/formula/formulatools.py?line=62'>63</a>\u001b[0m         result \u001b[39m=\u001b[39m dmatrices(formula, Y, depth, return_type\u001b[39m=\u001b[39;49m\u001b[39m'\u001b[39;49m\u001b[39mdataframe\u001b[39;49m\u001b[39m'\u001b[39;49m,\n\u001b[0;32m     <a href='file:///c%3A/Users/Raphael/AppData/Local/Programs/Python/Python310/lib/site-packages/statsmodels/formula/formulatools.py?line=63'>64</a>\u001b[0m                            NA_action\u001b[39m=\u001b[39;49mna_action)\n\u001b[0;32m     <a href='file:///c%3A/Users/Raphael/AppData/Local/Programs/Python/Python310/lib/site-packages/statsmodels/formula/formulatools.py?line=64'>65</a>\u001b[0m     \u001b[39melse\u001b[39;00m:\n\u001b[0;32m     <a href='file:///c%3A/Users/Raphael/AppData/Local/Programs/Python/Python310/lib/site-packages/statsmodels/formula/formulatools.py?line=65'>66</a>\u001b[0m         result \u001b[39m=\u001b[39m dmatrices(formula, Y, depth, return_type\u001b[39m=\u001b[39m\u001b[39m'\u001b[39m\u001b[39mdataframe\u001b[39m\u001b[39m'\u001b[39m,\n\u001b[0;32m     <a href='file:///c%3A/Users/Raphael/AppData/Local/Programs/Python/Python310/lib/site-packages/statsmodels/formula/formulatools.py?line=66'>67</a>\u001b[0m                            NA_action\u001b[39m=\u001b[39mna_action)\n",
      "File \u001b[1;32mc:\\Users\\Raphael\\AppData\\Local\\Programs\\Python\\Python310\\lib\\site-packages\\patsy\\highlevel.py:309\u001b[0m, in \u001b[0;36mdmatrices\u001b[1;34m(formula_like, data, eval_env, NA_action, return_type)\u001b[0m\n\u001b[0;32m    <a href='file:///c%3A/Users/Raphael/AppData/Local/Programs/Python/Python310/lib/site-packages/patsy/highlevel.py?line=298'>299</a>\u001b[0m \u001b[39m\"\"\"Construct two design matrices given a formula_like and data.\u001b[39;00m\n\u001b[0;32m    <a href='file:///c%3A/Users/Raphael/AppData/Local/Programs/Python/Python310/lib/site-packages/patsy/highlevel.py?line=299'>300</a>\u001b[0m \n\u001b[0;32m    <a href='file:///c%3A/Users/Raphael/AppData/Local/Programs/Python/Python310/lib/site-packages/patsy/highlevel.py?line=300'>301</a>\u001b[0m \u001b[39mThis function is identical to :func:`dmatrix`, except that it requires\u001b[39;00m\n\u001b[1;32m   (...)\u001b[0m\n\u001b[0;32m    <a href='file:///c%3A/Users/Raphael/AppData/Local/Programs/Python/Python310/lib/site-packages/patsy/highlevel.py?line=305'>306</a>\u001b[0m \u001b[39mSee :func:`dmatrix` for details.\u001b[39;00m\n\u001b[0;32m    <a href='file:///c%3A/Users/Raphael/AppData/Local/Programs/Python/Python310/lib/site-packages/patsy/highlevel.py?line=306'>307</a>\u001b[0m \u001b[39m\"\"\"\u001b[39;00m\n\u001b[0;32m    <a href='file:///c%3A/Users/Raphael/AppData/Local/Programs/Python/Python310/lib/site-packages/patsy/highlevel.py?line=307'>308</a>\u001b[0m eval_env \u001b[39m=\u001b[39m EvalEnvironment\u001b[39m.\u001b[39mcapture(eval_env, reference\u001b[39m=\u001b[39m\u001b[39m1\u001b[39m)\n\u001b[1;32m--> <a href='file:///c%3A/Users/Raphael/AppData/Local/Programs/Python/Python310/lib/site-packages/patsy/highlevel.py?line=308'>309</a>\u001b[0m (lhs, rhs) \u001b[39m=\u001b[39m _do_highlevel_design(formula_like, data, eval_env,\n\u001b[0;32m    <a href='file:///c%3A/Users/Raphael/AppData/Local/Programs/Python/Python310/lib/site-packages/patsy/highlevel.py?line=309'>310</a>\u001b[0m                                   NA_action, return_type)\n\u001b[0;32m    <a href='file:///c%3A/Users/Raphael/AppData/Local/Programs/Python/Python310/lib/site-packages/patsy/highlevel.py?line=310'>311</a>\u001b[0m \u001b[39mif\u001b[39;00m lhs\u001b[39m.\u001b[39mshape[\u001b[39m1\u001b[39m] \u001b[39m==\u001b[39m \u001b[39m0\u001b[39m:\n\u001b[0;32m    <a href='file:///c%3A/Users/Raphael/AppData/Local/Programs/Python/Python310/lib/site-packages/patsy/highlevel.py?line=311'>312</a>\u001b[0m     \u001b[39mraise\u001b[39;00m PatsyError(\u001b[39m\"\u001b[39m\u001b[39mmodel is missing required outcome variables\u001b[39m\u001b[39m\"\u001b[39m)\n",
      "File \u001b[1;32mc:\\Users\\Raphael\\AppData\\Local\\Programs\\Python\\Python310\\lib\\site-packages\\patsy\\highlevel.py:167\u001b[0m, in \u001b[0;36m_do_highlevel_design\u001b[1;34m(formula_like, data, eval_env, NA_action, return_type)\u001b[0m\n\u001b[0;32m    <a href='file:///c%3A/Users/Raphael/AppData/Local/Programs/Python/Python310/lib/site-packages/patsy/highlevel.py?line=163'>164</a>\u001b[0m design_infos \u001b[39m=\u001b[39m _try_incr_builders(formula_like, data_iter_maker, eval_env,\n\u001b[0;32m    <a href='file:///c%3A/Users/Raphael/AppData/Local/Programs/Python/Python310/lib/site-packages/patsy/highlevel.py?line=164'>165</a>\u001b[0m                                   NA_action)\n\u001b[0;32m    <a href='file:///c%3A/Users/Raphael/AppData/Local/Programs/Python/Python310/lib/site-packages/patsy/highlevel.py?line=165'>166</a>\u001b[0m \u001b[39mif\u001b[39;00m design_infos \u001b[39mis\u001b[39;00m \u001b[39mnot\u001b[39;00m \u001b[39mNone\u001b[39;00m:\n\u001b[1;32m--> <a href='file:///c%3A/Users/Raphael/AppData/Local/Programs/Python/Python310/lib/site-packages/patsy/highlevel.py?line=166'>167</a>\u001b[0m     \u001b[39mreturn\u001b[39;00m build_design_matrices(design_infos, data,\n\u001b[0;32m    <a href='file:///c%3A/Users/Raphael/AppData/Local/Programs/Python/Python310/lib/site-packages/patsy/highlevel.py?line=167'>168</a>\u001b[0m                                  NA_action\u001b[39m=\u001b[39;49mNA_action,\n\u001b[0;32m    <a href='file:///c%3A/Users/Raphael/AppData/Local/Programs/Python/Python310/lib/site-packages/patsy/highlevel.py?line=168'>169</a>\u001b[0m                                  return_type\u001b[39m=\u001b[39;49mreturn_type)\n\u001b[0;32m    <a href='file:///c%3A/Users/Raphael/AppData/Local/Programs/Python/Python310/lib/site-packages/patsy/highlevel.py?line=169'>170</a>\u001b[0m \u001b[39melse\u001b[39;00m:\n\u001b[0;32m    <a href='file:///c%3A/Users/Raphael/AppData/Local/Programs/Python/Python310/lib/site-packages/patsy/highlevel.py?line=170'>171</a>\u001b[0m     \u001b[39m# No builders, but maybe we can still get matrices\u001b[39;00m\n\u001b[0;32m    <a href='file:///c%3A/Users/Raphael/AppData/Local/Programs/Python/Python310/lib/site-packages/patsy/highlevel.py?line=171'>172</a>\u001b[0m     \u001b[39mif\u001b[39;00m \u001b[39misinstance\u001b[39m(formula_like, \u001b[39mtuple\u001b[39m):\n",
      "File \u001b[1;32mc:\\Users\\Raphael\\AppData\\Local\\Programs\\Python\\Python310\\lib\\site-packages\\patsy\\build.py:896\u001b[0m, in \u001b[0;36mbuild_design_matrices\u001b[1;34m(design_infos, data, NA_action, return_type, dtype)\u001b[0m\n\u001b[0;32m    <a href='file:///c%3A/Users/Raphael/AppData/Local/Programs/Python/Python310/lib/site-packages/patsy/build.py?line=892'>893</a>\u001b[0m rows_checker\u001b[39m.\u001b[39mcheck(value\u001b[39m.\u001b[39mshape[\u001b[39m0\u001b[39m], name, origin)\n\u001b[0;32m    <a href='file:///c%3A/Users/Raphael/AppData/Local/Programs/Python/Python310/lib/site-packages/patsy/build.py?line=893'>894</a>\u001b[0m \u001b[39mif\u001b[39;00m (have_pandas\n\u001b[0;32m    <a href='file:///c%3A/Users/Raphael/AppData/Local/Programs/Python/Python310/lib/site-packages/patsy/build.py?line=894'>895</a>\u001b[0m     \u001b[39mand\u001b[39;00m \u001b[39misinstance\u001b[39m(value, (pandas\u001b[39m.\u001b[39mSeries, pandas\u001b[39m.\u001b[39mDataFrame))):\n\u001b[1;32m--> <a href='file:///c%3A/Users/Raphael/AppData/Local/Programs/Python/Python310/lib/site-packages/patsy/build.py?line=895'>896</a>\u001b[0m     index_checker\u001b[39m.\u001b[39;49mcheck(value\u001b[39m.\u001b[39;49mindex, name, origin)\n\u001b[0;32m    <a href='file:///c%3A/Users/Raphael/AppData/Local/Programs/Python/Python310/lib/site-packages/patsy/build.py?line=896'>897</a>\u001b[0m \u001b[39m# Strategy: we work with raw ndarrays for doing the actual\u001b[39;00m\n\u001b[0;32m    <a href='file:///c%3A/Users/Raphael/AppData/Local/Programs/Python/Python310/lib/site-packages/patsy/build.py?line=897'>898</a>\u001b[0m \u001b[39m# combining; DesignMatrixBuilder objects never sees pandas\u001b[39;00m\n\u001b[0;32m    <a href='file:///c%3A/Users/Raphael/AppData/Local/Programs/Python/Python310/lib/site-packages/patsy/build.py?line=898'>899</a>\u001b[0m \u001b[39m# objects. Then at the end, if a DataFrame was requested, we\u001b[39;00m\n\u001b[0;32m    <a href='file:///c%3A/Users/Raphael/AppData/Local/Programs/Python/Python310/lib/site-packages/patsy/build.py?line=899'>900</a>\u001b[0m \u001b[39m# convert. So every entry in this dict is either a 2-d array\u001b[39;00m\n\u001b[0;32m    <a href='file:///c%3A/Users/Raphael/AppData/Local/Programs/Python/Python310/lib/site-packages/patsy/build.py?line=900'>901</a>\u001b[0m \u001b[39m# of floats, or a 1-d array of integers (representing\u001b[39;00m\n\u001b[0;32m    <a href='file:///c%3A/Users/Raphael/AppData/Local/Programs/Python/Python310/lib/site-packages/patsy/build.py?line=901'>902</a>\u001b[0m \u001b[39m# categories).\u001b[39;00m\n\u001b[0;32m    <a href='file:///c%3A/Users/Raphael/AppData/Local/Programs/Python/Python310/lib/site-packages/patsy/build.py?line=902'>903</a>\u001b[0m value \u001b[39m=\u001b[39m np\u001b[39m.\u001b[39masarray(value)\n",
      "File \u001b[1;32mc:\\Users\\Raphael\\AppData\\Local\\Programs\\Python\\Python310\\lib\\site-packages\\patsy\\build.py:795\u001b[0m, in \u001b[0;36m_CheckMatch.check\u001b[1;34m(self, seen_value, desc, origin)\u001b[0m\n\u001b[0;32m    <a href='file:///c%3A/Users/Raphael/AppData/Local/Programs/Python/Python310/lib/site-packages/patsy/build.py?line=791'>792</a>\u001b[0m     msg \u001b[39m+\u001b[39m\u001b[39m=\u001b[39m \u001b[39m\"\u001b[39m\u001b[39m (\u001b[39m\u001b[39m%r\u001b[39;00m\u001b[39m versus \u001b[39m\u001b[39m%r\u001b[39;00m\u001b[39m)\u001b[39m\u001b[39m\"\u001b[39m \u001b[39m%\u001b[39m (\u001b[39mself\u001b[39m\u001b[39m.\u001b[39mvalue, seen_value)\n\u001b[0;32m    <a href='file:///c%3A/Users/Raphael/AppData/Local/Programs/Python/Python310/lib/site-packages/patsy/build.py?line=792'>793</a>\u001b[0m \u001b[39m# XX FIXME: this is a case where having discontiguous Origins\u001b[39;00m\n\u001b[0;32m    <a href='file:///c%3A/Users/Raphael/AppData/Local/Programs/Python/Python310/lib/site-packages/patsy/build.py?line=793'>794</a>\u001b[0m \u001b[39m# would be useful...\u001b[39;00m\n\u001b[1;32m--> <a href='file:///c%3A/Users/Raphael/AppData/Local/Programs/Python/Python310/lib/site-packages/patsy/build.py?line=794'>795</a>\u001b[0m \u001b[39mraise\u001b[39;00m PatsyError(msg, origin)\n",
      "\u001b[1;31mPatsyError\u001b[0m: Index mismatch between data.index and train_y\n    train_y ~ train_x\n    ^^^^^^^"
     ]
    }
   ],
   "source": [
    "# does not work\n",
    "from statsmodels.formula.api import logit\n",
    "datalogit = pd.DataFrame(np.column_stack((train_y,train_x)))\n",
    "formula = ('train_y ~ train_x')\n",
    "model = logit(formula = formula, data = datalogit).fit()\n",
    "print(model.summary())"
   ]
  },
  {
   "cell_type": "code",
   "execution_count": 24,
   "id": "a089ed5d",
   "metadata": {},
   "outputs": [
    {
     "name": "stdout",
     "output_type": "stream",
     "text": [
      "[-1.08164284e-01  6.04595560e-01  1.07574339e-01  6.40302908e-01\n",
      "  3.78226347e+00 -5.05421150e+00 -1.24538899e+00  4.08425745e+00\n",
      "  1.02880165e-01  8.23026501e-01  3.05240827e-02  9.42817770e-02\n",
      "  5.67678737e-02 -5.32897377e-01  1.14994189e-01  3.38353969e-01\n",
      " -3.82267190e-01 -8.91241413e-02 -1.31593554e-01  5.55641251e-02\n",
      "  4.31910162e-01 -5.35279702e-01 -9.21018297e-03  1.43034900e-01\n",
      "  5.60621074e-01  1.64883349e-01 -1.29232163e-02 -8.75138939e-02\n",
      " -9.36951927e-01  1.86182143e-02  8.92163474e-01  8.09698320e-04\n",
      "  3.68262913e-02 -1.78855174e-02  3.68262913e-02 -1.30384507e-01\n",
      "  1.86307548e+00 -1.63684529e-01 -1.49563364e-01 -1.45813383e+00\n",
      " -5.72194547e-01 -7.85211762e-01  3.73273077e+00  2.88245856e-01\n",
      " -3.32543363e-01 -1.60290442e-01  5.07716307e-01 -4.44641578e-01\n",
      " -6.37776608e-03 -4.56125807e-01 -7.45545280e-01 -1.16677340e-01]\n",
      "age                               0.434555\n",
      "campaign                          0.949712\n",
      "pdays                             0.179818\n",
      "previous                          0.000000\n",
      "emp.var.rate                     11.621642\n",
      "cons.price.idx                    0.390691\n",
      "cons.conf.idx                    -0.661455\n",
      "euribor3m                         0.000000\n",
      "nr.employed                      -0.004403\n",
      "job_blue-collar                   0.000000\n",
      "job_entrepreneur                  0.000000\n",
      "job_housemaid                     0.000000\n",
      "job_management                    0.000000\n",
      "job_retired                       0.000000\n",
      "job_self-employed                 0.000000\n",
      "job_services                      0.000000\n",
      "job_student                       0.000000\n",
      "job_technician                    0.000000\n",
      "job_unemployed                    0.000000\n",
      "job_unknown                       0.000000\n",
      "marital_married                   0.000000\n",
      "marital_single                    0.000000\n",
      "marital_unknown                   0.000000\n",
      "education_basic.6y                0.000000\n",
      "education_basic.9y                0.000000\n",
      "education_high.school             0.000000\n",
      "education_illiterate              0.000000\n",
      "education_professional.course     0.000000\n",
      "education_university.degree       0.000000\n",
      "education_unknown                 0.000000\n",
      "default_unknown                   0.000000\n",
      "default_yes                       0.000000\n",
      "housing_unknown                   0.000000\n",
      "housing_yes                       0.000000\n",
      "loan_unknown                      0.000000\n",
      "loan_yes                          0.000000\n",
      "contact_telephone                 0.000000\n",
      "month_aug                         0.000000\n",
      "month_dec                         0.000000\n",
      "month_jul                         0.000000\n",
      "month_jun                         0.000000\n",
      "month_mar                         0.000000\n",
      "month_may                        14.759853\n",
      "month_nov                         0.000000\n",
      "month_oct                         0.000000\n",
      "month_sep                         0.000000\n",
      "day_of_week_mon                   0.000000\n",
      "day_of_week_thu                   0.000000\n",
      "day_of_week_tue                   0.000000\n",
      "day_of_week_wed                   0.000000\n",
      "poutcome_nonexistent            -15.471701\n",
      "poutcome_success                  0.000000\n",
      "dtype: float64\n"
     ]
    }
   ],
   "source": [
    "from statsmodels.regression.linear_model import OLS\n",
    "\n",
    "model1 = OLS(train_y-1, train_x)\n",
    "\n",
    "result1 = model1.fit_regularized(alpha=1., L1_wt=0) #ridge\n",
    "\n",
    "print(result1.params)\n",
    "\n",
    "model2 = OLS(train_y-1, train_x)\n",
    "\n",
    "result2 = model1.fit_regularized(alpha=1., L1_wt=1) #lasso\n",
    "\n",
    "print(result2.params)"
   ]
  },
  {
   "cell_type": "code",
   "execution_count": null,
   "id": "83745476",
   "metadata": {},
   "outputs": [],
   "source": []
  },
  {
   "cell_type": "code",
   "execution_count": null,
   "id": "42410d9b",
   "metadata": {},
   "outputs": [],
   "source": []
  },
  {
   "cell_type": "code",
   "execution_count": null,
   "id": "9522a267",
   "metadata": {},
   "outputs": [],
   "source": []
  },
  {
   "cell_type": "markdown",
   "id": "10b10afa",
   "metadata": {},
   "source": [
    "## Linear Regression"
   ]
  },
  {
   "cell_type": "code",
   "execution_count": 25,
   "id": "ccc1f022",
   "metadata": {},
   "outputs": [],
   "source": [
    "#??\n",
    "from sklearn.linear_model import LinearRegression\n",
    "reg = LinearRegression().fit(train_x, train_y)"
   ]
  },
  {
   "cell_type": "code",
   "execution_count": 26,
   "id": "5b34b403",
   "metadata": {},
   "outputs": [
    {
     "data": {
      "text/plain": [
       "0.20804890276087074"
      ]
     },
     "execution_count": 26,
     "metadata": {},
     "output_type": "execute_result"
    }
   ],
   "source": [
    "# check how good the train model is on the test data (how it works on data which is not in the \"data set\")\n",
    "reg.score(test_x, test_y)"
   ]
  },
  {
   "cell_type": "markdown",
   "id": "c85f4323",
   "metadata": {},
   "source": [
    "## Lambdas grid"
   ]
  },
  {
   "cell_type": "code",
   "execution_count": 27,
   "metadata": {},
   "outputs": [
    {
     "data": {
      "text/html": [
       "<style>#sk-container-id-1 {color: black;background-color: white;}#sk-container-id-1 pre{padding: 0;}#sk-container-id-1 div.sk-toggleable {background-color: white;}#sk-container-id-1 label.sk-toggleable__label {cursor: pointer;display: block;width: 100%;margin-bottom: 0;padding: 0.3em;box-sizing: border-box;text-align: center;}#sk-container-id-1 label.sk-toggleable__label-arrow:before {content: \"▸\";float: left;margin-right: 0.25em;color: #696969;}#sk-container-id-1 label.sk-toggleable__label-arrow:hover:before {color: black;}#sk-container-id-1 div.sk-estimator:hover label.sk-toggleable__label-arrow:before {color: black;}#sk-container-id-1 div.sk-toggleable__content {max-height: 0;max-width: 0;overflow: hidden;text-align: left;background-color: #f0f8ff;}#sk-container-id-1 div.sk-toggleable__content pre {margin: 0.2em;color: black;border-radius: 0.25em;background-color: #f0f8ff;}#sk-container-id-1 input.sk-toggleable__control:checked~div.sk-toggleable__content {max-height: 200px;max-width: 100%;overflow: auto;}#sk-container-id-1 input.sk-toggleable__control:checked~label.sk-toggleable__label-arrow:before {content: \"▾\";}#sk-container-id-1 div.sk-estimator input.sk-toggleable__control:checked~label.sk-toggleable__label {background-color: #d4ebff;}#sk-container-id-1 div.sk-label input.sk-toggleable__control:checked~label.sk-toggleable__label {background-color: #d4ebff;}#sk-container-id-1 input.sk-hidden--visually {border: 0;clip: rect(1px 1px 1px 1px);clip: rect(1px, 1px, 1px, 1px);height: 1px;margin: -1px;overflow: hidden;padding: 0;position: absolute;width: 1px;}#sk-container-id-1 div.sk-estimator {font-family: monospace;background-color: #f0f8ff;border: 1px dotted black;border-radius: 0.25em;box-sizing: border-box;margin-bottom: 0.5em;}#sk-container-id-1 div.sk-estimator:hover {background-color: #d4ebff;}#sk-container-id-1 div.sk-parallel-item::after {content: \"\";width: 100%;border-bottom: 1px solid gray;flex-grow: 1;}#sk-container-id-1 div.sk-label:hover label.sk-toggleable__label {background-color: #d4ebff;}#sk-container-id-1 div.sk-serial::before {content: \"\";position: absolute;border-left: 1px solid gray;box-sizing: border-box;top: 0;bottom: 0;left: 50%;z-index: 0;}#sk-container-id-1 div.sk-serial {display: flex;flex-direction: column;align-items: center;background-color: white;padding-right: 0.2em;padding-left: 0.2em;position: relative;}#sk-container-id-1 div.sk-item {position: relative;z-index: 1;}#sk-container-id-1 div.sk-parallel {display: flex;align-items: stretch;justify-content: center;background-color: white;position: relative;}#sk-container-id-1 div.sk-item::before, #sk-container-id-1 div.sk-parallel-item::before {content: \"\";position: absolute;border-left: 1px solid gray;box-sizing: border-box;top: 0;bottom: 0;left: 50%;z-index: -1;}#sk-container-id-1 div.sk-parallel-item {display: flex;flex-direction: column;z-index: 1;position: relative;background-color: white;}#sk-container-id-1 div.sk-parallel-item:first-child::after {align-self: flex-end;width: 50%;}#sk-container-id-1 div.sk-parallel-item:last-child::after {align-self: flex-start;width: 50%;}#sk-container-id-1 div.sk-parallel-item:only-child::after {width: 0;}#sk-container-id-1 div.sk-dashed-wrapped {border: 1px dashed gray;margin: 0 0.4em 0.5em 0.4em;box-sizing: border-box;padding-bottom: 0.4em;background-color: white;}#sk-container-id-1 div.sk-label label {font-family: monospace;font-weight: bold;display: inline-block;line-height: 1.2em;}#sk-container-id-1 div.sk-label-container {text-align: center;}#sk-container-id-1 div.sk-container {/* jupyter's `normalize.less` sets `[hidden] { display: none; }` but bootstrap.min.css set `[hidden] { display: none !important; }` so we also need the `!important` here to be able to override the default hidden behavior on the sphinx rendered scikit-learn.org. See: https://github.com/scikit-learn/scikit-learn/issues/21755 */display: inline-block !important;position: relative;}#sk-container-id-1 div.sk-text-repr-fallback {display: none;}</style><div id=\"sk-container-id-1\" class=\"sk-top-container\"><div class=\"sk-text-repr-fallback\"><pre>RidgeCV(alphas=array([7.   , 7.001, 7.002, 7.003, 7.004, 7.005, 7.006, 7.007, 7.008,\n",
       "       7.009, 7.01 , 7.011, 7.012, 7.013, 7.014, 7.015, 7.016, 7.017,\n",
       "       7.018, 7.019, 7.02 , 7.021, 7.022, 7.023, 7.024, 7.025, 7.026,\n",
       "       7.027, 7.028, 7.029, 7.03 , 7.031, 7.032, 7.033, 7.034, 7.035,\n",
       "       7.036, 7.037, 7.038, 7.039, 7.04 , 7.041, 7.042, 7.043, 7.044,\n",
       "       7.045, 7.046, 7.047, 7.048, 7.049, 7.05 , 7.051, 7.052, 7.053,\n",
       "       7.054, 7.055,...\n",
       "       7.936, 7.937, 7.938, 7.939, 7.94 , 7.941, 7.942, 7.943, 7.944,\n",
       "       7.945, 7.946, 7.947, 7.948, 7.949, 7.95 , 7.951, 7.952, 7.953,\n",
       "       7.954, 7.955, 7.956, 7.957, 7.958, 7.959, 7.96 , 7.961, 7.962,\n",
       "       7.963, 7.964, 7.965, 7.966, 7.967, 7.968, 7.969, 7.97 , 7.971,\n",
       "       7.972, 7.973, 7.974, 7.975, 7.976, 7.977, 7.978, 7.979, 7.98 ,\n",
       "       7.981, 7.982, 7.983, 7.984, 7.985, 7.986, 7.987, 7.988, 7.989,\n",
       "       7.99 , 7.991, 7.992, 7.993, 7.994, 7.995, 7.996, 7.997, 7.998,\n",
       "       7.999]),\n",
       "        store_cv_values=True)</pre><b>In a Jupyter environment, please rerun this cell to show the HTML representation or trust the notebook. <br />On GitHub, the HTML representation is unable to render, please try loading this page with nbviewer.org.</b></div><div class=\"sk-container\" hidden><div class=\"sk-item\"><div class=\"sk-estimator sk-toggleable\"><input class=\"sk-toggleable__control sk-hidden--visually\" id=\"sk-estimator-id-1\" type=\"checkbox\" checked><label for=\"sk-estimator-id-1\" class=\"sk-toggleable__label sk-toggleable__label-arrow\">RidgeCV</label><div class=\"sk-toggleable__content\"><pre>RidgeCV(alphas=array([7.   , 7.001, 7.002, 7.003, 7.004, 7.005, 7.006, 7.007, 7.008,\n",
       "       7.009, 7.01 , 7.011, 7.012, 7.013, 7.014, 7.015, 7.016, 7.017,\n",
       "       7.018, 7.019, 7.02 , 7.021, 7.022, 7.023, 7.024, 7.025, 7.026,\n",
       "       7.027, 7.028, 7.029, 7.03 , 7.031, 7.032, 7.033, 7.034, 7.035,\n",
       "       7.036, 7.037, 7.038, 7.039, 7.04 , 7.041, 7.042, 7.043, 7.044,\n",
       "       7.045, 7.046, 7.047, 7.048, 7.049, 7.05 , 7.051, 7.052, 7.053,\n",
       "       7.054, 7.055,...\n",
       "       7.936, 7.937, 7.938, 7.939, 7.94 , 7.941, 7.942, 7.943, 7.944,\n",
       "       7.945, 7.946, 7.947, 7.948, 7.949, 7.95 , 7.951, 7.952, 7.953,\n",
       "       7.954, 7.955, 7.956, 7.957, 7.958, 7.959, 7.96 , 7.961, 7.962,\n",
       "       7.963, 7.964, 7.965, 7.966, 7.967, 7.968, 7.969, 7.97 , 7.971,\n",
       "       7.972, 7.973, 7.974, 7.975, 7.976, 7.977, 7.978, 7.979, 7.98 ,\n",
       "       7.981, 7.982, 7.983, 7.984, 7.985, 7.986, 7.987, 7.988, 7.989,\n",
       "       7.99 , 7.991, 7.992, 7.993, 7.994, 7.995, 7.996, 7.997, 7.998,\n",
       "       7.999]),\n",
       "        store_cv_values=True)</pre></div></div></div></div></div>"
      ],
      "text/plain": [
       "RidgeCV(alphas=array([7.   , 7.001, 7.002, 7.003, 7.004, 7.005, 7.006, 7.007, 7.008,\n",
       "       7.009, 7.01 , 7.011, 7.012, 7.013, 7.014, 7.015, 7.016, 7.017,\n",
       "       7.018, 7.019, 7.02 , 7.021, 7.022, 7.023, 7.024, 7.025, 7.026,\n",
       "       7.027, 7.028, 7.029, 7.03 , 7.031, 7.032, 7.033, 7.034, 7.035,\n",
       "       7.036, 7.037, 7.038, 7.039, 7.04 , 7.041, 7.042, 7.043, 7.044,\n",
       "       7.045, 7.046, 7.047, 7.048, 7.049, 7.05 , 7.051, 7.052, 7.053,\n",
       "       7.054, 7.055,...\n",
       "       7.936, 7.937, 7.938, 7.939, 7.94 , 7.941, 7.942, 7.943, 7.944,\n",
       "       7.945, 7.946, 7.947, 7.948, 7.949, 7.95 , 7.951, 7.952, 7.953,\n",
       "       7.954, 7.955, 7.956, 7.957, 7.958, 7.959, 7.96 , 7.961, 7.962,\n",
       "       7.963, 7.964, 7.965, 7.966, 7.967, 7.968, 7.969, 7.97 , 7.971,\n",
       "       7.972, 7.973, 7.974, 7.975, 7.976, 7.977, 7.978, 7.979, 7.98 ,\n",
       "       7.981, 7.982, 7.983, 7.984, 7.985, 7.986, 7.987, 7.988, 7.989,\n",
       "       7.99 , 7.991, 7.992, 7.993, 7.994, 7.995, 7.996, 7.997, 7.998,\n",
       "       7.999]),\n",
       "        store_cv_values=True)"
      ]
     },
     "execution_count": 27,
     "metadata": {},
     "output_type": "execute_result"
    }
   ],
   "source": [
    "from sklearn.linear_model import RidgeCV\n",
    "lambdas = np.arange(7, 8, 0.001)\n",
    "rr = RidgeCV(alphas=lambdas, fit_intercept=True, store_cv_values=True)\n",
    "rr.fit(train_x, train_y)"
   ]
  },
  {
   "cell_type": "code",
   "execution_count": 28,
   "id": "6c9930a3",
   "metadata": {},
   "outputs": [
    {
     "data": {
      "text/plain": [
       "array([-2.27087540e+01, -6.00063873e-05, -2.26483562e-03, -3.08061083e-04,\n",
       "       -1.97382041e-02, -1.97818692e-01,  2.46253352e-01,  4.14797049e-03,\n",
       "        7.29205791e-02,  1.43347260e-06, -4.82103558e-03, -1.80514349e-04,\n",
       "       -1.51786130e-02, -6.08909604e-03,  3.22795442e-02, -1.39077115e-02,\n",
       "       -7.81791916e-03,  3.00751262e-02,  5.82475186e-04,  1.25085495e-02,\n",
       "       -2.24031590e-02,  9.70875823e-04, -1.11810045e-03,  2.10600653e-02,\n",
       "        8.91573475e-04, -8.54959106e-03, -1.24027440e-03,  6.29243917e-02,\n",
       "        2.56004188e-03,  1.09433518e-02, -9.84936011e-03, -8.69498320e-03,\n",
       "       -6.83925747e-03, -5.10087728e-03, -3.11510573e-03, -5.10087728e-03,\n",
       "        4.92104685e-03, -6.40227662e-02,  8.69229511e-02,  8.96182850e-02,\n",
       "        2.46975574e-02, -7.10062567e-02,  2.41240088e-01, -4.84581790e-02,\n",
       "       -4.62732645e-02, -1.08501033e-02,  1.70025114e-02, -1.24176462e-02,\n",
       "        1.29727976e-02,  4.10291692e-03,  1.79867630e-02,  3.02779622e-02,\n",
       "        7.45934509e-02])"
      ]
     },
     "execution_count": 28,
     "metadata": {},
     "output_type": "execute_result"
    }
   ],
   "source": [
    "betaRidge = np.append(rr.intercept_,rr.coef_)\n",
    "betaRidge"
   ]
  },
  {
   "cell_type": "code",
   "execution_count": 29,
   "metadata": {},
   "outputs": [
    {
     "name": "stdout",
     "output_type": "stream",
     "text": [
      "Optimal tuning parameter using cross validation:  7.38900000000013\n",
      "Ridge Estimates using optimal tuning parameter :  [-2.27087540e+01 -6.00063873e-05 -2.26483562e-03 -3.08061083e-04\n",
      " -1.97382041e-02 -1.97818692e-01  2.46253352e-01  4.14797049e-03\n",
      "  7.29205791e-02  1.43347260e-06 -4.82103558e-03 -1.80514349e-04\n",
      " -1.51786130e-02 -6.08909604e-03  3.22795442e-02 -1.39077115e-02\n",
      " -7.81791916e-03  3.00751262e-02  5.82475186e-04  1.25085495e-02\n",
      " -2.24031590e-02  9.70875823e-04 -1.11810045e-03  2.10600653e-02\n",
      "  8.91573475e-04 -8.54959106e-03 -1.24027440e-03  6.29243917e-02\n",
      "  2.56004188e-03  1.09433518e-02 -9.84936011e-03 -8.69498320e-03\n",
      " -6.83925747e-03 -5.10087728e-03 -3.11510573e-03 -5.10087728e-03\n",
      "  4.92104685e-03 -6.40227662e-02  8.69229511e-02  8.96182850e-02\n",
      "  2.46975574e-02 -7.10062567e-02  2.41240088e-01 -4.84581790e-02\n",
      " -4.62732645e-02 -1.08501033e-02  1.70025114e-02 -1.24176462e-02\n",
      "  1.29727976e-02  4.10291692e-03  1.79867630e-02  3.02779622e-02\n",
      "  7.45934509e-02]\n",
      "Validation MSE:  0.07991826214915068\n"
     ]
    }
   ],
   "source": [
    "yhat = np.dot(sm.add_constant(validation_x),betaRidge)\n",
    "yhat1 = rr.predict(validation_x)\n",
    "validationMSE = np.mean((yhat-validation_y)**2)\n",
    "\n",
    "print(\"Optimal tuning parameter using cross validation: \", rr.alpha_)\n",
    "print(\"Ridge Estimates using optimal tuning parameter : \", betaRidge)\n",
    "print(\"Validation MSE: \", validationMSE)"
   ]
  },
  {
   "cell_type": "markdown",
   "id": "aaea00d3",
   "metadata": {},
   "source": [
    "## Logit"
   ]
  },
  {
   "cell_type": "code",
   "execution_count": 37,
   "metadata": {},
   "outputs": [
    {
     "name": "stderr",
     "output_type": "stream",
     "text": [
      "c:\\Users\\Raphael\\AppData\\Local\\Programs\\Python\\Python310\\lib\\site-packages\\sklearn\\linear_model\\_logistic.py:444: ConvergenceWarning: lbfgs failed to converge (status=1):\n",
      "STOP: TOTAL NO. of ITERATIONS REACHED LIMIT.\n",
      "\n",
      "Increase the number of iterations (max_iter) or scale the data as shown in:\n",
      "    https://scikit-learn.org/stable/modules/preprocessing.html\n",
      "Please also refer to the documentation for alternative solver options:\n",
      "    https://scikit-learn.org/stable/modules/linear_model.html#logistic-regression\n",
      "  n_iter_i = _check_optimize_result(\n"
     ]
    },
    {
     "data": {
      "text/html": [
       "<style>#sk-container-id-7 {color: black;background-color: white;}#sk-container-id-7 pre{padding: 0;}#sk-container-id-7 div.sk-toggleable {background-color: white;}#sk-container-id-7 label.sk-toggleable__label {cursor: pointer;display: block;width: 100%;margin-bottom: 0;padding: 0.3em;box-sizing: border-box;text-align: center;}#sk-container-id-7 label.sk-toggleable__label-arrow:before {content: \"▸\";float: left;margin-right: 0.25em;color: #696969;}#sk-container-id-7 label.sk-toggleable__label-arrow:hover:before {color: black;}#sk-container-id-7 div.sk-estimator:hover label.sk-toggleable__label-arrow:before {color: black;}#sk-container-id-7 div.sk-toggleable__content {max-height: 0;max-width: 0;overflow: hidden;text-align: left;background-color: #f0f8ff;}#sk-container-id-7 div.sk-toggleable__content pre {margin: 0.2em;color: black;border-radius: 0.25em;background-color: #f0f8ff;}#sk-container-id-7 input.sk-toggleable__control:checked~div.sk-toggleable__content {max-height: 200px;max-width: 100%;overflow: auto;}#sk-container-id-7 input.sk-toggleable__control:checked~label.sk-toggleable__label-arrow:before {content: \"▾\";}#sk-container-id-7 div.sk-estimator input.sk-toggleable__control:checked~label.sk-toggleable__label {background-color: #d4ebff;}#sk-container-id-7 div.sk-label input.sk-toggleable__control:checked~label.sk-toggleable__label {background-color: #d4ebff;}#sk-container-id-7 input.sk-hidden--visually {border: 0;clip: rect(1px 1px 1px 1px);clip: rect(1px, 1px, 1px, 1px);height: 1px;margin: -1px;overflow: hidden;padding: 0;position: absolute;width: 1px;}#sk-container-id-7 div.sk-estimator {font-family: monospace;background-color: #f0f8ff;border: 1px dotted black;border-radius: 0.25em;box-sizing: border-box;margin-bottom: 0.5em;}#sk-container-id-7 div.sk-estimator:hover {background-color: #d4ebff;}#sk-container-id-7 div.sk-parallel-item::after {content: \"\";width: 100%;border-bottom: 1px solid gray;flex-grow: 1;}#sk-container-id-7 div.sk-label:hover label.sk-toggleable__label {background-color: #d4ebff;}#sk-container-id-7 div.sk-serial::before {content: \"\";position: absolute;border-left: 1px solid gray;box-sizing: border-box;top: 0;bottom: 0;left: 50%;z-index: 0;}#sk-container-id-7 div.sk-serial {display: flex;flex-direction: column;align-items: center;background-color: white;padding-right: 0.2em;padding-left: 0.2em;position: relative;}#sk-container-id-7 div.sk-item {position: relative;z-index: 1;}#sk-container-id-7 div.sk-parallel {display: flex;align-items: stretch;justify-content: center;background-color: white;position: relative;}#sk-container-id-7 div.sk-item::before, #sk-container-id-7 div.sk-parallel-item::before {content: \"\";position: absolute;border-left: 1px solid gray;box-sizing: border-box;top: 0;bottom: 0;left: 50%;z-index: -1;}#sk-container-id-7 div.sk-parallel-item {display: flex;flex-direction: column;z-index: 1;position: relative;background-color: white;}#sk-container-id-7 div.sk-parallel-item:first-child::after {align-self: flex-end;width: 50%;}#sk-container-id-7 div.sk-parallel-item:last-child::after {align-self: flex-start;width: 50%;}#sk-container-id-7 div.sk-parallel-item:only-child::after {width: 0;}#sk-container-id-7 div.sk-dashed-wrapped {border: 1px dashed gray;margin: 0 0.4em 0.5em 0.4em;box-sizing: border-box;padding-bottom: 0.4em;background-color: white;}#sk-container-id-7 div.sk-label label {font-family: monospace;font-weight: bold;display: inline-block;line-height: 1.2em;}#sk-container-id-7 div.sk-label-container {text-align: center;}#sk-container-id-7 div.sk-container {/* jupyter's `normalize.less` sets `[hidden] { display: none; }` but bootstrap.min.css set `[hidden] { display: none !important; }` so we also need the `!important` here to be able to override the default hidden behavior on the sphinx rendered scikit-learn.org. See: https://github.com/scikit-learn/scikit-learn/issues/21755 */display: inline-block !important;position: relative;}#sk-container-id-7 div.sk-text-repr-fallback {display: none;}</style><div id=\"sk-container-id-7\" class=\"sk-top-container\"><div class=\"sk-text-repr-fallback\"><pre>LogisticRegression()</pre><b>In a Jupyter environment, please rerun this cell to show the HTML representation or trust the notebook. <br />On GitHub, the HTML representation is unable to render, please try loading this page with nbviewer.org.</b></div><div class=\"sk-container\" hidden><div class=\"sk-item\"><div class=\"sk-estimator sk-toggleable\"><input class=\"sk-toggleable__control sk-hidden--visually\" id=\"sk-estimator-id-7\" type=\"checkbox\" checked><label for=\"sk-estimator-id-7\" class=\"sk-toggleable__label sk-toggleable__label-arrow\">LogisticRegression</label><div class=\"sk-toggleable__content\"><pre>LogisticRegression()</pre></div></div></div></div></div>"
      ],
      "text/plain": [
       "LogisticRegression()"
      ]
     },
     "execution_count": 37,
     "metadata": {},
     "output_type": "execute_result"
    }
   ],
   "source": [
    "# https://scikit-learn.org/stable/modules/generated/sklearn.linear_model.LogisticRegression.html\n",
    "\n",
    "from sklearn.linear_model import LogisticRegression\n",
    "from sklearn.metrics import classification_report, confusion_matrix\n",
    "model = LogisticRegression(penalty = 'l2',solver = '')      # L2 penalty = ridge ()\n",
    "model.fit(train_x, train_y)"
   ]
  },
  {
   "cell_type": "code",
   "execution_count": null,
   "metadata": {},
   "outputs": [],
   "source": []
  },
  {
   "cell_type": "code",
   "execution_count": null,
   "id": "75b034e7",
   "metadata": {},
   "outputs": [],
   "source": []
  },
  {
   "cell_type": "code",
   "execution_count": 32,
   "metadata": {},
   "outputs": [],
   "source": [
    "# https://scikit-learn.org/stable/modules/generated/sklearn.linear_model.LogisticRegression.html\n",
    "\n",
    "from sklearn.linear_model import LogisticRegression\n",
    "from sklearn.metrics import classification_report, confusion_matrix\n",
    "model = LogisticRegression(penalty = 'l1', solver='liblinear', C=1, fit_intercept=True)       #liblinear is good for l1 & l2\n",
    "model.fit(train_x, train_yy)\n",
    "n = len(test_x)\n",
    "\n",
    "prob = model.predict_proba(test_x)\n",
    "\n",
    "pred = model.predict(test_x)\n",
    "\n",
    "pred = 1*(prob[:,1] > 0.5)\n",
    "\n",
    "cm = confusion_matrix(test_y, model.predict(test_x))\n",
    "frac_correct = (cm[0,0]+cm[1,1])/n"
   ]
  },
  {
   "cell_type": "code",
   "execution_count": null,
   "id": "4b2feb74",
   "metadata": {},
   "outputs": [],
   "source": []
  },
  {
   "cell_type": "markdown",
   "id": "f3dfd310",
   "metadata": {},
   "source": [
    "## Lasso - L1 regularization"
   ]
  },
  {
   "cell_type": "code",
   "execution_count": 39,
   "id": "4520569f",
   "metadata": {},
   "outputs": [
    {
     "ename": "SyntaxError",
     "evalue": "invalid syntax (434462817.py, line 8)",
     "output_type": "error",
     "traceback": [
      "\u001b[1;36m  Input \u001b[1;32mIn [39]\u001b[1;36m\u001b[0m\n\u001b[1;33m    from sklearn.linear_model = LassoCV\u001b[0m\n\u001b[1;37m                              ^\u001b[0m\n\u001b[1;31mSyntaxError\u001b[0m\u001b[1;31m:\u001b[0m invalid syntax\n"
     ]
    }
   ],
   "source": [
    "# https://scikit-learn.org/stable/modules/generated/sklearn.linear_model.Lasso.html\n",
    "\n",
    "# L1 Error means that the Absolut Value will be added\n",
    "\n",
    "# Beta can get zero\n",
    "\n",
    "from sklearn import linear_model\n",
    "from sklearn.linear_model = LassoCV\n",
    "\n",
    "lasso_reg = linear_model.Lasso(alpha=2, fit_intercept=True)\n",
    "\n",
    "lasso_reg.fit(train_x, train_y)\n",
    "print(\"Lasso Estimates from package:\", np.append(lasso_reg.intercept_,lasso_reg.coef_))"
   ]
  },
  {
   "cell_type": "code",
   "execution_count": 53,
   "id": "7fe5a73b",
   "metadata": {},
   "outputs": [
    {
     "data": {
      "text/plain": [
       "0.31755083571261244"
      ]
     },
     "execution_count": 53,
     "metadata": {},
     "output_type": "execute_result"
    }
   ],
   "source": [
    "lasso_reg.score(test_x, test_y)"
   ]
  },
  {
   "cell_type": "code",
   "execution_count": 54,
   "id": "8d4de685",
   "metadata": {},
   "outputs": [
    {
     "data": {
      "text/plain": [
       "0.30283839040616223"
      ]
     },
     "execution_count": 54,
     "metadata": {},
     "output_type": "execute_result"
    }
   ],
   "source": [
    "lasso_reg.score(train_x, train_y)"
   ]
  },
  {
   "cell_type": "markdown",
   "id": "d7ad2dee",
   "metadata": {},
   "source": [
    "## Ridge Regression - L2 regularization"
   ]
  },
  {
   "cell_type": "code",
   "execution_count": 38,
   "id": "410acec4",
   "metadata": {},
   "outputs": [
    {
     "name": "stdout",
     "output_type": "stream",
     "text": [
      "Ridge Estimates from package:  [ 6.65417578e+00  4.09991818e-05  4.57938996e-04  2.92713891e-04\n",
      " -3.40331239e-04 -3.26779635e-04  2.48816244e-06  1.29281540e-04\n",
      "  4.83328822e-03  2.96999086e-04 -1.19045207e-03 -3.96969236e-04\n",
      " -1.94275796e-05 -6.19725449e-06  4.65064293e-06  9.99399500e-05\n",
      " -1.93281354e-05 -1.11858465e-04  7.41355756e-05  1.29701974e-04\n",
      "  2.11671814e-05 -3.59669227e-06 -1.64416375e-04  1.79936697e-04\n",
      " -3.03728528e-06 -5.16837599e-05 -2.16050052e-04 -1.20282012e-04\n",
      "  2.31019267e-06  2.91108384e-05  4.29039948e-04  1.18142959e-05\n",
      " -2.50274048e-04  1.25552673e-07  1.56842502e-06 -2.06016190e-05\n",
      "  1.56842502e-06  9.12095199e-06 -4.71469958e-04  3.62480662e-04\n",
      "  1.98178222e-05  3.83989068e-04  3.39373295e-04  1.99929762e-04\n",
      " -1.40364805e-03 -1.59462422e-05  1.00638139e-04  1.70171390e-05\n",
      " -1.27898107e-04  8.58328157e-05  5.75020624e-05  4.94914044e-05\n",
      "  3.04398093e-04  2.58877190e-05]\n"
     ]
    }
   ],
   "source": [
    "# https://scikit-learn.org/stable/modules/generated/sklearn.linear_model.Ridge.html\n",
    "# https://scikit-learn.org/stable/modules/generated/sklearn.linear_model.RidgeCV.html\n",
    "\n",
    "# L2 Error means that the error is squared\n",
    "\n",
    "# Beta can get close to zero\n",
    "\n",
    "from sklearn.linear_model import Ridge\n",
    "from sklearn.linear_model import RidgeCV\n",
    "\n",
    "ridge_reg = Ridge(alpha=2, fit_intercept=True, solver='sparse_cg')\n",
    "ridge_reg.fit(train_x, train_y)\n",
    "print(\"Ridge Estimates from package: \",np.append(ridge_reg.intercept_,ridge_reg.coef_))"
   ]
  },
  {
   "cell_type": "code",
   "execution_count": 36,
   "id": "5552a8f0",
   "metadata": {},
   "outputs": [
    {
     "data": {
      "text/plain": [
       "0.3339311554743658"
      ]
     },
     "execution_count": 36,
     "metadata": {},
     "output_type": "execute_result"
    }
   ],
   "source": [
    "ridge_reg.score(test_x, test_y)"
   ]
  },
  {
   "cell_type": "code",
   "execution_count": 37,
   "id": "6890ed8d",
   "metadata": {},
   "outputs": [
    {
     "data": {
      "text/plain": [
       "0.315655873352511"
      ]
     },
     "execution_count": 37,
     "metadata": {},
     "output_type": "execute_result"
    }
   ],
   "source": [
    "ridge_reg.score(train_x, train_y)"
   ]
  },
  {
   "cell_type": "code",
   "execution_count": null,
   "id": "fa776470",
   "metadata": {},
   "outputs": [],
   "source": []
  },
  {
   "cell_type": "markdown",
   "id": "4988aec0",
   "metadata": {},
   "source": [
    "# Laurin"
   ]
  },
  {
   "cell_type": "code",
   "execution_count": null,
   "id": "15615ee2",
   "metadata": {},
   "outputs": [],
   "source": []
  },
  {
   "cell_type": "code",
   "execution_count": null,
   "id": "7ed3a365",
   "metadata": {},
   "outputs": [],
   "source": []
  },
  {
   "cell_type": "code",
   "execution_count": null,
   "id": "e4029e85",
   "metadata": {},
   "outputs": [],
   "source": []
  }
 ],
 "metadata": {
  "interpreter": {
   "hash": "e520a469617dc4d8bf771f1a7d6422397314db060637112fffa727df7f704ab9"
  },
  "kernelspec": {
   "display_name": "Python 3.8.3 ('base')",
   "language": "python",
   "name": "python3"
  },
  "language_info": {
   "codemirror_mode": {
    "name": "ipython",
    "version": 3
   },
   "file_extension": ".py",
   "mimetype": "text/x-python",
   "name": "python",
   "nbconvert_exporter": "python",
   "pygments_lexer": "ipython3",
   "version": "3.8.3"
  }
 },
 "nbformat": 4,
 "nbformat_minor": 5
}
