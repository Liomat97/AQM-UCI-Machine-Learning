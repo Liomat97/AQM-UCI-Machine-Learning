{
 "cells": [
  {
   "cell_type": "markdown",
   "id": "a68ce2a9",
   "metadata": {},
   "source": [
    "# **Import of the Data files and basic Libraries**"
   ]
  },
  {
   "cell_type": "code",
   "execution_count": 29,
   "id": "05c667c9",
   "metadata": {},
   "outputs": [],
   "source": [
    "import numpy as np\n",
    "import pandas as pd\n",
    "import statsmodels.api as sm\n",
    "import matplotlib.pyplot as plt\n",
    "from statsmodels.regression.linear_model import OLS\n",
    "\n",
    "# other imports will be made when needed later in the code"
   ]
  },
  {
   "cell_type": "code",
   "execution_count": 30,
   "id": "557f415f",
   "metadata": {},
   "outputs": [],
   "source": [
    "bank = pd.read_csv('Data/bank.csv', sep=';')\n",
    "bank_full = pd.read_csv('Data/bank-full.csv', sep=';')\n",
    "\n",
    "bank_add = pd.read_csv('Data/bank-additional.csv', sep=';')\n",
    "bank_add_full = pd.read_csv('Data/bank-additional-full.csv', sep=';')"
   ]
  },
  {
   "cell_type": "markdown",
   "id": "28ce12d9",
   "metadata": {},
   "source": [
    "# **Inspecting the Datasets**"
   ]
  },
  {
   "cell_type": "code",
   "execution_count": 31,
   "id": "d3c7c070",
   "metadata": {},
   "outputs": [],
   "source": [
    "# In the code below we examine which dataset we will use for the study"
   ]
  },
  {
   "cell_type": "code",
   "execution_count": 32,
   "id": "a346e1b3",
   "metadata": {},
   "outputs": [
    {
     "name": "stdout",
     "output_type": "stream",
     "text": [
      "<class 'pandas.core.frame.DataFrame'>\n",
      "RangeIndex: 4521 entries, 0 to 4520\n",
      "Data columns (total 17 columns):\n",
      " #   Column     Non-Null Count  Dtype \n",
      "---  ------     --------------  ----- \n",
      " 0   age        4521 non-null   int64 \n",
      " 1   job        4521 non-null   object\n",
      " 2   marital    4521 non-null   object\n",
      " 3   education  4521 non-null   object\n",
      " 4   default    4521 non-null   object\n",
      " 5   balance    4521 non-null   int64 \n",
      " 6   housing    4521 non-null   object\n",
      " 7   loan       4521 non-null   object\n",
      " 8   contact    4521 non-null   object\n",
      " 9   day        4521 non-null   int64 \n",
      " 10  month      4521 non-null   object\n",
      " 11  duration   4521 non-null   int64 \n",
      " 12  campaign   4521 non-null   int64 \n",
      " 13  pdays      4521 non-null   int64 \n",
      " 14  previous   4521 non-null   int64 \n",
      " 15  poutcome   4521 non-null   object\n",
      " 16  y          4521 non-null   object\n",
      "dtypes: int64(7), object(10)\n",
      "memory usage: 600.6+ KB\n"
     ]
    }
   ],
   "source": [
    "bank.info()"
   ]
  },
  {
   "cell_type": "code",
   "execution_count": 33,
   "id": "7b19ba59",
   "metadata": {},
   "outputs": [
    {
     "name": "stdout",
     "output_type": "stream",
     "text": [
      "<class 'pandas.core.frame.DataFrame'>\n",
      "RangeIndex: 45211 entries, 0 to 45210\n",
      "Data columns (total 17 columns):\n",
      " #   Column     Non-Null Count  Dtype \n",
      "---  ------     --------------  ----- \n",
      " 0   age        45211 non-null  int64 \n",
      " 1   job        45211 non-null  object\n",
      " 2   marital    45211 non-null  object\n",
      " 3   education  45211 non-null  object\n",
      " 4   default    45211 non-null  object\n",
      " 5   balance    45211 non-null  int64 \n",
      " 6   housing    45211 non-null  object\n",
      " 7   loan       45211 non-null  object\n",
      " 8   contact    45211 non-null  object\n",
      " 9   day        45211 non-null  int64 \n",
      " 10  month      45211 non-null  object\n",
      " 11  duration   45211 non-null  int64 \n",
      " 12  campaign   45211 non-null  int64 \n",
      " 13  pdays      45211 non-null  int64 \n",
      " 14  previous   45211 non-null  int64 \n",
      " 15  poutcome   45211 non-null  object\n",
      " 16  y          45211 non-null  object\n",
      "dtypes: int64(7), object(10)\n",
      "memory usage: 5.9+ MB\n"
     ]
    }
   ],
   "source": [
    "bank_full.info()"
   ]
  },
  {
   "cell_type": "code",
   "execution_count": 34,
   "id": "c00fcf31",
   "metadata": {},
   "outputs": [
    {
     "name": "stdout",
     "output_type": "stream",
     "text": [
      "<class 'pandas.core.frame.DataFrame'>\n",
      "RangeIndex: 4119 entries, 0 to 4118\n",
      "Data columns (total 21 columns):\n",
      " #   Column          Non-Null Count  Dtype  \n",
      "---  ------          --------------  -----  \n",
      " 0   age             4119 non-null   int64  \n",
      " 1   job             4119 non-null   object \n",
      " 2   marital         4119 non-null   object \n",
      " 3   education       4119 non-null   object \n",
      " 4   default         4119 non-null   object \n",
      " 5   housing         4119 non-null   object \n",
      " 6   loan            4119 non-null   object \n",
      " 7   contact         4119 non-null   object \n",
      " 8   month           4119 non-null   object \n",
      " 9   day_of_week     4119 non-null   object \n",
      " 10  duration        4119 non-null   int64  \n",
      " 11  campaign        4119 non-null   int64  \n",
      " 12  pdays           4119 non-null   int64  \n",
      " 13  previous        4119 non-null   int64  \n",
      " 14  poutcome        4119 non-null   object \n",
      " 15  emp.var.rate    4119 non-null   float64\n",
      " 16  cons.price.idx  4119 non-null   float64\n",
      " 17  cons.conf.idx   4119 non-null   float64\n",
      " 18  euribor3m       4119 non-null   float64\n",
      " 19  nr.employed     4119 non-null   float64\n",
      " 20  y               4119 non-null   object \n",
      "dtypes: float64(5), int64(5), object(11)\n",
      "memory usage: 675.9+ KB\n"
     ]
    }
   ],
   "source": [
    "bank_add.info()"
   ]
  },
  {
   "cell_type": "code",
   "execution_count": 35,
   "id": "778c1f4a",
   "metadata": {},
   "outputs": [
    {
     "name": "stdout",
     "output_type": "stream",
     "text": [
      "<class 'pandas.core.frame.DataFrame'>\n",
      "RangeIndex: 41188 entries, 0 to 41187\n",
      "Data columns (total 21 columns):\n",
      " #   Column          Non-Null Count  Dtype  \n",
      "---  ------          --------------  -----  \n",
      " 0   age             41188 non-null  int64  \n",
      " 1   job             41188 non-null  object \n",
      " 2   marital         41188 non-null  object \n",
      " 3   education       41188 non-null  object \n",
      " 4   default         41188 non-null  object \n",
      " 5   housing         41188 non-null  object \n",
      " 6   loan            41188 non-null  object \n",
      " 7   contact         41188 non-null  object \n",
      " 8   month           41188 non-null  object \n",
      " 9   day_of_week     41188 non-null  object \n",
      " 10  duration        41188 non-null  int64  \n",
      " 11  campaign        41188 non-null  int64  \n",
      " 12  pdays           41188 non-null  int64  \n",
      " 13  previous        41188 non-null  int64  \n",
      " 14  poutcome        41188 non-null  object \n",
      " 15  emp.var.rate    41188 non-null  float64\n",
      " 16  cons.price.idx  41188 non-null  float64\n",
      " 17  cons.conf.idx   41188 non-null  float64\n",
      " 18  euribor3m       41188 non-null  float64\n",
      " 19  nr.employed     41188 non-null  float64\n",
      " 20  y               41188 non-null  object \n",
      "dtypes: float64(5), int64(5), object(11)\n",
      "memory usage: 6.6+ MB\n"
     ]
    }
   ],
   "source": [
    "bank_add_full.info()"
   ]
  },
  {
   "cell_type": "code",
   "execution_count": 36,
   "id": "7792f208",
   "metadata": {},
   "outputs": [
    {
     "name": "stdout",
     "output_type": "stream",
     "text": [
      "The shape of bank is         :  (4521, 17)\n",
      "The shape of bank_full is    :  (45211, 17)\n",
      "The shape of bank_add is     :  (4119, 21)\n",
      "The shape of bank_add_full is:  (41188, 21)\n"
     ]
    }
   ],
   "source": [
    "print('The shape of bank is         : ', bank.shape)\n",
    "print('The shape of bank_full is    : ',bank_full.shape)\n",
    "print('The shape of bank_add is     : ',bank_add.shape)\n",
    "print('The shape of bank_add_full is: ',bank_add_full.shape)"
   ]
  },
  {
   "cell_type": "code",
   "execution_count": 37,
   "id": "aa26fa13",
   "metadata": {},
   "outputs": [],
   "source": [
    "# The biggest Dataset is the Bank_full but the one with the most independent variables is Bank_add_full. \n",
    "# In order to get the best performing prediction model we decided to choose Bank_add_full as our base dataset for this study"
   ]
  },
  {
   "cell_type": "markdown",
   "id": "968288f2",
   "metadata": {},
   "source": [
    "## Check the dataset for Missing Values"
   ]
  },
  {
   "cell_type": "code",
   "execution_count": 38,
   "id": "f4d1dbba",
   "metadata": {},
   "outputs": [
    {
     "data": {
      "text/plain": [
       "age               0\n",
       "job               0\n",
       "marital           0\n",
       "education         0\n",
       "default           0\n",
       "housing           0\n",
       "loan              0\n",
       "contact           0\n",
       "month             0\n",
       "day_of_week       0\n",
       "duration          0\n",
       "campaign          0\n",
       "pdays             0\n",
       "previous          0\n",
       "poutcome          0\n",
       "emp.var.rate      0\n",
       "cons.price.idx    0\n",
       "cons.conf.idx     0\n",
       "euribor3m         0\n",
       "nr.employed       0\n",
       "y                 0\n",
       "dtype: int64"
      ]
     },
     "execution_count": 38,
     "metadata": {},
     "output_type": "execute_result"
    }
   ],
   "source": [
    "bank_add_full.isna().sum()"
   ]
  },
  {
   "cell_type": "code",
   "execution_count": 39,
   "id": "4cee6878",
   "metadata": {},
   "outputs": [
    {
     "data": {
      "text/html": [
       "<div>\n",
       "<style scoped>\n",
       "    .dataframe tbody tr th:only-of-type {\n",
       "        vertical-align: middle;\n",
       "    }\n",
       "\n",
       "    .dataframe tbody tr th {\n",
       "        vertical-align: top;\n",
       "    }\n",
       "\n",
       "    .dataframe thead th {\n",
       "        text-align: right;\n",
       "    }\n",
       "</style>\n",
       "<table border=\"1\" class=\"dataframe\">\n",
       "  <thead>\n",
       "    <tr style=\"text-align: right;\">\n",
       "      <th></th>\n",
       "      <th>age</th>\n",
       "      <th>job</th>\n",
       "      <th>marital</th>\n",
       "      <th>education</th>\n",
       "      <th>default</th>\n",
       "      <th>housing</th>\n",
       "      <th>loan</th>\n",
       "      <th>contact</th>\n",
       "      <th>month</th>\n",
       "      <th>day_of_week</th>\n",
       "      <th>...</th>\n",
       "      <th>campaign</th>\n",
       "      <th>pdays</th>\n",
       "      <th>previous</th>\n",
       "      <th>poutcome</th>\n",
       "      <th>emp.var.rate</th>\n",
       "      <th>cons.price.idx</th>\n",
       "      <th>cons.conf.idx</th>\n",
       "      <th>euribor3m</th>\n",
       "      <th>nr.employed</th>\n",
       "      <th>y</th>\n",
       "    </tr>\n",
       "  </thead>\n",
       "  <tbody>\n",
       "    <tr>\n",
       "      <th>0</th>\n",
       "      <td>56</td>\n",
       "      <td>housemaid</td>\n",
       "      <td>married</td>\n",
       "      <td>basic.4y</td>\n",
       "      <td>no</td>\n",
       "      <td>no</td>\n",
       "      <td>no</td>\n",
       "      <td>telephone</td>\n",
       "      <td>may</td>\n",
       "      <td>mon</td>\n",
       "      <td>...</td>\n",
       "      <td>1</td>\n",
       "      <td>999</td>\n",
       "      <td>0</td>\n",
       "      <td>nonexistent</td>\n",
       "      <td>1.1</td>\n",
       "      <td>93.994</td>\n",
       "      <td>-36.4</td>\n",
       "      <td>4.857</td>\n",
       "      <td>5191.0</td>\n",
       "      <td>no</td>\n",
       "    </tr>\n",
       "    <tr>\n",
       "      <th>1</th>\n",
       "      <td>57</td>\n",
       "      <td>services</td>\n",
       "      <td>married</td>\n",
       "      <td>high.school</td>\n",
       "      <td>unknown</td>\n",
       "      <td>no</td>\n",
       "      <td>no</td>\n",
       "      <td>telephone</td>\n",
       "      <td>may</td>\n",
       "      <td>mon</td>\n",
       "      <td>...</td>\n",
       "      <td>1</td>\n",
       "      <td>999</td>\n",
       "      <td>0</td>\n",
       "      <td>nonexistent</td>\n",
       "      <td>1.1</td>\n",
       "      <td>93.994</td>\n",
       "      <td>-36.4</td>\n",
       "      <td>4.857</td>\n",
       "      <td>5191.0</td>\n",
       "      <td>no</td>\n",
       "    </tr>\n",
       "    <tr>\n",
       "      <th>2</th>\n",
       "      <td>37</td>\n",
       "      <td>services</td>\n",
       "      <td>married</td>\n",
       "      <td>high.school</td>\n",
       "      <td>no</td>\n",
       "      <td>yes</td>\n",
       "      <td>no</td>\n",
       "      <td>telephone</td>\n",
       "      <td>may</td>\n",
       "      <td>mon</td>\n",
       "      <td>...</td>\n",
       "      <td>1</td>\n",
       "      <td>999</td>\n",
       "      <td>0</td>\n",
       "      <td>nonexistent</td>\n",
       "      <td>1.1</td>\n",
       "      <td>93.994</td>\n",
       "      <td>-36.4</td>\n",
       "      <td>4.857</td>\n",
       "      <td>5191.0</td>\n",
       "      <td>no</td>\n",
       "    </tr>\n",
       "    <tr>\n",
       "      <th>3</th>\n",
       "      <td>40</td>\n",
       "      <td>admin.</td>\n",
       "      <td>married</td>\n",
       "      <td>basic.6y</td>\n",
       "      <td>no</td>\n",
       "      <td>no</td>\n",
       "      <td>no</td>\n",
       "      <td>telephone</td>\n",
       "      <td>may</td>\n",
       "      <td>mon</td>\n",
       "      <td>...</td>\n",
       "      <td>1</td>\n",
       "      <td>999</td>\n",
       "      <td>0</td>\n",
       "      <td>nonexistent</td>\n",
       "      <td>1.1</td>\n",
       "      <td>93.994</td>\n",
       "      <td>-36.4</td>\n",
       "      <td>4.857</td>\n",
       "      <td>5191.0</td>\n",
       "      <td>no</td>\n",
       "    </tr>\n",
       "    <tr>\n",
       "      <th>4</th>\n",
       "      <td>56</td>\n",
       "      <td>services</td>\n",
       "      <td>married</td>\n",
       "      <td>high.school</td>\n",
       "      <td>no</td>\n",
       "      <td>no</td>\n",
       "      <td>yes</td>\n",
       "      <td>telephone</td>\n",
       "      <td>may</td>\n",
       "      <td>mon</td>\n",
       "      <td>...</td>\n",
       "      <td>1</td>\n",
       "      <td>999</td>\n",
       "      <td>0</td>\n",
       "      <td>nonexistent</td>\n",
       "      <td>1.1</td>\n",
       "      <td>93.994</td>\n",
       "      <td>-36.4</td>\n",
       "      <td>4.857</td>\n",
       "      <td>5191.0</td>\n",
       "      <td>no</td>\n",
       "    </tr>\n",
       "  </tbody>\n",
       "</table>\n",
       "<p>5 rows × 21 columns</p>\n",
       "</div>"
      ],
      "text/plain": [
       "   age        job  marital    education  default housing loan    contact  \\\n",
       "0   56  housemaid  married     basic.4y       no      no   no  telephone   \n",
       "1   57   services  married  high.school  unknown      no   no  telephone   \n",
       "2   37   services  married  high.school       no     yes   no  telephone   \n",
       "3   40     admin.  married     basic.6y       no      no   no  telephone   \n",
       "4   56   services  married  high.school       no      no  yes  telephone   \n",
       "\n",
       "  month day_of_week  ...  campaign  pdays  previous     poutcome emp.var.rate  \\\n",
       "0   may         mon  ...         1    999         0  nonexistent          1.1   \n",
       "1   may         mon  ...         1    999         0  nonexistent          1.1   \n",
       "2   may         mon  ...         1    999         0  nonexistent          1.1   \n",
       "3   may         mon  ...         1    999         0  nonexistent          1.1   \n",
       "4   may         mon  ...         1    999         0  nonexistent          1.1   \n",
       "\n",
       "   cons.price.idx  cons.conf.idx  euribor3m  nr.employed   y  \n",
       "0          93.994          -36.4      4.857       5191.0  no  \n",
       "1          93.994          -36.4      4.857       5191.0  no  \n",
       "2          93.994          -36.4      4.857       5191.0  no  \n",
       "3          93.994          -36.4      4.857       5191.0  no  \n",
       "4          93.994          -36.4      4.857       5191.0  no  \n",
       "\n",
       "[5 rows x 21 columns]"
      ]
     },
     "execution_count": 39,
     "metadata": {},
     "output_type": "execute_result"
    }
   ],
   "source": [
    "bank_add_full.head()"
   ]
  },
  {
   "cell_type": "code",
   "execution_count": 40,
   "id": "e565f24c",
   "metadata": {},
   "outputs": [
    {
     "data": {
      "text/plain": [
       "Index(['age', 'job', 'marital', 'education', 'default', 'housing', 'loan',\n",
       "       'contact', 'month', 'day_of_week', 'duration', 'campaign', 'pdays',\n",
       "       'previous', 'poutcome', 'emp.var.rate', 'cons.price.idx',\n",
       "       'cons.conf.idx', 'euribor3m', 'nr.employed', 'y'],\n",
       "      dtype='object')"
      ]
     },
     "execution_count": 40,
     "metadata": {},
     "output_type": "execute_result"
    }
   ],
   "source": [
    "bank_add_full.keys()"
   ]
  },
  {
   "cell_type": "code",
   "execution_count": 41,
   "id": "57ce2d6e",
   "metadata": {},
   "outputs": [],
   "source": [
    "# As you can also see, there are no missing values.\n",
    "# therefore the dataset is complete and no further cleaning has to be done"
   ]
  },
  {
   "cell_type": "markdown",
   "id": "3ec511a2",
   "metadata": {},
   "source": [
    "# **Transform the Dataset**"
   ]
  },
  {
   "cell_type": "markdown",
   "id": "efc623bd",
   "metadata": {},
   "source": [
    "## Change the Classification to a Binary "
   ]
  },
  {
   "cell_type": "code",
   "execution_count": 42,
   "id": "98ccc0ea",
   "metadata": {},
   "outputs": [
    {
     "data": {
      "text/html": [
       "<div>\n",
       "<style scoped>\n",
       "    .dataframe tbody tr th:only-of-type {\n",
       "        vertical-align: middle;\n",
       "    }\n",
       "\n",
       "    .dataframe tbody tr th {\n",
       "        vertical-align: top;\n",
       "    }\n",
       "\n",
       "    .dataframe thead th {\n",
       "        text-align: right;\n",
       "    }\n",
       "</style>\n",
       "<table border=\"1\" class=\"dataframe\">\n",
       "  <thead>\n",
       "    <tr style=\"text-align: right;\">\n",
       "      <th></th>\n",
       "      <th>age</th>\n",
       "      <th>duration</th>\n",
       "      <th>campaign</th>\n",
       "      <th>pdays</th>\n",
       "      <th>previous</th>\n",
       "      <th>emp.var.rate</th>\n",
       "      <th>cons.price.idx</th>\n",
       "      <th>cons.conf.idx</th>\n",
       "      <th>euribor3m</th>\n",
       "      <th>nr.employed</th>\n",
       "      <th>...</th>\n",
       "      <th>month_nov</th>\n",
       "      <th>month_oct</th>\n",
       "      <th>month_sep</th>\n",
       "      <th>day_of_week_mon</th>\n",
       "      <th>day_of_week_thu</th>\n",
       "      <th>day_of_week_tue</th>\n",
       "      <th>day_of_week_wed</th>\n",
       "      <th>poutcome_nonexistent</th>\n",
       "      <th>poutcome_success</th>\n",
       "      <th>y_yes</th>\n",
       "    </tr>\n",
       "  </thead>\n",
       "  <tbody>\n",
       "    <tr>\n",
       "      <th>0</th>\n",
       "      <td>56</td>\n",
       "      <td>261</td>\n",
       "      <td>1</td>\n",
       "      <td>999</td>\n",
       "      <td>0</td>\n",
       "      <td>1.1</td>\n",
       "      <td>93.994</td>\n",
       "      <td>-36.4</td>\n",
       "      <td>4.857</td>\n",
       "      <td>5191.0</td>\n",
       "      <td>...</td>\n",
       "      <td>0</td>\n",
       "      <td>0</td>\n",
       "      <td>0</td>\n",
       "      <td>1</td>\n",
       "      <td>0</td>\n",
       "      <td>0</td>\n",
       "      <td>0</td>\n",
       "      <td>1</td>\n",
       "      <td>0</td>\n",
       "      <td>0</td>\n",
       "    </tr>\n",
       "    <tr>\n",
       "      <th>1</th>\n",
       "      <td>57</td>\n",
       "      <td>149</td>\n",
       "      <td>1</td>\n",
       "      <td>999</td>\n",
       "      <td>0</td>\n",
       "      <td>1.1</td>\n",
       "      <td>93.994</td>\n",
       "      <td>-36.4</td>\n",
       "      <td>4.857</td>\n",
       "      <td>5191.0</td>\n",
       "      <td>...</td>\n",
       "      <td>0</td>\n",
       "      <td>0</td>\n",
       "      <td>0</td>\n",
       "      <td>1</td>\n",
       "      <td>0</td>\n",
       "      <td>0</td>\n",
       "      <td>0</td>\n",
       "      <td>1</td>\n",
       "      <td>0</td>\n",
       "      <td>0</td>\n",
       "    </tr>\n",
       "    <tr>\n",
       "      <th>2</th>\n",
       "      <td>37</td>\n",
       "      <td>226</td>\n",
       "      <td>1</td>\n",
       "      <td>999</td>\n",
       "      <td>0</td>\n",
       "      <td>1.1</td>\n",
       "      <td>93.994</td>\n",
       "      <td>-36.4</td>\n",
       "      <td>4.857</td>\n",
       "      <td>5191.0</td>\n",
       "      <td>...</td>\n",
       "      <td>0</td>\n",
       "      <td>0</td>\n",
       "      <td>0</td>\n",
       "      <td>1</td>\n",
       "      <td>0</td>\n",
       "      <td>0</td>\n",
       "      <td>0</td>\n",
       "      <td>1</td>\n",
       "      <td>0</td>\n",
       "      <td>0</td>\n",
       "    </tr>\n",
       "    <tr>\n",
       "      <th>3</th>\n",
       "      <td>40</td>\n",
       "      <td>151</td>\n",
       "      <td>1</td>\n",
       "      <td>999</td>\n",
       "      <td>0</td>\n",
       "      <td>1.1</td>\n",
       "      <td>93.994</td>\n",
       "      <td>-36.4</td>\n",
       "      <td>4.857</td>\n",
       "      <td>5191.0</td>\n",
       "      <td>...</td>\n",
       "      <td>0</td>\n",
       "      <td>0</td>\n",
       "      <td>0</td>\n",
       "      <td>1</td>\n",
       "      <td>0</td>\n",
       "      <td>0</td>\n",
       "      <td>0</td>\n",
       "      <td>1</td>\n",
       "      <td>0</td>\n",
       "      <td>0</td>\n",
       "    </tr>\n",
       "    <tr>\n",
       "      <th>4</th>\n",
       "      <td>56</td>\n",
       "      <td>307</td>\n",
       "      <td>1</td>\n",
       "      <td>999</td>\n",
       "      <td>0</td>\n",
       "      <td>1.1</td>\n",
       "      <td>93.994</td>\n",
       "      <td>-36.4</td>\n",
       "      <td>4.857</td>\n",
       "      <td>5191.0</td>\n",
       "      <td>...</td>\n",
       "      <td>0</td>\n",
       "      <td>0</td>\n",
       "      <td>0</td>\n",
       "      <td>1</td>\n",
       "      <td>0</td>\n",
       "      <td>0</td>\n",
       "      <td>0</td>\n",
       "      <td>1</td>\n",
       "      <td>0</td>\n",
       "      <td>0</td>\n",
       "    </tr>\n",
       "  </tbody>\n",
       "</table>\n",
       "<p>5 rows × 54 columns</p>\n",
       "</div>"
      ],
      "text/plain": [
       "   age  duration  campaign  pdays  previous  emp.var.rate  cons.price.idx  \\\n",
       "0   56       261         1    999         0           1.1          93.994   \n",
       "1   57       149         1    999         0           1.1          93.994   \n",
       "2   37       226         1    999         0           1.1          93.994   \n",
       "3   40       151         1    999         0           1.1          93.994   \n",
       "4   56       307         1    999         0           1.1          93.994   \n",
       "\n",
       "   cons.conf.idx  euribor3m  nr.employed  ...  month_nov  month_oct  \\\n",
       "0          -36.4      4.857       5191.0  ...          0          0   \n",
       "1          -36.4      4.857       5191.0  ...          0          0   \n",
       "2          -36.4      4.857       5191.0  ...          0          0   \n",
       "3          -36.4      4.857       5191.0  ...          0          0   \n",
       "4          -36.4      4.857       5191.0  ...          0          0   \n",
       "\n",
       "   month_sep  day_of_week_mon  day_of_week_thu  day_of_week_tue  \\\n",
       "0          0                1                0                0   \n",
       "1          0                1                0                0   \n",
       "2          0                1                0                0   \n",
       "3          0                1                0                0   \n",
       "4          0                1                0                0   \n",
       "\n",
       "   day_of_week_wed  poutcome_nonexistent  poutcome_success  y_yes  \n",
       "0                0                     1                 0      0  \n",
       "1                0                     1                 0      0  \n",
       "2                0                     1                 0      0  \n",
       "3                0                     1                 0      0  \n",
       "4                0                     1                 0      0  \n",
       "\n",
       "[5 rows x 54 columns]"
      ]
     },
     "execution_count": 42,
     "metadata": {},
     "output_type": "execute_result"
    }
   ],
   "source": [
    "clean_bank_add_full = pd.get_dummies(bank_add_full, drop_first=True)\n",
    "clean_bank_add_full.head()"
   ]
  },
  {
   "cell_type": "code",
   "execution_count": 43,
   "id": "8d16c17b",
   "metadata": {},
   "outputs": [
    {
     "data": {
      "text/plain": [
       "Index(['age', 'duration', 'campaign', 'pdays', 'previous', 'emp.var.rate',\n",
       "       'cons.price.idx', 'cons.conf.idx', 'euribor3m', 'nr.employed',\n",
       "       'job_blue-collar', 'job_entrepreneur', 'job_housemaid',\n",
       "       'job_management', 'job_retired', 'job_self-employed', 'job_services',\n",
       "       'job_student', 'job_technician', 'job_unemployed', 'job_unknown',\n",
       "       'marital_married', 'marital_single', 'marital_unknown',\n",
       "       'education_basic.6y', 'education_basic.9y', 'education_high.school',\n",
       "       'education_illiterate', 'education_professional.course',\n",
       "       'education_university.degree', 'education_unknown', 'default_unknown',\n",
       "       'default_yes', 'housing_unknown', 'housing_yes', 'loan_unknown',\n",
       "       'loan_yes', 'contact_telephone', 'month_aug', 'month_dec', 'month_jul',\n",
       "       'month_jun', 'month_mar', 'month_may', 'month_nov', 'month_oct',\n",
       "       'month_sep', 'day_of_week_mon', 'day_of_week_thu', 'day_of_week_tue',\n",
       "       'day_of_week_wed', 'poutcome_nonexistent', 'poutcome_success', 'y_yes'],\n",
       "      dtype='object')"
      ]
     },
     "execution_count": 43,
     "metadata": {},
     "output_type": "execute_result"
    }
   ],
   "source": [
    "clean_bank_add_full.keys()"
   ]
  },
  {
   "cell_type": "code",
   "execution_count": 44,
   "id": "8e3b5958",
   "metadata": {},
   "outputs": [],
   "source": [
    "# After inspecting the different variables, we observed that not all \"months\" & \"day_of_week\" were not present in the dataset\n",
    "# We decided this missing values are not relevant for the scope of this research"
   ]
  },
  {
   "cell_type": "markdown",
   "id": "69736c9e",
   "metadata": {},
   "source": [
    "## Drop duration"
   ]
  },
  {
   "cell_type": "code",
   "execution_count": 45,
   "id": "5b426d43",
   "metadata": {},
   "outputs": [],
   "source": [
    "# according to the researchers it is usefull to drop duration\n",
    "clean_bank_add_full = clean_bank_add_full.drop('duration', axis=1)"
   ]
  },
  {
   "cell_type": "code",
   "execution_count": 46,
   "id": "74343e06",
   "metadata": {},
   "outputs": [
    {
     "data": {
      "text/plain": [
       "Index(['age', 'campaign', 'pdays', 'previous', 'emp.var.rate',\n",
       "       'cons.price.idx', 'cons.conf.idx', 'euribor3m', 'nr.employed',\n",
       "       'job_blue-collar', 'job_entrepreneur', 'job_housemaid',\n",
       "       'job_management', 'job_retired', 'job_self-employed', 'job_services',\n",
       "       'job_student', 'job_technician', 'job_unemployed', 'job_unknown',\n",
       "       'marital_married', 'marital_single', 'marital_unknown',\n",
       "       'education_basic.6y', 'education_basic.9y', 'education_high.school',\n",
       "       'education_illiterate', 'education_professional.course',\n",
       "       'education_university.degree', 'education_unknown', 'default_unknown',\n",
       "       'default_yes', 'housing_unknown', 'housing_yes', 'loan_unknown',\n",
       "       'loan_yes', 'contact_telephone', 'month_aug', 'month_dec', 'month_jul',\n",
       "       'month_jun', 'month_mar', 'month_may', 'month_nov', 'month_oct',\n",
       "       'month_sep', 'day_of_week_mon', 'day_of_week_thu', 'day_of_week_tue',\n",
       "       'day_of_week_wed', 'poutcome_nonexistent', 'poutcome_success', 'y_yes'],\n",
       "      dtype='object')"
      ]
     },
     "execution_count": 46,
     "metadata": {},
     "output_type": "execute_result"
    }
   ],
   "source": [
    "clean_bank_add_full.keys()"
   ]
  },
  {
   "cell_type": "markdown",
   "id": "81601451",
   "metadata": {},
   "source": [
    "## Next we define the X & Y"
   ]
  },
  {
   "cell_type": "code",
   "execution_count": 47,
   "id": "b1ad8f45",
   "metadata": {},
   "outputs": [],
   "source": [
    "# We define the x Table and y Table\n",
    "    #x Table contains all variables (without the outcome)\n",
    "    #y Table only contains the Outcome 0 or 1 (=Success)\n",
    "x = clean_bank_add_full.drop('y_yes', axis=1)       # independant features\n",
    "y = clean_bank_add_full['y_yes']                    # dependent variable"
   ]
  },
  {
   "cell_type": "markdown",
   "id": "51ec841f",
   "metadata": {},
   "source": [
    "## We split the Dataset into Train (0.7) / Test (0.3)"
   ]
  },
  {
   "cell_type": "code",
   "execution_count": 75,
   "id": "a5ec74bf",
   "metadata": {},
   "outputs": [],
   "source": [
    "# As we go with the logistic regression model without tuning parameter we decided to split the data only in train & test.\n",
    "\n",
    "from sklearn.model_selection import train_test_split\n",
    "\n",
    "# First we split in Train (0.7) & in Test (0.3)\n",
    "# random_state means the code will always have the same training set (in order to reproduce results)\n",
    "train_x, test_x, train_y, test_y = train_test_split(x, y, test_size=0.3, random_state=42)\n",
    "\n",
    "#Secondly we split in Train & Validation\n",
    "# random_state means the code will always have the same training set (in order to reproduce results)\n",
    "\n",
    "train_x_val, validation_x, train_y_val, validation_y = train_test_split(train_x,train_y, test_size=(0.2/0.7), random_state=42)"
   ]
  },
  {
   "cell_type": "code",
   "execution_count": 49,
   "metadata": {},
   "outputs": [
    {
     "data": {
      "text/html": [
       "<div>\n",
       "<style scoped>\n",
       "    .dataframe tbody tr th:only-of-type {\n",
       "        vertical-align: middle;\n",
       "    }\n",
       "\n",
       "    .dataframe tbody tr th {\n",
       "        vertical-align: top;\n",
       "    }\n",
       "\n",
       "    .dataframe thead th {\n",
       "        text-align: right;\n",
       "    }\n",
       "</style>\n",
       "<table border=\"1\" class=\"dataframe\">\n",
       "  <thead>\n",
       "    <tr style=\"text-align: right;\">\n",
       "      <th></th>\n",
       "      <th>age</th>\n",
       "      <th>campaign</th>\n",
       "      <th>pdays</th>\n",
       "      <th>previous</th>\n",
       "      <th>emp.var.rate</th>\n",
       "      <th>cons.price.idx</th>\n",
       "      <th>cons.conf.idx</th>\n",
       "      <th>euribor3m</th>\n",
       "      <th>nr.employed</th>\n",
       "      <th>job_blue-collar</th>\n",
       "      <th>...</th>\n",
       "      <th>month_may</th>\n",
       "      <th>month_nov</th>\n",
       "      <th>month_oct</th>\n",
       "      <th>month_sep</th>\n",
       "      <th>day_of_week_mon</th>\n",
       "      <th>day_of_week_thu</th>\n",
       "      <th>day_of_week_tue</th>\n",
       "      <th>day_of_week_wed</th>\n",
       "      <th>poutcome_nonexistent</th>\n",
       "      <th>poutcome_success</th>\n",
       "    </tr>\n",
       "  </thead>\n",
       "  <tbody>\n",
       "    <tr>\n",
       "      <th>39075</th>\n",
       "      <td>29</td>\n",
       "      <td>3</td>\n",
       "      <td>999</td>\n",
       "      <td>1</td>\n",
       "      <td>-3.0</td>\n",
       "      <td>92.713</td>\n",
       "      <td>-33.0</td>\n",
       "      <td>0.709</td>\n",
       "      <td>5023.5</td>\n",
       "      <td>0</td>\n",
       "      <td>...</td>\n",
       "      <td>0</td>\n",
       "      <td>0</td>\n",
       "      <td>0</td>\n",
       "      <td>0</td>\n",
       "      <td>1</td>\n",
       "      <td>0</td>\n",
       "      <td>0</td>\n",
       "      <td>0</td>\n",
       "      <td>0</td>\n",
       "      <td>0</td>\n",
       "    </tr>\n",
       "    <tr>\n",
       "      <th>34855</th>\n",
       "      <td>29</td>\n",
       "      <td>4</td>\n",
       "      <td>999</td>\n",
       "      <td>0</td>\n",
       "      <td>-1.8</td>\n",
       "      <td>92.893</td>\n",
       "      <td>-46.2</td>\n",
       "      <td>1.250</td>\n",
       "      <td>5099.1</td>\n",
       "      <td>0</td>\n",
       "      <td>...</td>\n",
       "      <td>1</td>\n",
       "      <td>0</td>\n",
       "      <td>0</td>\n",
       "      <td>0</td>\n",
       "      <td>0</td>\n",
       "      <td>0</td>\n",
       "      <td>0</td>\n",
       "      <td>0</td>\n",
       "      <td>1</td>\n",
       "      <td>0</td>\n",
       "    </tr>\n",
       "    <tr>\n",
       "      <th>7107</th>\n",
       "      <td>45</td>\n",
       "      <td>2</td>\n",
       "      <td>999</td>\n",
       "      <td>0</td>\n",
       "      <td>1.1</td>\n",
       "      <td>93.994</td>\n",
       "      <td>-36.4</td>\n",
       "      <td>4.860</td>\n",
       "      <td>5191.0</td>\n",
       "      <td>1</td>\n",
       "      <td>...</td>\n",
       "      <td>1</td>\n",
       "      <td>0</td>\n",
       "      <td>0</td>\n",
       "      <td>0</td>\n",
       "      <td>0</td>\n",
       "      <td>1</td>\n",
       "      <td>0</td>\n",
       "      <td>0</td>\n",
       "      <td>1</td>\n",
       "      <td>0</td>\n",
       "    </tr>\n",
       "    <tr>\n",
       "      <th>31614</th>\n",
       "      <td>34</td>\n",
       "      <td>1</td>\n",
       "      <td>999</td>\n",
       "      <td>1</td>\n",
       "      <td>-1.8</td>\n",
       "      <td>92.893</td>\n",
       "      <td>-46.2</td>\n",
       "      <td>1.327</td>\n",
       "      <td>5099.1</td>\n",
       "      <td>0</td>\n",
       "      <td>...</td>\n",
       "      <td>1</td>\n",
       "      <td>0</td>\n",
       "      <td>0</td>\n",
       "      <td>0</td>\n",
       "      <td>0</td>\n",
       "      <td>1</td>\n",
       "      <td>0</td>\n",
       "      <td>0</td>\n",
       "      <td>0</td>\n",
       "      <td>0</td>\n",
       "    </tr>\n",
       "    <tr>\n",
       "      <th>34878</th>\n",
       "      <td>32</td>\n",
       "      <td>9</td>\n",
       "      <td>999</td>\n",
       "      <td>0</td>\n",
       "      <td>-1.8</td>\n",
       "      <td>92.893</td>\n",
       "      <td>-46.2</td>\n",
       "      <td>1.250</td>\n",
       "      <td>5099.1</td>\n",
       "      <td>0</td>\n",
       "      <td>...</td>\n",
       "      <td>1</td>\n",
       "      <td>0</td>\n",
       "      <td>0</td>\n",
       "      <td>0</td>\n",
       "      <td>0</td>\n",
       "      <td>0</td>\n",
       "      <td>0</td>\n",
       "      <td>0</td>\n",
       "      <td>1</td>\n",
       "      <td>0</td>\n",
       "    </tr>\n",
       "  </tbody>\n",
       "</table>\n",
       "<p>5 rows × 52 columns</p>\n",
       "</div>"
      ],
      "text/plain": [
       "       age  campaign  pdays  previous  emp.var.rate  cons.price.idx  \\\n",
       "39075   29         3    999         1          -3.0          92.713   \n",
       "34855   29         4    999         0          -1.8          92.893   \n",
       "7107    45         2    999         0           1.1          93.994   \n",
       "31614   34         1    999         1          -1.8          92.893   \n",
       "34878   32         9    999         0          -1.8          92.893   \n",
       "\n",
       "       cons.conf.idx  euribor3m  nr.employed  job_blue-collar  ...  month_may  \\\n",
       "39075          -33.0      0.709       5023.5                0  ...          0   \n",
       "34855          -46.2      1.250       5099.1                0  ...          1   \n",
       "7107           -36.4      4.860       5191.0                1  ...          1   \n",
       "31614          -46.2      1.327       5099.1                0  ...          1   \n",
       "34878          -46.2      1.250       5099.1                0  ...          1   \n",
       "\n",
       "       month_nov  month_oct  month_sep  day_of_week_mon  day_of_week_thu  \\\n",
       "39075          0          0          0                1                0   \n",
       "34855          0          0          0                0                0   \n",
       "7107           0          0          0                0                1   \n",
       "31614          0          0          0                0                1   \n",
       "34878          0          0          0                0                0   \n",
       "\n",
       "       day_of_week_tue  day_of_week_wed  poutcome_nonexistent  \\\n",
       "39075                0                0                     0   \n",
       "34855                0                0                     1   \n",
       "7107                 0                0                     1   \n",
       "31614                0                0                     0   \n",
       "34878                0                0                     1   \n",
       "\n",
       "       poutcome_success  \n",
       "39075                 0  \n",
       "34855                 0  \n",
       "7107                  0  \n",
       "31614                 0  \n",
       "34878                 0  \n",
       "\n",
       "[5 rows x 52 columns]"
      ]
     },
     "execution_count": 49,
     "metadata": {},
     "output_type": "execute_result"
    }
   ],
   "source": [
    "train_x.head()"
   ]
  },
  {
   "cell_type": "code",
   "execution_count": 50,
   "id": "029ee429",
   "metadata": {},
   "outputs": [
    {
     "name": "stdout",
     "output_type": "stream",
     "text": [
      "Shape of train_x             : (28831, 52)\n",
      "Shape of test_x              : (12357, 52)\n",
      "Shape of train_y             : (28831,)\n",
      "Shape of test_y              : (12357,)\n",
      "\n",
      "Lenght of Dataset            :  41188\n",
      "Percentage of Train          :  70.00 %\n",
      "Percentage of Test           :  30.00 %\n"
     ]
    }
   ],
   "source": [
    "#Quick check if the split is correct:\n",
    "print(\"Shape of train_x             : \"+str(train_x.shape))\n",
    "print(\"Shape of test_x              : \"+str(test_x.shape))\n",
    "print(\"Shape of train_y             : \"+str(train_y.shape))\n",
    "print(\"Shape of test_y              : \"+str(test_y.shape))\n",
    "print('')\n",
    "print(\"Lenght of Dataset            : \", len(x))\n",
    "print(\"Percentage of Train          : \", '{:.2f}'.format(len(train_x)/len(x)*100), '%')\n",
    "print(\"Percentage of Test           : \", '{:.2f}'.format(len(test_x)/len(x)*100), '%')\n"
   ]
  },
  {
   "cell_type": "markdown",
   "id": "9cb767be",
   "metadata": {},
   "source": [
    "## Linear Regression - OLS"
   ]
  },
  {
   "cell_type": "code",
   "execution_count": 51,
   "id": "8c1c24fb",
   "metadata": {},
   "outputs": [
    {
     "data": {
      "text/html": [
       "<table class=\"simpletable\">\n",
       "<caption>OLS Regression Results</caption>\n",
       "<tr>\n",
       "  <th>Dep. Variable:</th>          <td>y_yes</td>      <th>  R-squared:         </th> <td>   0.216</td>\n",
       "</tr>\n",
       "<tr>\n",
       "  <th>Model:</th>                   <td>OLS</td>       <th>  Adj. R-squared:    </th> <td>   0.215</td>\n",
       "</tr>\n",
       "<tr>\n",
       "  <th>Method:</th>             <td>Least Squares</td>  <th>  F-statistic:       </th> <td>   155.9</td>\n",
       "</tr>\n",
       "<tr>\n",
       "  <th>Date:</th>             <td>Sat, 11 Jun 2022</td> <th>  Prob (F-statistic):</th>  <td>  0.00</td> \n",
       "</tr>\n",
       "<tr>\n",
       "  <th>Time:</th>                 <td>15:16:36</td>     <th>  Log-Likelihood:    </th> <td> -4206.8</td>\n",
       "</tr>\n",
       "<tr>\n",
       "  <th>No. Observations:</th>      <td> 28831</td>      <th>  AIC:               </th> <td>   8518.</td>\n",
       "</tr>\n",
       "<tr>\n",
       "  <th>Df Residuals:</th>          <td> 28779</td>      <th>  BIC:               </th> <td>   8948.</td>\n",
       "</tr>\n",
       "<tr>\n",
       "  <th>Df Model:</th>              <td>    51</td>      <th>                     </th>     <td> </td>   \n",
       "</tr>\n",
       "<tr>\n",
       "  <th>Covariance Type:</th>      <td>nonrobust</td>    <th>                     </th>     <td> </td>   \n",
       "</tr>\n",
       "</table>\n",
       "<table class=\"simpletable\">\n",
       "<tr>\n",
       "                <td></td>                   <th>coef</th>     <th>std err</th>      <th>t</th>      <th>P>|t|</th>  <th>[0.025</th>    <th>0.975]</th>  \n",
       "</tr>\n",
       "<tr>\n",
       "  <th>const</th>                         <td>  -23.4651</td> <td>    4.000</td> <td>   -5.866</td> <td> 0.000</td> <td>  -31.306</td> <td>  -15.625</td>\n",
       "</tr>\n",
       "<tr>\n",
       "  <th>age</th>                           <td>-9.685e-05</td> <td>    0.000</td> <td>   -0.470</td> <td> 0.638</td> <td>   -0.001</td> <td>    0.000</td>\n",
       "</tr>\n",
       "<tr>\n",
       "  <th>campaign</th>                      <td>   -0.0023</td> <td>    0.001</td> <td>   -3.776</td> <td> 0.000</td> <td>   -0.004</td> <td>   -0.001</td>\n",
       "</tr>\n",
       "<tr>\n",
       "  <th>pdays</th>                         <td>   -0.0002</td> <td> 3.11e-05</td> <td>   -7.687</td> <td> 0.000</td> <td>   -0.000</td> <td>   -0.000</td>\n",
       "</tr>\n",
       "<tr>\n",
       "  <th>previous</th>                      <td>   -0.0104</td> <td>    0.008</td> <td>   -1.278</td> <td> 0.201</td> <td>   -0.026</td> <td>    0.006</td>\n",
       "</tr>\n",
       "<tr>\n",
       "  <th>emp.var.rate</th>                  <td>   -0.2088</td> <td>    0.016</td> <td>  -13.123</td> <td> 0.000</td> <td>   -0.240</td> <td>   -0.178</td>\n",
       "</tr>\n",
       "<tr>\n",
       "  <th>cons.price.idx</th>                <td>    0.2571</td> <td>    0.027</td> <td>    9.665</td> <td> 0.000</td> <td>    0.205</td> <td>    0.309</td>\n",
       "</tr>\n",
       "<tr>\n",
       "  <th>cons.conf.idx</th>                 <td>    0.0037</td> <td>    0.001</td> <td>    4.037</td> <td> 0.000</td> <td>    0.002</td> <td>    0.006</td>\n",
       "</tr>\n",
       "<tr>\n",
       "  <th>euribor3m</th>                     <td>    0.0836</td> <td>    0.013</td> <td>    6.207</td> <td> 0.000</td> <td>    0.057</td> <td>    0.110</td>\n",
       "</tr>\n",
       "<tr>\n",
       "  <th>nr.employed</th>                   <td>-7.382e-05</td> <td>    0.000</td> <td>   -0.230</td> <td> 0.818</td> <td>   -0.001</td> <td>    0.001</td>\n",
       "</tr>\n",
       "<tr>\n",
       "  <th>job_blue-collar</th>               <td>   -0.0083</td> <td>    0.006</td> <td>   -1.342</td> <td> 0.180</td> <td>   -0.020</td> <td>    0.004</td>\n",
       "</tr>\n",
       "<tr>\n",
       "  <th>job_entrepreneur</th>              <td>   -0.0071</td> <td>    0.010</td> <td>   -0.734</td> <td> 0.463</td> <td>   -0.026</td> <td>    0.012</td>\n",
       "</tr>\n",
       "<tr>\n",
       "  <th>job_housemaid</th>                 <td>   -0.0158</td> <td>    0.011</td> <td>   -1.404</td> <td> 0.160</td> <td>   -0.038</td> <td>    0.006</td>\n",
       "</tr>\n",
       "<tr>\n",
       "  <th>job_management</th>                <td>   -0.0073</td> <td>    0.007</td> <td>   -1.009</td> <td> 0.313</td> <td>   -0.021</td> <td>    0.007</td>\n",
       "</tr>\n",
       "<tr>\n",
       "  <th>job_retired</th>                   <td>    0.0189</td> <td>    0.010</td> <td>    1.863</td> <td> 0.063</td> <td>   -0.001</td> <td>    0.039</td>\n",
       "</tr>\n",
       "<tr>\n",
       "  <th>job_self-employed</th>             <td>   -0.0116</td> <td>    0.009</td> <td>   -1.226</td> <td> 0.220</td> <td>   -0.030</td> <td>    0.007</td>\n",
       "</tr>\n",
       "<tr>\n",
       "  <th>job_services</th>                  <td>   -0.0081</td> <td>    0.007</td> <td>   -1.223</td> <td> 0.221</td> <td>   -0.021</td> <td>    0.005</td>\n",
       "</tr>\n",
       "<tr>\n",
       "  <th>job_student</th>                   <td>    0.0210</td> <td>    0.012</td> <td>    1.705</td> <td> 0.088</td> <td>   -0.003</td> <td>    0.045</td>\n",
       "</tr>\n",
       "<tr>\n",
       "  <th>job_technician</th>                <td>    0.0019</td> <td>    0.006</td> <td>    0.320</td> <td> 0.749</td> <td>   -0.010</td> <td>    0.013</td>\n",
       "</tr>\n",
       "<tr>\n",
       "  <th>job_unemployed</th>                <td>    0.0004</td> <td>    0.011</td> <td>    0.039</td> <td> 0.969</td> <td>   -0.022</td> <td>    0.022</td>\n",
       "</tr>\n",
       "<tr>\n",
       "  <th>job_unknown</th>                   <td>   -0.0291</td> <td>    0.019</td> <td>   -1.535</td> <td> 0.125</td> <td>   -0.066</td> <td>    0.008</td>\n",
       "</tr>\n",
       "<tr>\n",
       "  <th>marital_married</th>               <td>    0.0031</td> <td>    0.005</td> <td>    0.563</td> <td> 0.574</td> <td>   -0.008</td> <td>    0.014</td>\n",
       "</tr>\n",
       "<tr>\n",
       "  <th>marital_single</th>                <td>    0.0036</td> <td>    0.006</td> <td>    0.579</td> <td> 0.563</td> <td>   -0.009</td> <td>    0.016</td>\n",
       "</tr>\n",
       "<tr>\n",
       "  <th>marital_unknown</th>               <td>    0.0213</td> <td>    0.039</td> <td>    0.542</td> <td> 0.588</td> <td>   -0.056</td> <td>    0.098</td>\n",
       "</tr>\n",
       "<tr>\n",
       "  <th>education_basic.6y</th>            <td>    0.0046</td> <td>    0.009</td> <td>    0.518</td> <td> 0.605</td> <td>   -0.013</td> <td>    0.022</td>\n",
       "</tr>\n",
       "<tr>\n",
       "  <th>education_basic.9y</th>            <td>   -0.0048</td> <td>    0.007</td> <td>   -0.681</td> <td> 0.496</td> <td>   -0.019</td> <td>    0.009</td>\n",
       "</tr>\n",
       "<tr>\n",
       "  <th>education_high.school</th>         <td>   -0.0015</td> <td>    0.007</td> <td>   -0.209</td> <td> 0.835</td> <td>   -0.016</td> <td>    0.013</td>\n",
       "</tr>\n",
       "<tr>\n",
       "  <th>education_illiterate</th>          <td>    0.1165</td> <td>    0.085</td> <td>    1.375</td> <td> 0.169</td> <td>   -0.050</td> <td>    0.283</td>\n",
       "</tr>\n",
       "<tr>\n",
       "  <th>education_professional.course</th> <td>   -0.0019</td> <td>    0.008</td> <td>   -0.226</td> <td> 0.821</td> <td>   -0.018</td> <td>    0.014</td>\n",
       "</tr>\n",
       "<tr>\n",
       "  <th>education_university.degree</th>   <td>    0.0096</td> <td>    0.007</td> <td>    1.283</td> <td> 0.200</td> <td>   -0.005</td> <td>    0.024</td>\n",
       "</tr>\n",
       "<tr>\n",
       "  <th>education_unknown</th>             <td>   -0.0024</td> <td>    0.010</td> <td>   -0.243</td> <td> 0.808</td> <td>   -0.022</td> <td>    0.017</td>\n",
       "</tr>\n",
       "<tr>\n",
       "  <th>default_unknown</th>               <td>   -0.0111</td> <td>    0.004</td> <td>   -2.526</td> <td> 0.012</td> <td>   -0.020</td> <td>   -0.002</td>\n",
       "</tr>\n",
       "<tr>\n",
       "  <th>default_yes</th>                   <td>   -0.0376</td> <td>    0.198</td> <td>   -0.190</td> <td> 0.850</td> <td>   -0.426</td> <td>    0.351</td>\n",
       "</tr>\n",
       "<tr>\n",
       "  <th>housing_unknown</th>               <td>   -0.0017</td> <td>    0.005</td> <td>   -0.317</td> <td> 0.751</td> <td>   -0.012</td> <td>    0.009</td>\n",
       "</tr>\n",
       "<tr>\n",
       "  <th>housing_yes</th>                   <td>   -0.0040</td> <td>    0.003</td> <td>   -1.191</td> <td> 0.234</td> <td>   -0.011</td> <td>    0.003</td>\n",
       "</tr>\n",
       "<tr>\n",
       "  <th>loan_unknown</th>                  <td>   -0.0017</td> <td>    0.005</td> <td>   -0.317</td> <td> 0.751</td> <td>   -0.012</td> <td>    0.009</td>\n",
       "</tr>\n",
       "<tr>\n",
       "  <th>loan_yes</th>                      <td>    0.0042</td> <td>    0.005</td> <td>    0.901</td> <td> 0.367</td> <td>   -0.005</td> <td>    0.013</td>\n",
       "</tr>\n",
       "<tr>\n",
       "  <th>contact_telephone</th>             <td>   -0.0755</td> <td>    0.006</td> <td>  -11.661</td> <td> 0.000</td> <td>   -0.088</td> <td>   -0.063</td>\n",
       "</tr>\n",
       "<tr>\n",
       "  <th>month_aug</th>                     <td>    0.0856</td> <td>    0.015</td> <td>    5.772</td> <td> 0.000</td> <td>    0.057</td> <td>    0.115</td>\n",
       "</tr>\n",
       "<tr>\n",
       "  <th>month_dec</th>                     <td>    0.0657</td> <td>    0.027</td> <td>    2.437</td> <td> 0.015</td> <td>    0.013</td> <td>    0.118</td>\n",
       "</tr>\n",
       "<tr>\n",
       "  <th>month_jul</th>                     <td>    0.0210</td> <td>    0.009</td> <td>    2.274</td> <td> 0.023</td> <td>    0.003</td> <td>    0.039</td>\n",
       "</tr>\n",
       "<tr>\n",
       "  <th>month_jun</th>                     <td>   -0.0673</td> <td>    0.015</td> <td>   -4.554</td> <td> 0.000</td> <td>   -0.096</td> <td>   -0.038</td>\n",
       "</tr>\n",
       "<tr>\n",
       "  <th>month_mar</th>                     <td>    0.2481</td> <td>    0.018</td> <td>   13.596</td> <td> 0.000</td> <td>    0.212</td> <td>    0.284</td>\n",
       "</tr>\n",
       "<tr>\n",
       "  <th>month_may</th>                     <td>   -0.0448</td> <td>    0.009</td> <td>   -5.138</td> <td> 0.000</td> <td>   -0.062</td> <td>   -0.028</td>\n",
       "</tr>\n",
       "<tr>\n",
       "  <th>month_nov</th>                     <td>   -0.0527</td> <td>    0.011</td> <td>   -4.680</td> <td> 0.000</td> <td>   -0.075</td> <td>   -0.031</td>\n",
       "</tr>\n",
       "<tr>\n",
       "  <th>month_oct</th>                     <td>    0.0058</td> <td>    0.017</td> <td>    0.336</td> <td> 0.737</td> <td>   -0.028</td> <td>    0.039</td>\n",
       "</tr>\n",
       "<tr>\n",
       "  <th>month_sep</th>                     <td>    0.0188</td> <td>    0.021</td> <td>    0.889</td> <td> 0.374</td> <td>   -0.023</td> <td>    0.060</td>\n",
       "</tr>\n",
       "<tr>\n",
       "  <th>day_of_week_mon</th>               <td>   -0.0162</td> <td>    0.005</td> <td>   -3.072</td> <td> 0.002</td> <td>   -0.027</td> <td>   -0.006</td>\n",
       "</tr>\n",
       "<tr>\n",
       "  <th>day_of_week_thu</th>               <td>    0.0126</td> <td>    0.005</td> <td>    2.392</td> <td> 0.017</td> <td>    0.002</td> <td>    0.023</td>\n",
       "</tr>\n",
       "<tr>\n",
       "  <th>day_of_week_tue</th>               <td>    0.0056</td> <td>    0.005</td> <td>    1.050</td> <td> 0.293</td> <td>   -0.005</td> <td>    0.016</td>\n",
       "</tr>\n",
       "<tr>\n",
       "  <th>day_of_week_wed</th>               <td>    0.0127</td> <td>    0.005</td> <td>    2.386</td> <td> 0.017</td> <td>    0.002</td> <td>    0.023</td>\n",
       "</tr>\n",
       "<tr>\n",
       "  <th>poutcome_nonexistent</th>          <td>    0.0481</td> <td>    0.011</td> <td>    4.403</td> <td> 0.000</td> <td>    0.027</td> <td>    0.069</td>\n",
       "</tr>\n",
       "<tr>\n",
       "  <th>poutcome_success</th>              <td>    0.1266</td> <td>    0.031</td> <td>    4.118</td> <td> 0.000</td> <td>    0.066</td> <td>    0.187</td>\n",
       "</tr>\n",
       "</table>\n",
       "<table class=\"simpletable\">\n",
       "<tr>\n",
       "  <th>Omnibus:</th>       <td>11450.226</td> <th>  Durbin-Watson:     </th> <td>   2.004</td> \n",
       "</tr>\n",
       "<tr>\n",
       "  <th>Prob(Omnibus):</th>  <td> 0.000</td>   <th>  Jarque-Bera (JB):  </th> <td>44827.088</td>\n",
       "</tr>\n",
       "<tr>\n",
       "  <th>Skew:</th>           <td> 1.995</td>   <th>  Prob(JB):          </th> <td>    0.00</td> \n",
       "</tr>\n",
       "<tr>\n",
       "  <th>Kurtosis:</th>       <td> 7.626</td>   <th>  Cond. No.          </th> <td>1.00e+16</td> \n",
       "</tr>\n",
       "</table><br/><br/>Notes:<br/>[1] Standard Errors assume that the covariance matrix of the errors is correctly specified.<br/>[2] The smallest eigenvalue is 7.96e-21. This might indicate that there are<br/>strong multicollinearity problems or that the design matrix is singular."
      ],
      "text/plain": [
       "<class 'statsmodels.iolib.summary.Summary'>\n",
       "\"\"\"\n",
       "                            OLS Regression Results                            \n",
       "==============================================================================\n",
       "Dep. Variable:                  y_yes   R-squared:                       0.216\n",
       "Model:                            OLS   Adj. R-squared:                  0.215\n",
       "Method:                 Least Squares   F-statistic:                     155.9\n",
       "Date:                Sat, 11 Jun 2022   Prob (F-statistic):               0.00\n",
       "Time:                        15:16:36   Log-Likelihood:                -4206.8\n",
       "No. Observations:               28831   AIC:                             8518.\n",
       "Df Residuals:                   28779   BIC:                             8948.\n",
       "Df Model:                          51                                         \n",
       "Covariance Type:            nonrobust                                         \n",
       "=================================================================================================\n",
       "                                    coef    std err          t      P>|t|      [0.025      0.975]\n",
       "-------------------------------------------------------------------------------------------------\n",
       "const                           -23.4651      4.000     -5.866      0.000     -31.306     -15.625\n",
       "age                           -9.685e-05      0.000     -0.470      0.638      -0.001       0.000\n",
       "campaign                         -0.0023      0.001     -3.776      0.000      -0.004      -0.001\n",
       "pdays                            -0.0002   3.11e-05     -7.687      0.000      -0.000      -0.000\n",
       "previous                         -0.0104      0.008     -1.278      0.201      -0.026       0.006\n",
       "emp.var.rate                     -0.2088      0.016    -13.123      0.000      -0.240      -0.178\n",
       "cons.price.idx                    0.2571      0.027      9.665      0.000       0.205       0.309\n",
       "cons.conf.idx                     0.0037      0.001      4.037      0.000       0.002       0.006\n",
       "euribor3m                         0.0836      0.013      6.207      0.000       0.057       0.110\n",
       "nr.employed                   -7.382e-05      0.000     -0.230      0.818      -0.001       0.001\n",
       "job_blue-collar                  -0.0083      0.006     -1.342      0.180      -0.020       0.004\n",
       "job_entrepreneur                 -0.0071      0.010     -0.734      0.463      -0.026       0.012\n",
       "job_housemaid                    -0.0158      0.011     -1.404      0.160      -0.038       0.006\n",
       "job_management                   -0.0073      0.007     -1.009      0.313      -0.021       0.007\n",
       "job_retired                       0.0189      0.010      1.863      0.063      -0.001       0.039\n",
       "job_self-employed                -0.0116      0.009     -1.226      0.220      -0.030       0.007\n",
       "job_services                     -0.0081      0.007     -1.223      0.221      -0.021       0.005\n",
       "job_student                       0.0210      0.012      1.705      0.088      -0.003       0.045\n",
       "job_technician                    0.0019      0.006      0.320      0.749      -0.010       0.013\n",
       "job_unemployed                    0.0004      0.011      0.039      0.969      -0.022       0.022\n",
       "job_unknown                      -0.0291      0.019     -1.535      0.125      -0.066       0.008\n",
       "marital_married                   0.0031      0.005      0.563      0.574      -0.008       0.014\n",
       "marital_single                    0.0036      0.006      0.579      0.563      -0.009       0.016\n",
       "marital_unknown                   0.0213      0.039      0.542      0.588      -0.056       0.098\n",
       "education_basic.6y                0.0046      0.009      0.518      0.605      -0.013       0.022\n",
       "education_basic.9y               -0.0048      0.007     -0.681      0.496      -0.019       0.009\n",
       "education_high.school            -0.0015      0.007     -0.209      0.835      -0.016       0.013\n",
       "education_illiterate              0.1165      0.085      1.375      0.169      -0.050       0.283\n",
       "education_professional.course    -0.0019      0.008     -0.226      0.821      -0.018       0.014\n",
       "education_university.degree       0.0096      0.007      1.283      0.200      -0.005       0.024\n",
       "education_unknown                -0.0024      0.010     -0.243      0.808      -0.022       0.017\n",
       "default_unknown                  -0.0111      0.004     -2.526      0.012      -0.020      -0.002\n",
       "default_yes                      -0.0376      0.198     -0.190      0.850      -0.426       0.351\n",
       "housing_unknown                  -0.0017      0.005     -0.317      0.751      -0.012       0.009\n",
       "housing_yes                      -0.0040      0.003     -1.191      0.234      -0.011       0.003\n",
       "loan_unknown                     -0.0017      0.005     -0.317      0.751      -0.012       0.009\n",
       "loan_yes                          0.0042      0.005      0.901      0.367      -0.005       0.013\n",
       "contact_telephone                -0.0755      0.006    -11.661      0.000      -0.088      -0.063\n",
       "month_aug                         0.0856      0.015      5.772      0.000       0.057       0.115\n",
       "month_dec                         0.0657      0.027      2.437      0.015       0.013       0.118\n",
       "month_jul                         0.0210      0.009      2.274      0.023       0.003       0.039\n",
       "month_jun                        -0.0673      0.015     -4.554      0.000      -0.096      -0.038\n",
       "month_mar                         0.2481      0.018     13.596      0.000       0.212       0.284\n",
       "month_may                        -0.0448      0.009     -5.138      0.000      -0.062      -0.028\n",
       "month_nov                        -0.0527      0.011     -4.680      0.000      -0.075      -0.031\n",
       "month_oct                         0.0058      0.017      0.336      0.737      -0.028       0.039\n",
       "month_sep                         0.0188      0.021      0.889      0.374      -0.023       0.060\n",
       "day_of_week_mon                  -0.0162      0.005     -3.072      0.002      -0.027      -0.006\n",
       "day_of_week_thu                   0.0126      0.005      2.392      0.017       0.002       0.023\n",
       "day_of_week_tue                   0.0056      0.005      1.050      0.293      -0.005       0.016\n",
       "day_of_week_wed                   0.0127      0.005      2.386      0.017       0.002       0.023\n",
       "poutcome_nonexistent              0.0481      0.011      4.403      0.000       0.027       0.069\n",
       "poutcome_success                  0.1266      0.031      4.118      0.000       0.066       0.187\n",
       "==============================================================================\n",
       "Omnibus:                    11450.226   Durbin-Watson:                   2.004\n",
       "Prob(Omnibus):                  0.000   Jarque-Bera (JB):            44827.088\n",
       "Skew:                           1.995   Prob(JB):                         0.00\n",
       "Kurtosis:                       7.626   Cond. No.                     1.00e+16\n",
       "==============================================================================\n",
       "\n",
       "Notes:\n",
       "[1] Standard Errors assume that the covariance matrix of the errors is correctly specified.\n",
       "[2] The smallest eigenvalue is 7.96e-21. This might indicate that there are\n",
       "strong multicollinearity problems or that the design matrix is singular.\n",
       "\"\"\""
      ]
     },
     "execution_count": 51,
     "metadata": {},
     "output_type": "execute_result"
    }
   ],
   "source": [
    "#Start with OLS --> No subset selection, because both regularization methods are to be applied (Lasso is therefore an indirect subset selection)\n",
    "xcon = sm.add_constant(train_x)\n",
    "model_1 = sm.OLS(train_y, xcon)\n",
    "results = model_1.fit()\n",
    "results.summary()"
   ]
  },
  {
   "cell_type": "code",
   "execution_count": 52,
   "id": "ccc1f022",
   "metadata": {},
   "outputs": [
    {
     "name": "stdout",
     "output_type": "stream",
     "text": [
      "0.20792169269853233\n",
      "-23.46512306103276\n",
      "[-9.68511910e-05 -2.31620535e-03 -2.39278690e-04 -1.03875595e-02\n",
      " -2.08835963e-01  2.57083324e-01  3.74767299e-03  8.35742143e-02\n",
      " -7.38245078e-05 -8.26501271e-03 -7.09283903e-03 -1.58056182e-02\n",
      " -7.28582407e-03  1.89103103e-02 -1.16320946e-02 -8.14253566e-03\n",
      "  2.10182300e-02  1.89137722e-03  4.43077001e-04 -2.91244857e-02\n",
      "  3.06695210e-03  3.62698915e-03  2.13046757e-02  4.58715997e-03\n",
      " -4.79843109e-03 -1.51996683e-03  1.16486652e-01 -1.85280523e-03\n",
      "  9.56837628e-03 -2.41239930e-03 -1.10551015e-02 -3.76182480e-02\n",
      " -1.71363532e-03 -4.02211386e-03 -1.71363532e-03  4.16204950e-03\n",
      " -7.55381136e-02  8.55987535e-02  6.56588684e-02  2.10262346e-02\n",
      " -6.72899932e-02  2.48116376e-01 -4.48136815e-02 -5.26543136e-02\n",
      "  5.75581221e-03  1.88171724e-02 -1.61949158e-02  1.25561483e-02\n",
      "  5.61533607e-03  1.26801945e-02  4.80749493e-02  1.26592957e-01]\n"
     ]
    }
   ],
   "source": [
    "# To double check the OLS Regression we also implemented the LinearRegression from Sklearn \n",
    "# https://scikit-learn.org/stable/modules/generated/sklearn.linear_model.LinearRegression.html\n",
    "\n",
    "from sklearn.linear_model import LinearRegression\n",
    "reg = LinearRegression().fit(train_x, train_y)\n",
    "\n",
    "# check how good the train model is on the test data (how it works on data which is not in the \"data set\")\n",
    "print(reg.score(test_x, test_y))\n",
    "print(reg.intercept_)\n",
    "print(reg.coef_)\n",
    "\n"
   ]
  },
  {
   "cell_type": "markdown",
   "id": "584a959a",
   "metadata": {},
   "source": [
    "## Linear Regression - Ridge / Lasso"
   ]
  },
  {
   "cell_type": "code",
   "execution_count": 53,
   "id": "545354ab",
   "metadata": {},
   "outputs": [
    {
     "name": "stdout",
     "output_type": "stream",
     "text": [
      "[ 2.37912187e-04  2.95729883e-04 -2.69059291e-03 -4.07735385e-04\n",
      " -2.21685779e-03 -1.71638062e-02  2.42790688e-02  4.81808251e-03\n",
      " -1.90406237e-02 -2.90549251e-04 -3.37873364e-03 -3.08241912e-04\n",
      " -3.16547399e-04 -2.26121291e-04  1.75868734e-03 -2.03468405e-04\n",
      " -1.22563995e-03  1.40451042e-03  5.28800430e-04  2.31598015e-04\n",
      " -1.93742319e-04 -1.91560030e-03  2.64761093e-03  1.28347007e-05\n",
      " -4.57626547e-04 -1.97655275e-03 -7.32224985e-04  4.46149621e-05\n",
      "  4.74688407e-05  3.69798565e-03  2.35216175e-04 -3.88844238e-03\n",
      " -4.47779116e-06 -9.84056573e-06 -2.53844822e-04 -9.84056573e-06\n",
      "  3.10060952e-04 -7.54719278e-03  6.49088232e-05  4.47720819e-04\n",
      "  5.44734009e-03  2.32680178e-03  3.14607536e-03 -1.42809774e-02\n",
      " -1.33199085e-03  1.78080858e-03  7.83134786e-04 -2.41987005e-03\n",
      "  1.89308754e-03  6.62579387e-04  1.10673677e-03  3.20443085e-03\n",
      "  5.66210182e-04]\n",
      "const                            0.000000\n",
      "age                              0.000000\n",
      "campaign                         0.000000\n",
      "pdays                           -0.000395\n",
      "previous                         0.000000\n",
      "emp.var.rate                     0.000000\n",
      "cons.price.idx                   0.000261\n",
      "cons.conf.idx                    0.000000\n",
      "euribor3m                        0.000000\n",
      "nr.employed                      0.000090\n",
      "job_blue-collar                  0.000000\n",
      "job_entrepreneur                 0.000000\n",
      "job_housemaid                    0.000000\n",
      "job_management                   0.000000\n",
      "job_retired                      0.000000\n",
      "job_self-employed                0.000000\n",
      "job_services                     0.000000\n",
      "job_student                      0.000000\n",
      "job_technician                   0.000000\n",
      "job_unemployed                   0.000000\n",
      "job_unknown                      0.000000\n",
      "marital_married                  0.000000\n",
      "marital_single                   0.000000\n",
      "marital_unknown                  0.000000\n",
      "education_basic.6y               0.000000\n",
      "education_basic.9y               0.000000\n",
      "education_high.school            0.000000\n",
      "education_illiterate             0.000000\n",
      "education_professional.course    0.000000\n",
      "education_university.degree      0.000000\n",
      "education_unknown                0.000000\n",
      "default_unknown                  0.000000\n",
      "default_yes                      0.000000\n",
      "housing_unknown                  0.000000\n",
      "housing_yes                      0.000000\n",
      "loan_unknown                     0.000000\n",
      "loan_yes                         0.000000\n",
      "contact_telephone                0.000000\n",
      "month_aug                        0.000000\n",
      "month_dec                        0.000000\n",
      "month_jul                        0.000000\n",
      "month_jun                        0.000000\n",
      "month_mar                        0.000000\n",
      "month_may                        0.000000\n",
      "month_nov                        0.000000\n",
      "month_oct                        0.000000\n",
      "month_sep                        0.000000\n",
      "day_of_week_mon                  0.000000\n",
      "day_of_week_thu                  0.000000\n",
      "day_of_week_tue                  0.000000\n",
      "day_of_week_wed                  0.000000\n",
      "poutcome_nonexistent             0.000000\n",
      "poutcome_success                 0.000000\n",
      "dtype: float64\n"
     ]
    }
   ],
   "source": [
    "#OLS mit Ridge without Change of Lambda\n",
    "model1 = OLS(train_y, xcon)\n",
    "result1 = model1.fit_regularized(alpha=1., L1_wt=0) #Ridge\n",
    "print(result1.params)"
   ]
  },
  {
   "cell_type": "code",
   "execution_count": 68,
   "id": "51e40bdb",
   "metadata": {},
   "outputs": [
    {
     "name": "stdout",
     "output_type": "stream",
     "text": [
      "const                            0.026040\n",
      "age                              0.000181\n",
      "campaign                        -0.003374\n",
      "pdays                           -0.000059\n",
      "previous                         0.053028\n",
      "emp.var.rate                    -0.056345\n",
      "cons.price.idx                   0.000623\n",
      "cons.conf.idx                    0.001868\n",
      "euribor3m                        0.004986\n",
      "nr.employed                      0.000008\n",
      "job_blue-collar                 -0.011662\n",
      "job_entrepreneur                -0.012857\n",
      "job_housemaid                   -0.013217\n",
      "job_management                  -0.009781\n",
      "job_retired                      0.033346\n",
      "job_self-employed               -0.014734\n",
      "job_services                    -0.009150\n",
      "job_student                      0.048934\n",
      "job_technician                  -0.000255\n",
      "job_unemployed                   0.004448\n",
      "job_unknown                     -0.022776\n",
      "marital_married                  0.005559\n",
      "marital_single                   0.007416\n",
      "marital_unknown                  0.016589\n",
      "education_basic.6y               0.002095\n",
      "education_basic.9y              -0.006852\n",
      "education_high.school           -0.001554\n",
      "education_illiterate             0.113630\n",
      "education_professional.course   -0.000222\n",
      "education_university.degree      0.011885\n",
      "education_unknown                0.005797\n",
      "default_unknown                 -0.014975\n",
      "default_yes                     -0.053500\n",
      "housing_unknown                 -0.002226\n",
      "housing_yes                     -0.005685\n",
      "loan_unknown                     0.000000\n",
      "loan_yes                         0.003247\n",
      "contact_telephone               -0.000321\n",
      "month_aug                       -0.000248\n",
      "month_dec                        0.080786\n",
      "month_jul                        0.035463\n",
      "month_jun                        0.023672\n",
      "month_mar                        0.226240\n",
      "month_may                       -0.058838\n",
      "month_nov                       -0.049292\n",
      "month_oct                        0.106551\n",
      "month_sep                        0.093191\n",
      "day_of_week_mon                 -0.012383\n",
      "day_of_week_thu                  0.013391\n",
      "day_of_week_tue                  0.008400\n",
      "day_of_week_wed                  0.014039\n",
      "poutcome_nonexistent             0.103177\n",
      "poutcome_success                 0.349316\n",
      "dtype: float64\n"
     ]
    }
   ],
   "source": [
    "#OLS mit Lasso without Change of Lambda\n",
    "model2 = OLS(train_y, xcon)\n",
    "result2 = model1.fit_regularized(alpha=0, L1_wt=1) #lasso\n",
    "print(result2.params)"
   ]
  },
  {
   "cell_type": "code",
   "execution_count": 77,
   "id": "f374ffe0",
   "metadata": {},
   "outputs": [
    {
     "name": "stdout",
     "output_type": "stream",
     "text": [
      "Optimal tuning parameter using cross validation:  7.390000000000006\n",
      "Ridge Estimates using optimal tuning parameter :  [-2.27079960e+01 -6.00049019e-05 -2.26483679e-03 -3.08062302e-04\n",
      " -1.97382195e-02 -1.97815544e-01  2.46248089e-01  4.14793537e-03\n",
      "  7.29209476e-02  1.38183714e-06 -4.82104141e-03 -1.80501411e-04\n",
      " -1.51786038e-02 -6.08908986e-03  3.22795531e-02 -1.39076875e-02\n",
      " -7.81792156e-03  3.00751552e-02  5.82461158e-04  1.25084913e-02\n",
      " -2.24030379e-02  9.70866209e-04 -1.11809857e-03  2.10596383e-02\n",
      "  8.91560434e-04 -8.54959309e-03 -1.24029355e-03  6.29203133e-02\n",
      "  2.56001159e-03  1.09433231e-02 -9.84933603e-03 -8.69500167e-03\n",
      " -6.83845595e-03 -5.10086343e-03 -3.11510688e-03 -5.10086343e-03\n",
      "  4.92103342e-03 -6.40223554e-02  8.69205990e-02  8.96159022e-02\n",
      "  2.46972938e-02 -7.10041292e-02  2.41237270e-01 -4.84591407e-02\n",
      " -4.62739033e-02 -1.08514134e-02  1.69999128e-02 -1.24176700e-02\n",
      "  1.29727713e-02  4.10287553e-03  1.79867258e-02  3.02779242e-02\n",
      "  7.45923345e-02]\n",
      "Validation MSE:  0.07991825956944741\n"
     ]
    }
   ],
   "source": [
    "#Validation for Lambda\n",
    "from sklearn.linear_model import RidgeCV\n",
    "lambdas = np.arange(1, 10, 0.01) #First between 1-10\n",
    "rr = RidgeCV(alphas=lambdas, fit_intercept=True, store_cv_values=True)\n",
    "rr.fit(train_x_val, train_y_val)\n",
    "betaRidge = np.append(rr.intercept_,rr.coef_)\n",
    "betaRidge\n",
    "yhat = np.dot(sm.add_constant(validation_x),betaRidge)\n",
    "yhat1 = rr.predict(validation_x)\n",
    "validationMSE = np.mean((yhat-validation_y)**2)\n",
    "\n",
    "print(\"Optimal tuning parameter using cross validation: \", rr.alpha_)\n",
    "print(\"Ridge Estimates using optimal tuning parameter : \", betaRidge)\n",
    "print(\"Validation MSE: \", validationMSE)"
   ]
  },
  {
   "cell_type": "code",
   "execution_count": 78,
   "id": "67ef28f9",
   "metadata": {},
   "outputs": [
    {
     "name": "stdout",
     "output_type": "stream",
     "text": [
      "Ridge Estimates from package:  [ 8.71878507e+00  1.09299890e-03 -8.25058675e-04 -3.17988489e-04\n",
      " -1.56905899e-02  1.07903126e-02  1.75972688e-02  4.45031111e-03\n",
      "  9.32894437e-03 -1.90004647e-03 -1.82377902e-02 -1.36600604e-03\n",
      "  8.55321218e-04 -1.13250314e-03  9.51528868e-03  1.57246092e-03\n",
      " -5.24016964e-03  6.19716197e-03 -1.36004145e-04 -3.46394550e-04\n",
      "  7.22253901e-04 -1.30437058e-02  1.52104026e-02  3.51834906e-04\n",
      " -2.45188790e-03 -9.46187515e-03  3.41167507e-04  1.39907400e-04\n",
      "  2.35652590e-03  7.05447651e-03  5.27485882e-03 -1.56259059e-02\n",
      " -1.54979179e-05 -1.23308509e-03  1.37423371e-03 -1.23308509e-03\n",
      " -6.78029213e-03 -2.68108025e-02  6.93152601e-03  2.54487710e-03\n",
      "  3.09429350e-02  1.47874303e-02  1.06686279e-02 -6.78295335e-02\n",
      " -1.75070404e-03  1.21681787e-03 -2.24624638e-04 -1.12802247e-02\n",
      " -8.26153205e-05  3.42755937e-03  7.39869340e-03  1.44011517e-02\n",
      "  2.56950476e-03]\n"
     ]
    }
   ],
   "source": [
    "#Ridge with Change of Lambda\n",
    "from sklearn.linear_model import Ridge\n",
    "from sklearn.linear_model import RidgeCV\n",
    "\n",
    "ridge_reg = Ridge(alpha=rr.alpha_, fit_intercept=True, solver='sparse_cg')\n",
    "\n",
    "ridge_reg.fit(test_x, test_y)\n",
    "print(\"Ridge Estimates from package: \",np.append(ridge_reg.intercept_,ridge_reg.coef_))\n"
   ]
  },
  {
   "cell_type": "code",
   "execution_count": 82,
   "id": "2edc4142",
   "metadata": {},
   "outputs": [
    {
     "name": "stdout",
     "output_type": "stream",
     "text": [
      "Lasso Estimates from package: [ 4.28553822e-01  0.00000000e+00 -0.00000000e+00 -3.29064332e-04\n",
      "  0.00000000e+00 -0.00000000e+00 -0.00000000e+00  0.00000000e+00\n",
      " -0.00000000e+00 -0.00000000e+00 -0.00000000e+00 -0.00000000e+00\n",
      "  0.00000000e+00 -0.00000000e+00  0.00000000e+00  0.00000000e+00\n",
      " -0.00000000e+00  0.00000000e+00 -0.00000000e+00  0.00000000e+00\n",
      "  0.00000000e+00 -0.00000000e+00  0.00000000e+00  0.00000000e+00\n",
      " -0.00000000e+00 -0.00000000e+00 -0.00000000e+00  0.00000000e+00\n",
      "  0.00000000e+00  0.00000000e+00  0.00000000e+00 -0.00000000e+00\n",
      " -0.00000000e+00 -0.00000000e+00  0.00000000e+00 -0.00000000e+00\n",
      " -0.00000000e+00 -0.00000000e+00 -0.00000000e+00  0.00000000e+00\n",
      " -0.00000000e+00 -0.00000000e+00  0.00000000e+00 -0.00000000e+00\n",
      " -0.00000000e+00  0.00000000e+00  0.00000000e+00 -0.00000000e+00\n",
      "  0.00000000e+00  0.00000000e+00  0.00000000e+00 -0.00000000e+00\n",
      "  0.00000000e+00]\n"
     ]
    }
   ],
   "source": [
    "from sklearn import linear_model\n",
    "from sklearn.linear_model import Lasso\n",
    "\n",
    "lasso_reg = linear_model.Lasso(alpha=rr.alpha_, fit_intercept=True)\n",
    "\n",
    "lasso_reg.fit(test_x, test_y)\n",
    "print(\"Lasso Estimates from package:\", np.append(lasso_reg.intercept_,lasso_reg.coef_))\n",
    "\n",
    "#because IOO a Linear Ridge Regression doesnt make any sense (higher than one and lower than 0 = non-sensical Predicitions), we will use for further analysis a Logistic Regression "
   ]
  },
  {
   "cell_type": "markdown",
   "id": "aaea00d3",
   "metadata": {},
   "source": [
    "## Logit"
   ]
  },
  {
   "cell_type": "code",
   "execution_count": 88,
   "id": "ffd050fb",
   "metadata": {},
   "outputs": [
    {
     "name": "stdout",
     "output_type": "stream",
     "text": [
      "0.9002184996358339\n"
     ]
    },
    {
     "data": {
      "image/png": "[encoded data removed]",
      "text/plain": [
       "<Figure size 288x288 with 1 Axes>"
      ]
     },
     "metadata": {
      "needs_background": "light"
     },
     "output_type": "display_data"
    },
    {
     "name": "stdout",
     "output_type": "stream",
     "text": [
      "Fraction of correct predictions:  0.9002184996358339\n"
     ]
    }
   ],
   "source": [
    "#Logit without Penalty\n",
    "from sklearn.linear_model import LogisticRegression\n",
    "model= LogisticRegression(C = 9999999999,  solver='liblinear')      # Default penalty = L2 = ridge (squared error / close to zero)\n",
    "model.fit(train_x, train_y)\n",
    "print(model.score(test_x, test_y))\n",
    "\n",
    "from sklearn.metrics import classification_report, confusion_matrix\n",
    "n = len(test_x)\n",
    "\n",
    "prob = model.predict_proba(test_x)\n",
    "pred = model.predict(test_x)\n",
    "y_pred = 1*(prob[:,1] > 0.5)\n",
    "cm = confusion_matrix(test_y, y_pred)\n",
    "frac_correct = (cm[0,0]+cm[1,1])/n\n",
    "\n",
    "fig, ax = plt.subplots(figsize=(4, 4))\n",
    "ax.imshow(cm)\n",
    "ax.grid(False)\n",
    "ax.xaxis.set(ticks=(0, 1), ticklabels=('Predicted 0s', 'Predicted 1s'))\n",
    "ax.yaxis.set(ticks=(0, 1), ticklabels=('Actual 0s', 'Actual 1s'))\n",
    "ax.xaxis.tick_top()\n",
    "ax.set_ylim(1.5, -0.5)\n",
    "for i in range(2):\n",
    "    for j in range(2):\n",
    "        ax.text(j, i, cm[i, j], ha='center', va='center', color='red')\n",
    "plt.show()\n",
    "print(\"Fraction of correct predictions: \", frac_correct)\n"
   ]
  },
  {
   "cell_type": "code",
   "execution_count": 89,
   "id": "61d6883f",
   "metadata": {},
   "outputs": [
    {
     "name": "stdout",
     "output_type": "stream",
     "text": [
      "MSE          :  0.09978150036416605\n",
      "Sensitivity  :  0.986506199854121\n",
      "Specificity  :  0.21886249100071994\n"
     ]
    }
   ],
   "source": [
    "from sklearn.metrics import mean_squared_error\n",
    "mse = mean_squared_error(test_y, y_pred)\n",
    "print('MSE          : ',mse)\n",
    "sensitivity1 = cm[0,0]/(cm[0,0]+cm[0,1])\n",
    "print('Sensitivity  : ', sensitivity1 )\n",
    "specificity1 = cm[1,1]/(cm[1,0]+cm[1,1])\n",
    "print('Specificity  : ', specificity1)"
   ]
  },
  {
   "cell_type": "code",
   "execution_count": 90,
   "metadata": {},
   "outputs": [
    {
     "name": "stdout",
     "output_type": "stream",
     "text": [
      "0.9002994254268836\n"
     ]
    },
    {
     "data": {
      "image/png": "[encoded data removed]",
      "text/plain": [
       "<Figure size 288x288 with 1 Axes>"
      ]
     },
     "metadata": {
      "needs_background": "light"
     },
     "output_type": "display_data"
    },
    {
     "name": "stdout",
     "output_type": "stream",
     "text": [
      "Fraction of correct predictions:  0.9002994254268836\n"
     ]
    }
   ],
   "source": [
    "# https://scikit-learn.org/stable/modules/generated/sklearn.linear_model.LogisticRegression.html\n",
    "\n",
    "# First we check for the logit with L2 (ridge)\n",
    "\n",
    "from sklearn.linear_model import LogisticRegression\n",
    "model= LogisticRegression(solver='liblinear')      # Default penalty = L2 = ridge (squared error / close to zero)\n",
    "model.fit(train_x, train_y)\n",
    "print(model.score(test_x, test_y))\n",
    "\n",
    "\n",
    "from sklearn.metrics import classification_report, confusion_matrix\n",
    "n = len(test_x)\n",
    "\n",
    "prob = model.predict_proba(test_x)\n",
    "pred = model.predict(test_x)\n",
    "y_pred = 1*(prob[:,1] > 0.5)\n",
    "cm = confusion_matrix(test_y, y_pred)\n",
    "frac_correct = (cm[0,0]+cm[1,1])/n\n",
    "\n",
    "fig, ax = plt.subplots(figsize=(4, 4))\n",
    "ax.imshow(cm)\n",
    "ax.grid(False)\n",
    "ax.xaxis.set(ticks=(0, 1), ticklabels=('Predicted 0s', 'Predicted 1s'))\n",
    "ax.yaxis.set(ticks=(0, 1), ticklabels=('Actual 0s', 'Actual 1s'))\n",
    "ax.xaxis.tick_top()\n",
    "ax.set_ylim(1.5, -0.5)\n",
    "for i in range(2):\n",
    "    for j in range(2):\n",
    "        ax.text(j, i, cm[i, j], ha='center', va='center', color='red')\n",
    "plt.show()\n",
    "print(\"Fraction of correct predictions: \", frac_correct)\n"
   ]
  },
  {
   "cell_type": "code",
   "execution_count": 91,
   "id": "530f970f",
   "metadata": {},
   "outputs": [
    {
     "name": "stdout",
     "output_type": "stream",
     "text": [
      "MSE          :  0.09970057457311646\n",
      "Sensitivity  :  0.9866885485047411\n",
      "Specificity  :  0.21814254859611232\n"
     ]
    }
   ],
   "source": [
    "from sklearn.metrics import mean_squared_error\n",
    "mse = mean_squared_error(test_y, y_pred)\n",
    "print('MSE          : ',mse)\n",
    "sensitivity1 = cm[0,0]/(cm[0,0]+cm[0,1])\n",
    "print('Sensitivity  : ', sensitivity1 )\n",
    "specificity1 = cm[1,1]/(cm[1,0]+cm[1,1])\n",
    "print('Specificity  : ', specificity1)"
   ]
  },
  {
   "cell_type": "code",
   "execution_count": null,
   "id": "30e74443",
   "metadata": {},
   "outputs": [],
   "source": []
  },
  {
   "cell_type": "code",
   "execution_count": 92,
   "id": "622180ab",
   "metadata": {},
   "outputs": [
    {
     "name": "stderr",
     "output_type": "stream",
     "text": [
      "c:\\Users\\Laurin\\anaconda3\\lib\\site-packages\\sklearn\\linear_model\\_sag.py:328: ConvergenceWarning: The max_iter was reached which means the coef_ did not converge\n",
      "  warnings.warn(\"The max_iter was reached which means \"\n"
     ]
    },
    {
     "name": "stdout",
     "output_type": "stream",
     "text": [
      "0.8968196164117505\n"
     ]
    },
    {
     "data": {
      "image/png": "[encoded data removed]",
      "text/plain": [
       "<Figure size 288x288 with 1 Axes>"
      ]
     },
     "metadata": {
      "needs_background": "light"
     },
     "output_type": "display_data"
    },
    {
     "name": "stdout",
     "output_type": "stream",
     "text": [
      "Fraction of correct predictions:  0.8968196164117505\n"
     ]
    }
   ],
   "source": [
    "# Second we test logit with L1 (lasso)\n",
    "\n",
    "from sklearn.linear_model import LogisticRegression\n",
    "model = LogisticRegression(penalty=\"l1\", solver='saga', C=2, fit_intercept=True)\n",
    "model.fit(train_x, train_y)\n",
    "print(model.score(test_x, test_y))\n",
    "\n",
    "from sklearn.metrics import classification_report, confusion_matrix\n",
    "n = len(test_x)\n",
    "\n",
    "prob = model.predict_proba(test_x)\n",
    "pred = model.predict(test_x)\n",
    "y_pred = 1*(prob[:,1] > 0.5)\n",
    "cm = confusion_matrix(test_y, y_pred)\n",
    "frac_correct = (cm[0,0]+cm[1,1])/n\n",
    "\n",
    "fig, ax = plt.subplots(figsize=(4, 4))\n",
    "ax.imshow(cm)\n",
    "ax.grid(False)\n",
    "ax.xaxis.set(ticks=(0, 1), ticklabels=('Predicted 0s', 'Predicted 1s'))\n",
    "ax.yaxis.set(ticks=(0, 1), ticklabels=('Actual 0s', 'Actual 1s'))\n",
    "ax.xaxis.tick_top()\n",
    "ax.set_ylim(1.5, -0.5)\n",
    "for i in range(2):\n",
    "    for j in range(2):\n",
    "        ax.text(j, i, cm[i, j], ha='center', va='center', color='red')\n",
    "plt.show()\n",
    "print(\"Fraction of correct predictions: \", frac_correct)"
   ]
  },
  {
   "cell_type": "code",
   "execution_count": 60,
   "id": "25325290",
   "metadata": {},
   "outputs": [
    {
     "name": "stdout",
     "output_type": "stream",
     "text": [
      "MSE          :  0.10318038358824957\n",
      "Sensitivity  :  0.9834974471188913\n",
      "Specificity  :  0.21238300935925125\n"
     ]
    }
   ],
   "source": [
    "from sklearn.metrics import mean_squared_error\n",
    "mse = mean_squared_error(test_y, y_pred)\n",
    "print('MSE          : ',mse)\n",
    "sensitivity1 = cm[0,0]/(cm[0,0]+cm[0,1])\n",
    "print('Sensitivity  : ', sensitivity1 )\n",
    "specificity1 = cm[1,1]/(cm[1,0]+cm[1,1])\n",
    "print('Specificity  : ', specificity1)"
   ]
  },
  {
   "cell_type": "code",
   "execution_count": null,
   "id": "5bc220c9",
   "metadata": {},
   "outputs": [],
   "source": []
  },
  {
   "cell_type": "markdown",
   "id": "d49baf98",
   "metadata": {},
   "source": [
    "## Analysis with different P & C"
   ]
  },
  {
   "cell_type": "code",
   "execution_count": 61,
   "metadata": {},
   "outputs": [
    {
     "name": "stdout",
     "output_type": "stream",
     "text": [
      "0.9002994254268836\n"
     ]
    },
    {
     "data": {
      "image/png": "[encoded data removed]",
      "text/plain": [
       "<Figure size 288x288 with 1 Axes>"
      ]
     },
     "metadata": {
      "needs_background": "light"
     },
     "output_type": "display_data"
    },
    {
     "name": "stdout",
     "output_type": "stream",
     "text": [
      "Fraction of correct predictions:  0.863720967872461\n"
     ]
    }
   ],
   "source": [
    "from sklearn.linear_model import LogisticRegression\n",
    "model= LogisticRegression(solver='liblinear')      # Default penalty = L2 = ridge (squared error / close to zero)\n",
    "model.fit(train_x, train_y)\n",
    "print(model.score(test_x, test_y))\n",
    "\n",
    "\n",
    "from sklearn.metrics import classification_report, confusion_matrix\n",
    "n = len(test_x)\n",
    "\n",
    "prob = model.predict_proba(test_x)\n",
    "pred = model.predict(test_x)\n",
    "y_pred = 1*(prob[:,1] > 0.2)\n",
    "cm = confusion_matrix(test_y, y_pred)\n",
    "frac_correct = (cm[0,0]+cm[1,1])/n\n",
    "\n",
    "fig, ax = plt.subplots(figsize=(4, 4))\n",
    "ax.imshow(cm)\n",
    "ax.grid(False)\n",
    "ax.xaxis.set(ticks=(0, 1), ticklabels=('Predicted 0s', 'Predicted 1s'))\n",
    "ax.yaxis.set(ticks=(0, 1), ticklabels=('Actual 0s', 'Actual 1s'))\n",
    "ax.xaxis.tick_top()\n",
    "ax.set_ylim(1.5, -0.5)\n",
    "for i in range(2):\n",
    "    for j in range(2):\n",
    "        ax.text(j, i, cm[i, j], ha='center', va='center', color='red')\n",
    "plt.show()\n",
    "print(\"Fraction of correct predictions: \", frac_correct)"
   ]
  },
  {
   "cell_type": "code",
   "execution_count": 62,
   "id": "bae1e940",
   "metadata": {},
   "outputs": [
    {
     "name": "stdout",
     "output_type": "stream",
     "text": [
      "MSE          :  0.13627903212753906\n",
      "Sensitivity  :  0.9034463894967177\n",
      "Specificity  :  0.5500359971202304\n"
     ]
    }
   ],
   "source": [
    "from sklearn.metrics import mean_squared_error\n",
    "mse = mean_squared_error(test_y, y_pred)\n",
    "print('MSE          : ',mse)\n",
    "sensitivity1 = cm[0,0]/(cm[0,0]+cm[0,1])\n",
    "print('Sensitivity  : ', sensitivity1 )\n",
    "specificity1 = cm[1,1]/(cm[1,0]+cm[1,1])\n",
    "print('Specificity  : ', specificity1)"
   ]
  },
  {
   "cell_type": "code",
   "execution_count": null,
   "id": "6f91c12b",
   "metadata": {},
   "outputs": [],
   "source": []
  },
  {
   "cell_type": "markdown",
   "id": "d1b09974",
   "metadata": {},
   "source": [
    "## In the end we decided to go with the logistic regression with the p value of 0.2\n",
    "## The reason is..."
   ]
  },
  {
   "cell_type": "code",
   "execution_count": 63,
   "id": "0a864a69",
   "metadata": {},
   "outputs": [],
   "source": [
    "#Auswertung aller Modele und direkter Vergleich"
   ]
  }
 ],
 "metadata": {
  "kernelspec": {
   "display_name": "Python 3.8.8 ('base')",
   "language": "python",
   "name": "python3"
  },
  "language_info": {
   "codemirror_mode": {
    "name": "ipython",
    "version": 3
   },
   "file_extension": ".py",
   "mimetype": "text/x-python",
   "name": "python",
   "nbconvert_exporter": "python",
   "pygments_lexer": "ipython3",
   "version": "3.8.8"
  },
  "vscode": {
   "interpreter": {
    "hash": "4c810040e895b543f9583d8dcde924b6084b03d7cc3708ef7c6d5f24b31e0c10"
   }
  }
 },
 "nbformat": 4,
 "nbformat_minor": 5
}
