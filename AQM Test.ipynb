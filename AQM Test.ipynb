{
 "cells": [
  {
   "cell_type": "markdown",
   "id": "a68ce2a9",
   "metadata": {},
   "source": [
    "# **Import of the Data files and basic Libraries**"
   ]
  },
  {
   "cell_type": "code",
   "execution_count": 1,
   "id": "05c667c9",
   "metadata": {},
   "outputs": [],
   "source": [
    "import numpy as np\n",
    "import pandas as pd\n",
    "import statsmodels.api as sm\n",
    "import matplotlib.pyplot as plt\n",
    "\n",
    "# other imports will be made when needed later in the code"
   ]
  },
  {
   "cell_type": "code",
   "execution_count": 2,
   "id": "557f415f",
   "metadata": {},
   "outputs": [],
   "source": [
    "bank = pd.read_csv('Data/bank.csv', sep=';')\n",
    "bank_full = pd.read_csv('Data/bank-full.csv', sep=';')\n",
    "\n",
    "bank_add = pd.read_csv('Data/bank-additional.csv', sep=';')\n",
    "bank_add_full = pd.read_csv('Data/bank-additional-full.csv', sep=';')"
   ]
  },
  {
   "cell_type": "markdown",
   "id": "28ce12d9",
   "metadata": {},
   "source": [
    "# **Inspecting the Datasets**"
   ]
  },
  {
   "cell_type": "code",
   "execution_count": 3,
   "id": "d3c7c070",
   "metadata": {},
   "outputs": [],
   "source": [
    "# In the code below we examine which dataset we will use for the study"
   ]
  },
  {
   "cell_type": "code",
   "execution_count": 4,
   "id": "a346e1b3",
   "metadata": {},
   "outputs": [
    {
     "name": "stdout",
     "output_type": "stream",
     "text": [
      "<class 'pandas.core.frame.DataFrame'>\n",
      "RangeIndex: 4521 entries, 0 to 4520\n",
      "Data columns (total 17 columns):\n",
      " #   Column     Non-Null Count  Dtype \n",
      "---  ------     --------------  ----- \n",
      " 0   age        4521 non-null   int64 \n",
      " 1   job        4521 non-null   object\n",
      " 2   marital    4521 non-null   object\n",
      " 3   education  4521 non-null   object\n",
      " 4   default    4521 non-null   object\n",
      " 5   balance    4521 non-null   int64 \n",
      " 6   housing    4521 non-null   object\n",
      " 7   loan       4521 non-null   object\n",
      " 8   contact    4521 non-null   object\n",
      " 9   day        4521 non-null   int64 \n",
      " 10  month      4521 non-null   object\n",
      " 11  duration   4521 non-null   int64 \n",
      " 12  campaign   4521 non-null   int64 \n",
      " 13  pdays      4521 non-null   int64 \n",
      " 14  previous   4521 non-null   int64 \n",
      " 15  poutcome   4521 non-null   object\n",
      " 16  y          4521 non-null   object\n",
      "dtypes: int64(7), object(10)\n",
      "memory usage: 600.6+ KB\n"
     ]
    }
   ],
   "source": [
    "bank.info()"
   ]
  },
  {
   "cell_type": "code",
   "execution_count": 5,
   "id": "7b19ba59",
   "metadata": {},
   "outputs": [
    {
     "name": "stdout",
     "output_type": "stream",
     "text": [
      "<class 'pandas.core.frame.DataFrame'>\n",
      "RangeIndex: 45211 entries, 0 to 45210\n",
      "Data columns (total 17 columns):\n",
      " #   Column     Non-Null Count  Dtype \n",
      "---  ------     --------------  ----- \n",
      " 0   age        45211 non-null  int64 \n",
      " 1   job        45211 non-null  object\n",
      " 2   marital    45211 non-null  object\n",
      " 3   education  45211 non-null  object\n",
      " 4   default    45211 non-null  object\n",
      " 5   balance    45211 non-null  int64 \n",
      " 6   housing    45211 non-null  object\n",
      " 7   loan       45211 non-null  object\n",
      " 8   contact    45211 non-null  object\n",
      " 9   day        45211 non-null  int64 \n",
      " 10  month      45211 non-null  object\n",
      " 11  duration   45211 non-null  int64 \n",
      " 12  campaign   45211 non-null  int64 \n",
      " 13  pdays      45211 non-null  int64 \n",
      " 14  previous   45211 non-null  int64 \n",
      " 15  poutcome   45211 non-null  object\n",
      " 16  y          45211 non-null  object\n",
      "dtypes: int64(7), object(10)\n",
      "memory usage: 5.9+ MB\n"
     ]
    }
   ],
   "source": [
    "bank_full.info()"
   ]
  },
  {
   "cell_type": "code",
   "execution_count": 6,
   "id": "c00fcf31",
   "metadata": {},
   "outputs": [
    {
     "name": "stdout",
     "output_type": "stream",
     "text": [
      "<class 'pandas.core.frame.DataFrame'>\n",
      "RangeIndex: 4119 entries, 0 to 4118\n",
      "Data columns (total 21 columns):\n",
      " #   Column          Non-Null Count  Dtype  \n",
      "---  ------          --------------  -----  \n",
      " 0   age             4119 non-null   int64  \n",
      " 1   job             4119 non-null   object \n",
      " 2   marital         4119 non-null   object \n",
      " 3   education       4119 non-null   object \n",
      " 4   default         4119 non-null   object \n",
      " 5   housing         4119 non-null   object \n",
      " 6   loan            4119 non-null   object \n",
      " 7   contact         4119 non-null   object \n",
      " 8   month           4119 non-null   object \n",
      " 9   day_of_week     4119 non-null   object \n",
      " 10  duration        4119 non-null   int64  \n",
      " 11  campaign        4119 non-null   int64  \n",
      " 12  pdays           4119 non-null   int64  \n",
      " 13  previous        4119 non-null   int64  \n",
      " 14  poutcome        4119 non-null   object \n",
      " 15  emp.var.rate    4119 non-null   float64\n",
      " 16  cons.price.idx  4119 non-null   float64\n",
      " 17  cons.conf.idx   4119 non-null   float64\n",
      " 18  euribor3m       4119 non-null   float64\n",
      " 19  nr.employed     4119 non-null   float64\n",
      " 20  y               4119 non-null   object \n",
      "dtypes: float64(5), int64(5), object(11)\n",
      "memory usage: 675.9+ KB\n"
     ]
    }
   ],
   "source": [
    "bank_add.info()"
   ]
  },
  {
   "cell_type": "code",
   "execution_count": 7,
   "id": "778c1f4a",
   "metadata": {},
   "outputs": [
    {
     "name": "stdout",
     "output_type": "stream",
     "text": [
      "<class 'pandas.core.frame.DataFrame'>\n",
      "RangeIndex: 41188 entries, 0 to 41187\n",
      "Data columns (total 21 columns):\n",
      " #   Column          Non-Null Count  Dtype  \n",
      "---  ------          --------------  -----  \n",
      " 0   age             41188 non-null  int64  \n",
      " 1   job             41188 non-null  object \n",
      " 2   marital         41188 non-null  object \n",
      " 3   education       41188 non-null  object \n",
      " 4   default         41188 non-null  object \n",
      " 5   housing         41188 non-null  object \n",
      " 6   loan            41188 non-null  object \n",
      " 7   contact         41188 non-null  object \n",
      " 8   month           41188 non-null  object \n",
      " 9   day_of_week     41188 non-null  object \n",
      " 10  duration        41188 non-null  int64  \n",
      " 11  campaign        41188 non-null  int64  \n",
      " 12  pdays           41188 non-null  int64  \n",
      " 13  previous        41188 non-null  int64  \n",
      " 14  poutcome        41188 non-null  object \n",
      " 15  emp.var.rate    41188 non-null  float64\n",
      " 16  cons.price.idx  41188 non-null  float64\n",
      " 17  cons.conf.idx   41188 non-null  float64\n",
      " 18  euribor3m       41188 non-null  float64\n",
      " 19  nr.employed     41188 non-null  float64\n",
      " 20  y               41188 non-null  object \n",
      "dtypes: float64(5), int64(5), object(11)\n",
      "memory usage: 6.6+ MB\n"
     ]
    }
   ],
   "source": [
    "bank_add_full.info()"
   ]
  },
  {
   "cell_type": "code",
   "execution_count": 8,
   "id": "7792f208",
   "metadata": {},
   "outputs": [
    {
     "name": "stdout",
     "output_type": "stream",
     "text": [
      "The shape of bank is         :  (4521, 17)\n",
      "The shape of bank_full is    :  (45211, 17)\n",
      "The shape of bank_add is     :  (4119, 21)\n",
      "The shape of bank_add_full is:  (41188, 21)\n"
     ]
    }
   ],
   "source": [
    "print('The shape of bank is         : ', bank.shape)\n",
    "print('The shape of bank_full is    : ',bank_full.shape)\n",
    "print('The shape of bank_add is     : ',bank_add.shape)\n",
    "print('The shape of bank_add_full is: ',bank_add_full.shape)"
   ]
  },
  {
   "cell_type": "code",
   "execution_count": 9,
   "id": "aa26fa13",
   "metadata": {},
   "outputs": [],
   "source": [
    "# The biggest Dataset is the Bank_full but the one with the most independent variables is Bank_add_full. \n",
    "# In order to get the best performing prediction model we decided to choose Bank_add_full as our base dataset for this study"
   ]
  },
  {
   "cell_type": "markdown",
   "id": "968288f2",
   "metadata": {},
   "source": [
    "## Check the dataset for Missing Values"
   ]
  },
  {
   "cell_type": "code",
   "execution_count": 10,
   "id": "f4d1dbba",
   "metadata": {},
   "outputs": [
    {
     "data": {
      "text/plain": [
       "age               0\n",
       "job               0\n",
       "marital           0\n",
       "education         0\n",
       "default           0\n",
       "housing           0\n",
       "loan              0\n",
       "contact           0\n",
       "month             0\n",
       "day_of_week       0\n",
       "duration          0\n",
       "campaign          0\n",
       "pdays             0\n",
       "previous          0\n",
       "poutcome          0\n",
       "emp.var.rate      0\n",
       "cons.price.idx    0\n",
       "cons.conf.idx     0\n",
       "euribor3m         0\n",
       "nr.employed       0\n",
       "y                 0\n",
       "dtype: int64"
      ]
     },
     "execution_count": 10,
     "metadata": {},
     "output_type": "execute_result"
    }
   ],
   "source": [
    "bank_add_full.isna().sum()"
   ]
  },
  {
   "cell_type": "code",
   "execution_count": 11,
   "id": "4cee6878",
   "metadata": {},
   "outputs": [
    {
     "data": {
      "text/html": [
       "<div>\n",
       "<style scoped>\n",
       "    .dataframe tbody tr th:only-of-type {\n",
       "        vertical-align: middle;\n",
       "    }\n",
       "\n",
       "    .dataframe tbody tr th {\n",
       "        vertical-align: top;\n",
       "    }\n",
       "\n",
       "    .dataframe thead th {\n",
       "        text-align: right;\n",
       "    }\n",
       "</style>\n",
       "<table border=\"1\" class=\"dataframe\">\n",
       "  <thead>\n",
       "    <tr style=\"text-align: right;\">\n",
       "      <th></th>\n",
       "      <th>age</th>\n",
       "      <th>job</th>\n",
       "      <th>marital</th>\n",
       "      <th>education</th>\n",
       "      <th>default</th>\n",
       "      <th>housing</th>\n",
       "      <th>loan</th>\n",
       "      <th>contact</th>\n",
       "      <th>month</th>\n",
       "      <th>day_of_week</th>\n",
       "      <th>...</th>\n",
       "      <th>campaign</th>\n",
       "      <th>pdays</th>\n",
       "      <th>previous</th>\n",
       "      <th>poutcome</th>\n",
       "      <th>emp.var.rate</th>\n",
       "      <th>cons.price.idx</th>\n",
       "      <th>cons.conf.idx</th>\n",
       "      <th>euribor3m</th>\n",
       "      <th>nr.employed</th>\n",
       "      <th>y</th>\n",
       "    </tr>\n",
       "  </thead>\n",
       "  <tbody>\n",
       "    <tr>\n",
       "      <th>0</th>\n",
       "      <td>56</td>\n",
       "      <td>housemaid</td>\n",
       "      <td>married</td>\n",
       "      <td>basic.4y</td>\n",
       "      <td>no</td>\n",
       "      <td>no</td>\n",
       "      <td>no</td>\n",
       "      <td>telephone</td>\n",
       "      <td>may</td>\n",
       "      <td>mon</td>\n",
       "      <td>...</td>\n",
       "      <td>1</td>\n",
       "      <td>999</td>\n",
       "      <td>0</td>\n",
       "      <td>nonexistent</td>\n",
       "      <td>1.1</td>\n",
       "      <td>93.994</td>\n",
       "      <td>-36.4</td>\n",
       "      <td>4.857</td>\n",
       "      <td>5191.0</td>\n",
       "      <td>no</td>\n",
       "    </tr>\n",
       "    <tr>\n",
       "      <th>1</th>\n",
       "      <td>57</td>\n",
       "      <td>services</td>\n",
       "      <td>married</td>\n",
       "      <td>high.school</td>\n",
       "      <td>unknown</td>\n",
       "      <td>no</td>\n",
       "      <td>no</td>\n",
       "      <td>telephone</td>\n",
       "      <td>may</td>\n",
       "      <td>mon</td>\n",
       "      <td>...</td>\n",
       "      <td>1</td>\n",
       "      <td>999</td>\n",
       "      <td>0</td>\n",
       "      <td>nonexistent</td>\n",
       "      <td>1.1</td>\n",
       "      <td>93.994</td>\n",
       "      <td>-36.4</td>\n",
       "      <td>4.857</td>\n",
       "      <td>5191.0</td>\n",
       "      <td>no</td>\n",
       "    </tr>\n",
       "    <tr>\n",
       "      <th>2</th>\n",
       "      <td>37</td>\n",
       "      <td>services</td>\n",
       "      <td>married</td>\n",
       "      <td>high.school</td>\n",
       "      <td>no</td>\n",
       "      <td>yes</td>\n",
       "      <td>no</td>\n",
       "      <td>telephone</td>\n",
       "      <td>may</td>\n",
       "      <td>mon</td>\n",
       "      <td>...</td>\n",
       "      <td>1</td>\n",
       "      <td>999</td>\n",
       "      <td>0</td>\n",
       "      <td>nonexistent</td>\n",
       "      <td>1.1</td>\n",
       "      <td>93.994</td>\n",
       "      <td>-36.4</td>\n",
       "      <td>4.857</td>\n",
       "      <td>5191.0</td>\n",
       "      <td>no</td>\n",
       "    </tr>\n",
       "    <tr>\n",
       "      <th>3</th>\n",
       "      <td>40</td>\n",
       "      <td>admin.</td>\n",
       "      <td>married</td>\n",
       "      <td>basic.6y</td>\n",
       "      <td>no</td>\n",
       "      <td>no</td>\n",
       "      <td>no</td>\n",
       "      <td>telephone</td>\n",
       "      <td>may</td>\n",
       "      <td>mon</td>\n",
       "      <td>...</td>\n",
       "      <td>1</td>\n",
       "      <td>999</td>\n",
       "      <td>0</td>\n",
       "      <td>nonexistent</td>\n",
       "      <td>1.1</td>\n",
       "      <td>93.994</td>\n",
       "      <td>-36.4</td>\n",
       "      <td>4.857</td>\n",
       "      <td>5191.0</td>\n",
       "      <td>no</td>\n",
       "    </tr>\n",
       "    <tr>\n",
       "      <th>4</th>\n",
       "      <td>56</td>\n",
       "      <td>services</td>\n",
       "      <td>married</td>\n",
       "      <td>high.school</td>\n",
       "      <td>no</td>\n",
       "      <td>no</td>\n",
       "      <td>yes</td>\n",
       "      <td>telephone</td>\n",
       "      <td>may</td>\n",
       "      <td>mon</td>\n",
       "      <td>...</td>\n",
       "      <td>1</td>\n",
       "      <td>999</td>\n",
       "      <td>0</td>\n",
       "      <td>nonexistent</td>\n",
       "      <td>1.1</td>\n",
       "      <td>93.994</td>\n",
       "      <td>-36.4</td>\n",
       "      <td>4.857</td>\n",
       "      <td>5191.0</td>\n",
       "      <td>no</td>\n",
       "    </tr>\n",
       "  </tbody>\n",
       "</table>\n",
       "<p>5 rows × 21 columns</p>\n",
       "</div>"
      ],
      "text/plain": [
       "   age        job  marital    education  default housing loan    contact  \\\n",
       "0   56  housemaid  married     basic.4y       no      no   no  telephone   \n",
       "1   57   services  married  high.school  unknown      no   no  telephone   \n",
       "2   37   services  married  high.school       no     yes   no  telephone   \n",
       "3   40     admin.  married     basic.6y       no      no   no  telephone   \n",
       "4   56   services  married  high.school       no      no  yes  telephone   \n",
       "\n",
       "  month day_of_week  ...  campaign  pdays  previous     poutcome emp.var.rate  \\\n",
       "0   may         mon  ...         1    999         0  nonexistent          1.1   \n",
       "1   may         mon  ...         1    999         0  nonexistent          1.1   \n",
       "2   may         mon  ...         1    999         0  nonexistent          1.1   \n",
       "3   may         mon  ...         1    999         0  nonexistent          1.1   \n",
       "4   may         mon  ...         1    999         0  nonexistent          1.1   \n",
       "\n",
       "   cons.price.idx  cons.conf.idx  euribor3m  nr.employed   y  \n",
       "0          93.994          -36.4      4.857       5191.0  no  \n",
       "1          93.994          -36.4      4.857       5191.0  no  \n",
       "2          93.994          -36.4      4.857       5191.0  no  \n",
       "3          93.994          -36.4      4.857       5191.0  no  \n",
       "4          93.994          -36.4      4.857       5191.0  no  \n",
       "\n",
       "[5 rows x 21 columns]"
      ]
     },
     "execution_count": 11,
     "metadata": {},
     "output_type": "execute_result"
    }
   ],
   "source": [
    "bank_add_full.head()"
   ]
  },
  {
   "cell_type": "code",
   "execution_count": 12,
   "id": "e565f24c",
   "metadata": {},
   "outputs": [
    {
     "data": {
      "text/plain": [
       "Index(['age', 'job', 'marital', 'education', 'default', 'housing', 'loan',\n",
       "       'contact', 'month', 'day_of_week', 'duration', 'campaign', 'pdays',\n",
       "       'previous', 'poutcome', 'emp.var.rate', 'cons.price.idx',\n",
       "       'cons.conf.idx', 'euribor3m', 'nr.employed', 'y'],\n",
       "      dtype='object')"
      ]
     },
     "execution_count": 12,
     "metadata": {},
     "output_type": "execute_result"
    }
   ],
   "source": [
    "bank_add_full.keys()"
   ]
  },
  {
   "cell_type": "code",
   "execution_count": 13,
   "id": "57ce2d6e",
   "metadata": {},
   "outputs": [],
   "source": [
    "# As you can also see, there are no missing values.\n",
    "# therefore the dataset is complete and no further cleaning has to be done"
   ]
  },
  {
   "cell_type": "markdown",
   "id": "3ec511a2",
   "metadata": {},
   "source": [
    "# **Transform the Dataset**"
   ]
  },
  {
   "cell_type": "markdown",
   "id": "efc623bd",
   "metadata": {},
   "source": [
    "## Change the Classification to a Binary "
   ]
  },
  {
   "cell_type": "code",
   "execution_count": 14,
   "id": "98ccc0ea",
   "metadata": {},
   "outputs": [
    {
     "data": {
      "text/html": [
       "<div>\n",
       "<style scoped>\n",
       "    .dataframe tbody tr th:only-of-type {\n",
       "        vertical-align: middle;\n",
       "    }\n",
       "\n",
       "    .dataframe tbody tr th {\n",
       "        vertical-align: top;\n",
       "    }\n",
       "\n",
       "    .dataframe thead th {\n",
       "        text-align: right;\n",
       "    }\n",
       "</style>\n",
       "<table border=\"1\" class=\"dataframe\">\n",
       "  <thead>\n",
       "    <tr style=\"text-align: right;\">\n",
       "      <th></th>\n",
       "      <th>age</th>\n",
       "      <th>duration</th>\n",
       "      <th>campaign</th>\n",
       "      <th>pdays</th>\n",
       "      <th>previous</th>\n",
       "      <th>emp.var.rate</th>\n",
       "      <th>cons.price.idx</th>\n",
       "      <th>cons.conf.idx</th>\n",
       "      <th>euribor3m</th>\n",
       "      <th>nr.employed</th>\n",
       "      <th>...</th>\n",
       "      <th>month_nov</th>\n",
       "      <th>month_oct</th>\n",
       "      <th>month_sep</th>\n",
       "      <th>day_of_week_mon</th>\n",
       "      <th>day_of_week_thu</th>\n",
       "      <th>day_of_week_tue</th>\n",
       "      <th>day_of_week_wed</th>\n",
       "      <th>poutcome_nonexistent</th>\n",
       "      <th>poutcome_success</th>\n",
       "      <th>y_yes</th>\n",
       "    </tr>\n",
       "  </thead>\n",
       "  <tbody>\n",
       "    <tr>\n",
       "      <th>0</th>\n",
       "      <td>56</td>\n",
       "      <td>261</td>\n",
       "      <td>1</td>\n",
       "      <td>999</td>\n",
       "      <td>0</td>\n",
       "      <td>1.1</td>\n",
       "      <td>93.994</td>\n",
       "      <td>-36.4</td>\n",
       "      <td>4.857</td>\n",
       "      <td>5191.0</td>\n",
       "      <td>...</td>\n",
       "      <td>0</td>\n",
       "      <td>0</td>\n",
       "      <td>0</td>\n",
       "      <td>1</td>\n",
       "      <td>0</td>\n",
       "      <td>0</td>\n",
       "      <td>0</td>\n",
       "      <td>1</td>\n",
       "      <td>0</td>\n",
       "      <td>0</td>\n",
       "    </tr>\n",
       "    <tr>\n",
       "      <th>1</th>\n",
       "      <td>57</td>\n",
       "      <td>149</td>\n",
       "      <td>1</td>\n",
       "      <td>999</td>\n",
       "      <td>0</td>\n",
       "      <td>1.1</td>\n",
       "      <td>93.994</td>\n",
       "      <td>-36.4</td>\n",
       "      <td>4.857</td>\n",
       "      <td>5191.0</td>\n",
       "      <td>...</td>\n",
       "      <td>0</td>\n",
       "      <td>0</td>\n",
       "      <td>0</td>\n",
       "      <td>1</td>\n",
       "      <td>0</td>\n",
       "      <td>0</td>\n",
       "      <td>0</td>\n",
       "      <td>1</td>\n",
       "      <td>0</td>\n",
       "      <td>0</td>\n",
       "    </tr>\n",
       "    <tr>\n",
       "      <th>2</th>\n",
       "      <td>37</td>\n",
       "      <td>226</td>\n",
       "      <td>1</td>\n",
       "      <td>999</td>\n",
       "      <td>0</td>\n",
       "      <td>1.1</td>\n",
       "      <td>93.994</td>\n",
       "      <td>-36.4</td>\n",
       "      <td>4.857</td>\n",
       "      <td>5191.0</td>\n",
       "      <td>...</td>\n",
       "      <td>0</td>\n",
       "      <td>0</td>\n",
       "      <td>0</td>\n",
       "      <td>1</td>\n",
       "      <td>0</td>\n",
       "      <td>0</td>\n",
       "      <td>0</td>\n",
       "      <td>1</td>\n",
       "      <td>0</td>\n",
       "      <td>0</td>\n",
       "    </tr>\n",
       "    <tr>\n",
       "      <th>3</th>\n",
       "      <td>40</td>\n",
       "      <td>151</td>\n",
       "      <td>1</td>\n",
       "      <td>999</td>\n",
       "      <td>0</td>\n",
       "      <td>1.1</td>\n",
       "      <td>93.994</td>\n",
       "      <td>-36.4</td>\n",
       "      <td>4.857</td>\n",
       "      <td>5191.0</td>\n",
       "      <td>...</td>\n",
       "      <td>0</td>\n",
       "      <td>0</td>\n",
       "      <td>0</td>\n",
       "      <td>1</td>\n",
       "      <td>0</td>\n",
       "      <td>0</td>\n",
       "      <td>0</td>\n",
       "      <td>1</td>\n",
       "      <td>0</td>\n",
       "      <td>0</td>\n",
       "    </tr>\n",
       "    <tr>\n",
       "      <th>4</th>\n",
       "      <td>56</td>\n",
       "      <td>307</td>\n",
       "      <td>1</td>\n",
       "      <td>999</td>\n",
       "      <td>0</td>\n",
       "      <td>1.1</td>\n",
       "      <td>93.994</td>\n",
       "      <td>-36.4</td>\n",
       "      <td>4.857</td>\n",
       "      <td>5191.0</td>\n",
       "      <td>...</td>\n",
       "      <td>0</td>\n",
       "      <td>0</td>\n",
       "      <td>0</td>\n",
       "      <td>1</td>\n",
       "      <td>0</td>\n",
       "      <td>0</td>\n",
       "      <td>0</td>\n",
       "      <td>1</td>\n",
       "      <td>0</td>\n",
       "      <td>0</td>\n",
       "    </tr>\n",
       "  </tbody>\n",
       "</table>\n",
       "<p>5 rows × 54 columns</p>\n",
       "</div>"
      ],
      "text/plain": [
       "   age  duration  campaign  pdays  previous  emp.var.rate  cons.price.idx  \\\n",
       "0   56       261         1    999         0           1.1          93.994   \n",
       "1   57       149         1    999         0           1.1          93.994   \n",
       "2   37       226         1    999         0           1.1          93.994   \n",
       "3   40       151         1    999         0           1.1          93.994   \n",
       "4   56       307         1    999         0           1.1          93.994   \n",
       "\n",
       "   cons.conf.idx  euribor3m  nr.employed  ...  month_nov  month_oct  \\\n",
       "0          -36.4      4.857       5191.0  ...          0          0   \n",
       "1          -36.4      4.857       5191.0  ...          0          0   \n",
       "2          -36.4      4.857       5191.0  ...          0          0   \n",
       "3          -36.4      4.857       5191.0  ...          0          0   \n",
       "4          -36.4      4.857       5191.0  ...          0          0   \n",
       "\n",
       "   month_sep  day_of_week_mon  day_of_week_thu  day_of_week_tue  \\\n",
       "0          0                1                0                0   \n",
       "1          0                1                0                0   \n",
       "2          0                1                0                0   \n",
       "3          0                1                0                0   \n",
       "4          0                1                0                0   \n",
       "\n",
       "   day_of_week_wed  poutcome_nonexistent  poutcome_success  y_yes  \n",
       "0                0                     1                 0      0  \n",
       "1                0                     1                 0      0  \n",
       "2                0                     1                 0      0  \n",
       "3                0                     1                 0      0  \n",
       "4                0                     1                 0      0  \n",
       "\n",
       "[5 rows x 54 columns]"
      ]
     },
     "execution_count": 14,
     "metadata": {},
     "output_type": "execute_result"
    }
   ],
   "source": [
    "clean_bank_add_full = pd.get_dummies(bank_add_full, drop_first=True)\n",
    "clean_bank_add_full.head()"
   ]
  },
  {
   "cell_type": "code",
   "execution_count": 15,
   "id": "74343e06",
   "metadata": {},
   "outputs": [
    {
     "data": {
      "text/plain": [
       "Index(['age', 'duration', 'campaign', 'pdays', 'previous', 'emp.var.rate',\n",
       "       'cons.price.idx', 'cons.conf.idx', 'euribor3m', 'nr.employed',\n",
       "       'job_blue-collar', 'job_entrepreneur', 'job_housemaid',\n",
       "       'job_management', 'job_retired', 'job_self-employed', 'job_services',\n",
       "       'job_student', 'job_technician', 'job_unemployed', 'job_unknown',\n",
       "       'marital_married', 'marital_single', 'marital_unknown',\n",
       "       'education_basic.6y', 'education_basic.9y', 'education_high.school',\n",
       "       'education_illiterate', 'education_professional.course',\n",
       "       'education_university.degree', 'education_unknown', 'default_unknown',\n",
       "       'default_yes', 'housing_unknown', 'housing_yes', 'loan_unknown',\n",
       "       'loan_yes', 'contact_telephone', 'month_aug', 'month_dec', 'month_jul',\n",
       "       'month_jun', 'month_mar', 'month_may', 'month_nov', 'month_oct',\n",
       "       'month_sep', 'day_of_week_mon', 'day_of_week_thu', 'day_of_week_tue',\n",
       "       'day_of_week_wed', 'poutcome_nonexistent', 'poutcome_success', 'y_yes'],\n",
       "      dtype='object')"
      ]
     },
     "execution_count": 15,
     "metadata": {},
     "output_type": "execute_result"
    }
   ],
   "source": [
    "clean_bank_add_full.keys()"
   ]
  },
  {
   "cell_type": "markdown",
   "id": "81601451",
   "metadata": {},
   "source": [
    "## Next we define the X & Y"
   ]
  },
  {
   "cell_type": "code",
   "execution_count": 16,
   "id": "b1ad8f45",
   "metadata": {},
   "outputs": [],
   "source": [
    "# We define the x Table and y Table\n",
    "    #x Table contains all ....... (without the outcome)\n",
    "    #y Table only contains the Outcome 0 or 1 (=Success)\n",
    "x = clean_bank_add_full.drop('y_yes', axis=1)       # independant features\n",
    "y = clean_bank_add_full['y_yes']                    # dependent variable"
   ]
  },
  {
   "cell_type": "markdown",
   "id": "51ec841f",
   "metadata": {},
   "source": [
    "## We split the Dataset into Train (0.5) / Validation (0.2) / Test (0.3)"
   ]
  },
  {
   "cell_type": "code",
   "execution_count": 28,
   "id": "a5ec74bf",
   "metadata": {},
   "outputs": [],
   "source": [
    "from sklearn.model_selection import train_test_split\n",
    "\n",
    "# First we split in Train (0.7) & in Test (0.3)\n",
    "# random state means the code will always have the same training set (in order to reproduce results)\n",
    "train1_x, test_x, train1_y, test_y = train_test_split(x, y, test_size=0.3, random_state=42)\n",
    "\n",
    "# Second we split again to get Train (0.7) / Validation (0.2) / Test (0.3)\n",
    "train_x, validation_x, train_y, validation_y = train_test_split(train1_x, train1_y, test_size=(0.2/0.7), random_state=42)"
   ]
  },
  {
   "cell_type": "code",
   "execution_count": 29,
   "metadata": {},
   "outputs": [
    {
     "data": {
      "text/html": [
       "<div>\n",
       "<style scoped>\n",
       "    .dataframe tbody tr th:only-of-type {\n",
       "        vertical-align: middle;\n",
       "    }\n",
       "\n",
       "    .dataframe tbody tr th {\n",
       "        vertical-align: top;\n",
       "    }\n",
       "\n",
       "    .dataframe thead th {\n",
       "        text-align: right;\n",
       "    }\n",
       "</style>\n",
       "<table border=\"1\" class=\"dataframe\">\n",
       "  <thead>\n",
       "    <tr style=\"text-align: right;\">\n",
       "      <th></th>\n",
       "      <th>age</th>\n",
       "      <th>duration</th>\n",
       "      <th>campaign</th>\n",
       "      <th>pdays</th>\n",
       "      <th>previous</th>\n",
       "      <th>emp.var.rate</th>\n",
       "      <th>cons.price.idx</th>\n",
       "      <th>cons.conf.idx</th>\n",
       "      <th>euribor3m</th>\n",
       "      <th>nr.employed</th>\n",
       "      <th>...</th>\n",
       "      <th>month_may</th>\n",
       "      <th>month_nov</th>\n",
       "      <th>month_oct</th>\n",
       "      <th>month_sep</th>\n",
       "      <th>day_of_week_mon</th>\n",
       "      <th>day_of_week_thu</th>\n",
       "      <th>day_of_week_tue</th>\n",
       "      <th>day_of_week_wed</th>\n",
       "      <th>poutcome_nonexistent</th>\n",
       "      <th>poutcome_success</th>\n",
       "    </tr>\n",
       "  </thead>\n",
       "  <tbody>\n",
       "    <tr>\n",
       "      <th>39075</th>\n",
       "      <td>29</td>\n",
       "      <td>77</td>\n",
       "      <td>3</td>\n",
       "      <td>999</td>\n",
       "      <td>1</td>\n",
       "      <td>-3.0</td>\n",
       "      <td>92.713</td>\n",
       "      <td>-33.0</td>\n",
       "      <td>0.709</td>\n",
       "      <td>5023.5</td>\n",
       "      <td>...</td>\n",
       "      <td>0</td>\n",
       "      <td>0</td>\n",
       "      <td>0</td>\n",
       "      <td>0</td>\n",
       "      <td>1</td>\n",
       "      <td>0</td>\n",
       "      <td>0</td>\n",
       "      <td>0</td>\n",
       "      <td>0</td>\n",
       "      <td>0</td>\n",
       "    </tr>\n",
       "    <tr>\n",
       "      <th>34855</th>\n",
       "      <td>29</td>\n",
       "      <td>12</td>\n",
       "      <td>4</td>\n",
       "      <td>999</td>\n",
       "      <td>0</td>\n",
       "      <td>-1.8</td>\n",
       "      <td>92.893</td>\n",
       "      <td>-46.2</td>\n",
       "      <td>1.250</td>\n",
       "      <td>5099.1</td>\n",
       "      <td>...</td>\n",
       "      <td>1</td>\n",
       "      <td>0</td>\n",
       "      <td>0</td>\n",
       "      <td>0</td>\n",
       "      <td>0</td>\n",
       "      <td>0</td>\n",
       "      <td>0</td>\n",
       "      <td>0</td>\n",
       "      <td>1</td>\n",
       "      <td>0</td>\n",
       "    </tr>\n",
       "    <tr>\n",
       "      <th>7107</th>\n",
       "      <td>45</td>\n",
       "      <td>277</td>\n",
       "      <td>2</td>\n",
       "      <td>999</td>\n",
       "      <td>0</td>\n",
       "      <td>1.1</td>\n",
       "      <td>93.994</td>\n",
       "      <td>-36.4</td>\n",
       "      <td>4.860</td>\n",
       "      <td>5191.0</td>\n",
       "      <td>...</td>\n",
       "      <td>1</td>\n",
       "      <td>0</td>\n",
       "      <td>0</td>\n",
       "      <td>0</td>\n",
       "      <td>0</td>\n",
       "      <td>1</td>\n",
       "      <td>0</td>\n",
       "      <td>0</td>\n",
       "      <td>1</td>\n",
       "      <td>0</td>\n",
       "    </tr>\n",
       "    <tr>\n",
       "      <th>31614</th>\n",
       "      <td>34</td>\n",
       "      <td>70</td>\n",
       "      <td>1</td>\n",
       "      <td>999</td>\n",
       "      <td>1</td>\n",
       "      <td>-1.8</td>\n",
       "      <td>92.893</td>\n",
       "      <td>-46.2</td>\n",
       "      <td>1.327</td>\n",
       "      <td>5099.1</td>\n",
       "      <td>...</td>\n",
       "      <td>1</td>\n",
       "      <td>0</td>\n",
       "      <td>0</td>\n",
       "      <td>0</td>\n",
       "      <td>0</td>\n",
       "      <td>1</td>\n",
       "      <td>0</td>\n",
       "      <td>0</td>\n",
       "      <td>0</td>\n",
       "      <td>0</td>\n",
       "    </tr>\n",
       "    <tr>\n",
       "      <th>34878</th>\n",
       "      <td>32</td>\n",
       "      <td>1181</td>\n",
       "      <td>9</td>\n",
       "      <td>999</td>\n",
       "      <td>0</td>\n",
       "      <td>-1.8</td>\n",
       "      <td>92.893</td>\n",
       "      <td>-46.2</td>\n",
       "      <td>1.250</td>\n",
       "      <td>5099.1</td>\n",
       "      <td>...</td>\n",
       "      <td>1</td>\n",
       "      <td>0</td>\n",
       "      <td>0</td>\n",
       "      <td>0</td>\n",
       "      <td>0</td>\n",
       "      <td>0</td>\n",
       "      <td>0</td>\n",
       "      <td>0</td>\n",
       "      <td>1</td>\n",
       "      <td>0</td>\n",
       "    </tr>\n",
       "  </tbody>\n",
       "</table>\n",
       "<p>5 rows × 53 columns</p>\n",
       "</div>"
      ],
      "text/plain": [
       "       age  duration  campaign  pdays  previous  emp.var.rate  cons.price.idx  \\\n",
       "39075   29        77         3    999         1          -3.0          92.713   \n",
       "34855   29        12         4    999         0          -1.8          92.893   \n",
       "7107    45       277         2    999         0           1.1          93.994   \n",
       "31614   34        70         1    999         1          -1.8          92.893   \n",
       "34878   32      1181         9    999         0          -1.8          92.893   \n",
       "\n",
       "       cons.conf.idx  euribor3m  nr.employed  ...  month_may  month_nov  \\\n",
       "39075          -33.0      0.709       5023.5  ...          0          0   \n",
       "34855          -46.2      1.250       5099.1  ...          1          0   \n",
       "7107           -36.4      4.860       5191.0  ...          1          0   \n",
       "31614          -46.2      1.327       5099.1  ...          1          0   \n",
       "34878          -46.2      1.250       5099.1  ...          1          0   \n",
       "\n",
       "       month_oct  month_sep  day_of_week_mon  day_of_week_thu  \\\n",
       "39075          0          0                1                0   \n",
       "34855          0          0                0                0   \n",
       "7107           0          0                0                1   \n",
       "31614          0          0                0                1   \n",
       "34878          0          0                0                0   \n",
       "\n",
       "       day_of_week_tue  day_of_week_wed  poutcome_nonexistent  \\\n",
       "39075                0                0                     0   \n",
       "34855                0                0                     1   \n",
       "7107                 0                0                     1   \n",
       "31614                0                0                     0   \n",
       "34878                0                0                     1   \n",
       "\n",
       "       poutcome_success  \n",
       "39075                 0  \n",
       "34855                 0  \n",
       "7107                  0  \n",
       "31614                 0  \n",
       "34878                 0  \n",
       "\n",
       "[5 rows x 53 columns]"
      ]
     },
     "execution_count": 29,
     "metadata": {},
     "output_type": "execute_result"
    }
   ],
   "source": [
    "train1_x.head()"
   ]
  },
  {
   "cell_type": "code",
   "execution_count": 18,
   "id": "029ee429",
   "metadata": {},
   "outputs": [
    {
     "name": "stdout",
     "output_type": "stream",
     "text": [
      "Shape of train_x             : (20593, 53)\n",
      "Shape of validation_x        : (8238, 53)\n",
      "Shape of test_x              : (12357, 53)\n",
      "Shape of train_y             : (20593,)\n",
      "Shape of validation_y        : (8238,)\n",
      "Shape of test_y              : (12357,)\n",
      "\n",
      "Lenght of Dataset            :  41188\n",
      "Percentage of Train          :  50.00 %\n",
      "Percentage of Validation     :  20.00 %\n",
      "Percentage of Test           :  30.00 %\n"
     ]
    }
   ],
   "source": [
    "#Quick check if the split is correct:\n",
    "print(\"Shape of train_x             : \"+str(train_x.shape))\n",
    "print(\"Shape of validation_x        : \"+str(validation_x.shape))\n",
    "print(\"Shape of test_x              : \"+str(test_x.shape))\n",
    "print(\"Shape of train_y             : \"+str(train_y.shape))\n",
    "print(\"Shape of validation_y        : \"+str(validation_y.shape))\n",
    "print(\"Shape of test_y              : \"+str(test_y.shape))\n",
    "print('')\n",
    "print(\"Lenght of Dataset            : \", len(x))\n",
    "print(\"Percentage of Train          : \", '{:.2f}'.format(len(train_x)/len(x)*100), '%')\n",
    "print(\"Percentage of Validation     : \", '{:.2f}'.format(len(validation_x)/len(x)*100), '%')\n",
    "print(\"Percentage of Test           : \", '{:.2f}'.format(len(test_x)/len(x)*100), '%')\n"
   ]
  },
  {
   "cell_type": "markdown",
   "id": "afc9b48a",
   "metadata": {},
   "source": [
    "## Centering the data"
   ]
  },
  {
   "cell_type": "code",
   "execution_count": 53,
   "id": "5504a72f",
   "metadata": {},
   "outputs": [],
   "source": [
    "from sklearn import preprocessing\n"
   ]
  },
  {
   "cell_type": "code",
   "execution_count": null,
   "id": "76b2edc8",
   "metadata": {},
   "outputs": [],
   "source": []
  },
  {
   "cell_type": "markdown",
   "id": "10b10afa",
   "metadata": {},
   "source": [
    "## Linear Regression"
   ]
  },
  {
   "cell_type": "code",
   "execution_count": 40,
   "id": "ccc1f022",
   "metadata": {},
   "outputs": [],
   "source": [
    "#??\n",
    "from sklearn.linear_model import LinearRegression\n",
    "reg = LinearRegression().fit(train_x, train_y)"
   ]
  },
  {
   "cell_type": "code",
   "execution_count": 41,
   "id": "5b34b403",
   "metadata": {},
   "outputs": [
    {
     "data": {
      "text/plain": [
       "0.3658267697357124"
      ]
     },
     "execution_count": 41,
     "metadata": {},
     "output_type": "execute_result"
    }
   ],
   "source": [
    "# check how good the train model is on the test data (how it works on data which is not in the \"data set\")\n",
    "reg.score(test_x, test_y)"
   ]
  },
  {
   "cell_type": "markdown",
   "id": "c85f4323",
   "metadata": {},
   "source": [
    "## Lambdas grid"
   ]
  },
  {
   "cell_type": "code",
   "execution_count": 54,
   "metadata": {},
   "outputs": [
    {
     "data": {
      "text/html": [
       "<style>#sk-container-id-6 {color: black;background-color: white;}#sk-container-id-6 pre{padding: 0;}#sk-container-id-6 div.sk-toggleable {background-color: white;}#sk-container-id-6 label.sk-toggleable__label {cursor: pointer;display: block;width: 100%;margin-bottom: 0;padding: 0.3em;box-sizing: border-box;text-align: center;}#sk-container-id-6 label.sk-toggleable__label-arrow:before {content: \"▸\";float: left;margin-right: 0.25em;color: #696969;}#sk-container-id-6 label.sk-toggleable__label-arrow:hover:before {color: black;}#sk-container-id-6 div.sk-estimator:hover label.sk-toggleable__label-arrow:before {color: black;}#sk-container-id-6 div.sk-toggleable__content {max-height: 0;max-width: 0;overflow: hidden;text-align: left;background-color: #f0f8ff;}#sk-container-id-6 div.sk-toggleable__content pre {margin: 0.2em;color: black;border-radius: 0.25em;background-color: #f0f8ff;}#sk-container-id-6 input.sk-toggleable__control:checked~div.sk-toggleable__content {max-height: 200px;max-width: 100%;overflow: auto;}#sk-container-id-6 input.sk-toggleable__control:checked~label.sk-toggleable__label-arrow:before {content: \"▾\";}#sk-container-id-6 div.sk-estimator input.sk-toggleable__control:checked~label.sk-toggleable__label {background-color: #d4ebff;}#sk-container-id-6 div.sk-label input.sk-toggleable__control:checked~label.sk-toggleable__label {background-color: #d4ebff;}#sk-container-id-6 input.sk-hidden--visually {border: 0;clip: rect(1px 1px 1px 1px);clip: rect(1px, 1px, 1px, 1px);height: 1px;margin: -1px;overflow: hidden;padding: 0;position: absolute;width: 1px;}#sk-container-id-6 div.sk-estimator {font-family: monospace;background-color: #f0f8ff;border: 1px dotted black;border-radius: 0.25em;box-sizing: border-box;margin-bottom: 0.5em;}#sk-container-id-6 div.sk-estimator:hover {background-color: #d4ebff;}#sk-container-id-6 div.sk-parallel-item::after {content: \"\";width: 100%;border-bottom: 1px solid gray;flex-grow: 1;}#sk-container-id-6 div.sk-label:hover label.sk-toggleable__label {background-color: #d4ebff;}#sk-container-id-6 div.sk-serial::before {content: \"\";position: absolute;border-left: 1px solid gray;box-sizing: border-box;top: 0;bottom: 0;left: 50%;z-index: 0;}#sk-container-id-6 div.sk-serial {display: flex;flex-direction: column;align-items: center;background-color: white;padding-right: 0.2em;padding-left: 0.2em;position: relative;}#sk-container-id-6 div.sk-item {position: relative;z-index: 1;}#sk-container-id-6 div.sk-parallel {display: flex;align-items: stretch;justify-content: center;background-color: white;position: relative;}#sk-container-id-6 div.sk-item::before, #sk-container-id-6 div.sk-parallel-item::before {content: \"\";position: absolute;border-left: 1px solid gray;box-sizing: border-box;top: 0;bottom: 0;left: 50%;z-index: -1;}#sk-container-id-6 div.sk-parallel-item {display: flex;flex-direction: column;z-index: 1;position: relative;background-color: white;}#sk-container-id-6 div.sk-parallel-item:first-child::after {align-self: flex-end;width: 50%;}#sk-container-id-6 div.sk-parallel-item:last-child::after {align-self: flex-start;width: 50%;}#sk-container-id-6 div.sk-parallel-item:only-child::after {width: 0;}#sk-container-id-6 div.sk-dashed-wrapped {border: 1px dashed gray;margin: 0 0.4em 0.5em 0.4em;box-sizing: border-box;padding-bottom: 0.4em;background-color: white;}#sk-container-id-6 div.sk-label label {font-family: monospace;font-weight: bold;display: inline-block;line-height: 1.2em;}#sk-container-id-6 div.sk-label-container {text-align: center;}#sk-container-id-6 div.sk-container {/* jupyter's `normalize.less` sets `[hidden] { display: none; }` but bootstrap.min.css set `[hidden] { display: none !important; }` so we also need the `!important` here to be able to override the default hidden behavior on the sphinx rendered scikit-learn.org. See: https://github.com/scikit-learn/scikit-learn/issues/21755 */display: inline-block !important;position: relative;}#sk-container-id-6 div.sk-text-repr-fallback {display: none;}</style><div id=\"sk-container-id-6\" class=\"sk-top-container\"><div class=\"sk-text-repr-fallback\"><pre>RidgeCV(alphas=array([7.   , 7.001, 7.002, 7.003, 7.004, 7.005, 7.006, 7.007, 7.008,\n",
       "       7.009, 7.01 , 7.011, 7.012, 7.013, 7.014, 7.015, 7.016, 7.017,\n",
       "       7.018, 7.019, 7.02 , 7.021, 7.022, 7.023, 7.024, 7.025, 7.026,\n",
       "       7.027, 7.028, 7.029, 7.03 , 7.031, 7.032, 7.033, 7.034, 7.035,\n",
       "       7.036, 7.037, 7.038, 7.039, 7.04 , 7.041, 7.042, 7.043, 7.044,\n",
       "       7.045, 7.046, 7.047, 7.048, 7.049, 7.05 , 7.051, 7.052, 7.053,\n",
       "       7.054, 7.055,...\n",
       "       7.936, 7.937, 7.938, 7.939, 7.94 , 7.941, 7.942, 7.943, 7.944,\n",
       "       7.945, 7.946, 7.947, 7.948, 7.949, 7.95 , 7.951, 7.952, 7.953,\n",
       "       7.954, 7.955, 7.956, 7.957, 7.958, 7.959, 7.96 , 7.961, 7.962,\n",
       "       7.963, 7.964, 7.965, 7.966, 7.967, 7.968, 7.969, 7.97 , 7.971,\n",
       "       7.972, 7.973, 7.974, 7.975, 7.976, 7.977, 7.978, 7.979, 7.98 ,\n",
       "       7.981, 7.982, 7.983, 7.984, 7.985, 7.986, 7.987, 7.988, 7.989,\n",
       "       7.99 , 7.991, 7.992, 7.993, 7.994, 7.995, 7.996, 7.997, 7.998,\n",
       "       7.999]),\n",
       "        store_cv_values=True)</pre><b>In a Jupyter environment, please rerun this cell to show the HTML representation or trust the notebook. <br />On GitHub, the HTML representation is unable to render, please try loading this page with nbviewer.org.</b></div><div class=\"sk-container\" hidden><div class=\"sk-item\"><div class=\"sk-estimator sk-toggleable\"><input class=\"sk-toggleable__control sk-hidden--visually\" id=\"sk-estimator-id-6\" type=\"checkbox\" checked><label for=\"sk-estimator-id-6\" class=\"sk-toggleable__label sk-toggleable__label-arrow\">RidgeCV</label><div class=\"sk-toggleable__content\"><pre>RidgeCV(alphas=array([7.   , 7.001, 7.002, 7.003, 7.004, 7.005, 7.006, 7.007, 7.008,\n",
       "       7.009, 7.01 , 7.011, 7.012, 7.013, 7.014, 7.015, 7.016, 7.017,\n",
       "       7.018, 7.019, 7.02 , 7.021, 7.022, 7.023, 7.024, 7.025, 7.026,\n",
       "       7.027, 7.028, 7.029, 7.03 , 7.031, 7.032, 7.033, 7.034, 7.035,\n",
       "       7.036, 7.037, 7.038, 7.039, 7.04 , 7.041, 7.042, 7.043, 7.044,\n",
       "       7.045, 7.046, 7.047, 7.048, 7.049, 7.05 , 7.051, 7.052, 7.053,\n",
       "       7.054, 7.055,...\n",
       "       7.936, 7.937, 7.938, 7.939, 7.94 , 7.941, 7.942, 7.943, 7.944,\n",
       "       7.945, 7.946, 7.947, 7.948, 7.949, 7.95 , 7.951, 7.952, 7.953,\n",
       "       7.954, 7.955, 7.956, 7.957, 7.958, 7.959, 7.96 , 7.961, 7.962,\n",
       "       7.963, 7.964, 7.965, 7.966, 7.967, 7.968, 7.969, 7.97 , 7.971,\n",
       "       7.972, 7.973, 7.974, 7.975, 7.976, 7.977, 7.978, 7.979, 7.98 ,\n",
       "       7.981, 7.982, 7.983, 7.984, 7.985, 7.986, 7.987, 7.988, 7.989,\n",
       "       7.99 , 7.991, 7.992, 7.993, 7.994, 7.995, 7.996, 7.997, 7.998,\n",
       "       7.999]),\n",
       "        store_cv_values=True)</pre></div></div></div></div></div>"
      ],
      "text/plain": [
       "RidgeCV(alphas=array([7.   , 7.001, 7.002, 7.003, 7.004, 7.005, 7.006, 7.007, 7.008,\n",
       "       7.009, 7.01 , 7.011, 7.012, 7.013, 7.014, 7.015, 7.016, 7.017,\n",
       "       7.018, 7.019, 7.02 , 7.021, 7.022, 7.023, 7.024, 7.025, 7.026,\n",
       "       7.027, 7.028, 7.029, 7.03 , 7.031, 7.032, 7.033, 7.034, 7.035,\n",
       "       7.036, 7.037, 7.038, 7.039, 7.04 , 7.041, 7.042, 7.043, 7.044,\n",
       "       7.045, 7.046, 7.047, 7.048, 7.049, 7.05 , 7.051, 7.052, 7.053,\n",
       "       7.054, 7.055,...\n",
       "       7.936, 7.937, 7.938, 7.939, 7.94 , 7.941, 7.942, 7.943, 7.944,\n",
       "       7.945, 7.946, 7.947, 7.948, 7.949, 7.95 , 7.951, 7.952, 7.953,\n",
       "       7.954, 7.955, 7.956, 7.957, 7.958, 7.959, 7.96 , 7.961, 7.962,\n",
       "       7.963, 7.964, 7.965, 7.966, 7.967, 7.968, 7.969, 7.97 , 7.971,\n",
       "       7.972, 7.973, 7.974, 7.975, 7.976, 7.977, 7.978, 7.979, 7.98 ,\n",
       "       7.981, 7.982, 7.983, 7.984, 7.985, 7.986, 7.987, 7.988, 7.989,\n",
       "       7.99 , 7.991, 7.992, 7.993, 7.994, 7.995, 7.996, 7.997, 7.998,\n",
       "       7.999]),\n",
       "        store_cv_values=True)"
      ]
     },
     "execution_count": 54,
     "metadata": {},
     "output_type": "execute_result"
    }
   ],
   "source": [
    "from sklearn.linear_model import RidgeCV\n",
    "lambdas = np.arange(7, 8, 0.001)\n",
    "rr = RidgeCV(alphas=lambdas, fit_intercept=True, store_cv_values=True)\n",
    "rr.fit(train_x, train_y)"
   ]
  },
  {
   "cell_type": "code",
   "execution_count": 55,
   "id": "6c9930a3",
   "metadata": {},
   "outputs": [
    {
     "data": {
      "text/plain": [
       "array([-1.68919076e+01,  1.52724481e-05,  4.56259084e-04,  6.64099544e-04,\n",
       "       -2.68480759e-04, -1.82972780e-02, -1.77847763e-01,  1.99261715e-01,\n",
       "        2.75491514e-03,  7.65683711e-02, -3.20888345e-04, -8.42921804e-03,\n",
       "       -3.45283720e-03, -9.86167490e-03, -5.53745103e-03,  2.21611483e-02,\n",
       "       -2.09907160e-02, -5.54164431e-03,  2.56630561e-02,  3.08691670e-03,\n",
       "        1.07284527e-02, -1.41143426e-02, -1.22669697e-03, -3.32762683e-03,\n",
       "       -5.80840046e-03,  4.49279301e-03, -6.18382213e-03, -4.83948859e-03,\n",
       "        6.39318665e-02,  1.50960497e-04,  1.15125544e-02, -8.17007147e-03,\n",
       "       -5.75189168e-03,  2.77967600e-03, -1.88278402e-03, -3.11869884e-03,\n",
       "       -1.88278402e-03,  2.74076584e-03, -4.21438968e-02,  1.06495771e-01,\n",
       "        5.99901890e-02,  3.60222345e-02, -3.66228328e-02,  2.52284614e-01,\n",
       "       -4.46508770e-02, -2.98956382e-02,  5.09059276e-04,  1.60363214e-02,\n",
       "       -6.95390073e-03,  8.66282141e-03,  3.68016292e-03,  1.49570507e-02,\n",
       "        1.91144071e-02,  8.01715077e-02])"
      ]
     },
     "execution_count": 55,
     "metadata": {},
     "output_type": "execute_result"
    }
   ],
   "source": [
    "betaRidge = np.append(rr.intercept_,rr.coef_)\n",
    "betaRidge"
   ]
  },
  {
   "cell_type": "code",
   "execution_count": 56,
   "metadata": {},
   "outputs": [
    {
     "name": "stdout",
     "output_type": "stream",
     "text": [
      "Optimal tuning parameter using cross validation:  7.477000000000159\n",
      "Ridge Estimates using optimal tuning parameter :  [-1.68919076e+01  1.52724481e-05  4.56259084e-04  6.64099544e-04\n",
      " -2.68480759e-04 -1.82972780e-02 -1.77847763e-01  1.99261715e-01\n",
      "  2.75491514e-03  7.65683711e-02 -3.20888345e-04 -8.42921804e-03\n",
      " -3.45283720e-03 -9.86167490e-03 -5.53745103e-03  2.21611483e-02\n",
      " -2.09907160e-02 -5.54164431e-03  2.56630561e-02  3.08691670e-03\n",
      "  1.07284527e-02 -1.41143426e-02 -1.22669697e-03 -3.32762683e-03\n",
      " -5.80840046e-03  4.49279301e-03 -6.18382213e-03 -4.83948859e-03\n",
      "  6.39318665e-02  1.50960497e-04  1.15125544e-02 -8.17007147e-03\n",
      " -5.75189168e-03  2.77967600e-03 -1.88278402e-03 -3.11869884e-03\n",
      " -1.88278402e-03  2.74076584e-03 -4.21438968e-02  1.06495771e-01\n",
      "  5.99901890e-02  3.60222345e-02 -3.66228328e-02  2.52284614e-01\n",
      " -4.46508770e-02 -2.98956382e-02  5.09059276e-04  1.60363214e-02\n",
      " -6.95390073e-03  8.66282141e-03  3.68016292e-03  1.49570507e-02\n",
      "  1.91144071e-02  8.01715077e-02]\n",
      "Validation MSE:  0.06702191747938342\n"
     ]
    }
   ],
   "source": [
    "yhat = np.dot(sm.add_constant(validation_x),betaRidge)\n",
    "yhat1 = rr.predict(validation_x)\n",
    "validationMSE = np.mean((yhat-validation_y)**2)\n",
    "\n",
    "print(\"Optimal tuning parameter using cross validation: \", rr.alpha_)\n",
    "print(\"Ridge Estimates using optimal tuning parameter : \", betaRidge)\n",
    "print(\"Validation MSE: \", validationMSE)"
   ]
  },
  {
   "cell_type": "markdown",
   "id": "aaea00d3",
   "metadata": {},
   "source": [
    "## Logit"
   ]
  },
  {
   "cell_type": "code",
   "execution_count": 57,
   "metadata": {},
   "outputs": [
    {
     "name": "stderr",
     "output_type": "stream",
     "text": [
      "c:\\Users\\Raphael\\AppData\\Local\\Programs\\Python\\Python310\\lib\\site-packages\\sklearn\\utils\\optimize.py:210: ConvergenceWarning: newton-cg failed to converge. Increase the number of iterations.\n",
      "  warnings.warn(\n"
     ]
    }
   ],
   "source": [
    "from sklearn.linear_model import LogisticRegression\n",
    "from sklearn.metrics import classification_report, confusion_matrix\n",
    "model = LogisticRegression(solver='newton-cg', C=9999999, fit_intercept=True)\n",
    "model.fit(test_x,test_y)\n",
    "model.predict_proba(test_x)\n",
    "cm = confusion_matrix(test_y, model.predict(test_x))"
   ]
  },
  {
   "cell_type": "code",
   "execution_count": null,
   "id": "4b2feb74",
   "metadata": {},
   "outputs": [],
   "source": []
  },
  {
   "cell_type": "code",
   "execution_count": null,
   "id": "c893bb1a",
   "metadata": {},
   "outputs": [],
   "source": []
  },
  {
   "cell_type": "code",
   "execution_count": null,
   "id": "4ee3ad84",
   "metadata": {},
   "outputs": [],
   "source": []
  },
  {
   "cell_type": "code",
   "execution_count": null,
   "metadata": {},
   "outputs": [],
   "source": []
  },
  {
   "cell_type": "code",
   "execution_count": null,
   "metadata": {},
   "outputs": [],
   "source": []
  },
  {
   "cell_type": "markdown",
   "id": "f3dfd310",
   "metadata": {},
   "source": [
    "## Lasso - L1 regularization"
   ]
  },
  {
   "cell_type": "code",
   "execution_count": 39,
   "id": "4520569f",
   "metadata": {},
   "outputs": [
    {
     "ename": "SyntaxError",
     "evalue": "invalid syntax (434462817.py, line 8)",
     "output_type": "error",
     "traceback": [
      "\u001b[1;36m  Input \u001b[1;32mIn [39]\u001b[1;36m\u001b[0m\n\u001b[1;33m    from sklearn.linear_model = LassoCV\u001b[0m\n\u001b[1;37m                              ^\u001b[0m\n\u001b[1;31mSyntaxError\u001b[0m\u001b[1;31m:\u001b[0m invalid syntax\n"
     ]
    }
   ],
   "source": [
    "# https://scikit-learn.org/stable/modules/generated/sklearn.linear_model.Lasso.html\n",
    "\n",
    "# L1 Error means that the Absolut Value will be added\n",
    "\n",
    "# Beta can get zero\n",
    "\n",
    "from sklearn import linear_model\n",
    "from sklearn.linear_model = LassoCV\n",
    "\n",
    "lasso_reg = linear_model.Lasso(alpha=2, fit_intercept=True)\n",
    "\n",
    "lasso_reg.fit(train_x, train_y)\n",
    "print(\"Lasso Estimates from package:\", np.append(lasso_reg.intercept_,lasso_reg.coef_))"
   ]
  },
  {
   "cell_type": "code",
   "execution_count": 53,
   "id": "7fe5a73b",
   "metadata": {},
   "outputs": [
    {
     "data": {
      "text/plain": [
       "0.31755083571261244"
      ]
     },
     "execution_count": 53,
     "metadata": {},
     "output_type": "execute_result"
    }
   ],
   "source": [
    "lasso_reg.score(test_x, test_y)"
   ]
  },
  {
   "cell_type": "code",
   "execution_count": 54,
   "id": "8d4de685",
   "metadata": {},
   "outputs": [
    {
     "data": {
      "text/plain": [
       "0.30283839040616223"
      ]
     },
     "execution_count": 54,
     "metadata": {},
     "output_type": "execute_result"
    }
   ],
   "source": [
    "lasso_reg.score(train_x, train_y)"
   ]
  },
  {
   "cell_type": "markdown",
   "id": "d7ad2dee",
   "metadata": {},
   "source": [
    "## Ridge Regression - L2 regularization"
   ]
  },
  {
   "cell_type": "code",
   "execution_count": 38,
   "id": "410acec4",
   "metadata": {},
   "outputs": [
    {
     "name": "stdout",
     "output_type": "stream",
     "text": [
      "Ridge Estimates from package:  [ 6.65417578e+00  4.09991818e-05  4.57938996e-04  2.92713891e-04\n",
      " -3.40331239e-04 -3.26779635e-04  2.48816244e-06  1.29281540e-04\n",
      "  4.83328822e-03  2.96999086e-04 -1.19045207e-03 -3.96969236e-04\n",
      " -1.94275796e-05 -6.19725449e-06  4.65064293e-06  9.99399500e-05\n",
      " -1.93281354e-05 -1.11858465e-04  7.41355756e-05  1.29701974e-04\n",
      "  2.11671814e-05 -3.59669227e-06 -1.64416375e-04  1.79936697e-04\n",
      " -3.03728528e-06 -5.16837599e-05 -2.16050052e-04 -1.20282012e-04\n",
      "  2.31019267e-06  2.91108384e-05  4.29039948e-04  1.18142959e-05\n",
      " -2.50274048e-04  1.25552673e-07  1.56842502e-06 -2.06016190e-05\n",
      "  1.56842502e-06  9.12095199e-06 -4.71469958e-04  3.62480662e-04\n",
      "  1.98178222e-05  3.83989068e-04  3.39373295e-04  1.99929762e-04\n",
      " -1.40364805e-03 -1.59462422e-05  1.00638139e-04  1.70171390e-05\n",
      " -1.27898107e-04  8.58328157e-05  5.75020624e-05  4.94914044e-05\n",
      "  3.04398093e-04  2.58877190e-05]\n"
     ]
    }
   ],
   "source": [
    "# https://scikit-learn.org/stable/modules/generated/sklearn.linear_model.Ridge.html\n",
    "# https://scikit-learn.org/stable/modules/generated/sklearn.linear_model.RidgeCV.html\n",
    "\n",
    "# L2 Error means that the error is squared\n",
    "\n",
    "# Beta can get close to zero\n",
    "\n",
    "from sklearn.linear_model import Ridge\n",
    "from sklearn.linear_model import RidgeCV\n",
    "\n",
    "ridge_reg = Ridge(alpha=2, fit_intercept=True, solver='sparse_cg')\n",
    "ridge_reg.fit(train_x, train_y)\n",
    "print(\"Ridge Estimates from package: \",np.append(ridge_reg.intercept_,ridge_reg.coef_))"
   ]
  },
  {
   "cell_type": "code",
   "execution_count": 36,
   "id": "5552a8f0",
   "metadata": {},
   "outputs": [
    {
     "data": {
      "text/plain": [
       "0.3339311554743658"
      ]
     },
     "execution_count": 36,
     "metadata": {},
     "output_type": "execute_result"
    }
   ],
   "source": [
    "ridge_reg.score(test_x, test_y)"
   ]
  },
  {
   "cell_type": "code",
   "execution_count": 37,
   "id": "6890ed8d",
   "metadata": {},
   "outputs": [
    {
     "data": {
      "text/plain": [
       "0.315655873352511"
      ]
     },
     "execution_count": 37,
     "metadata": {},
     "output_type": "execute_result"
    }
   ],
   "source": [
    "ridge_reg.score(train_x, train_y)"
   ]
  },
  {
   "cell_type": "code",
   "execution_count": null,
   "id": "47b7d1fb",
   "metadata": {},
   "outputs": [],
   "source": []
  }
 ],
 "metadata": {
  "interpreter": {
   "hash": "e520a469617dc4d8bf771f1a7d6422397314db060637112fffa727df7f704ab9"
  },
  "kernelspec": {
   "display_name": "Python 3.8.3 ('base')",
   "language": "python",
   "name": "python3"
  },
  "language_info": {
   "codemirror_mode": {
    "name": "ipython",
    "version": 3
   },
   "file_extension": ".py",
   "mimetype": "text/x-python",
   "name": "python",
   "nbconvert_exporter": "python",
   "pygments_lexer": "ipython3",
   "version": "3.8.3"
  }
 },
 "nbformat": 4,
 "nbformat_minor": 5
}
