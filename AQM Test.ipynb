{
 "cells": [
  {
   "cell_type": "code",
   "execution_count": 3,
   "id": "05c667c9",
   "metadata": {},
   "outputs": [],
   "source": [
    "import numpy as np\n",
    "import pandas as pd\n",
    "import statsmodels.api as sm\n",
    "import matplotlib.pyplot as plt\n",
    "from statsmodels.formula.api import logit\n",
    "\n",
    "from sklearn.linear_model import LinearRegression\n",
    "from sklearn.linear_model import Ridge"
   ]
  },
  {
   "cell_type": "code",
   "execution_count": 5,
   "id": "557f415f",
   "metadata": {},
   "outputs": [],
   "source": [
    "bank = pd.read_csv('Data/bank.csv', sep=';')\n",
    "bank_full = pd.read_csv('Data/bank-full.csv', sep=';')\n",
    "\n",
    "bank_add = pd.read_csv('Data/bank-additional.csv', sep=';')\n",
    "bank_add_full = pd.read_csv('Data/bank-additional-full.csv', sep=';')"
   ]
  },
  {
   "cell_type": "markdown",
   "id": "58a67457",
   "metadata": {},
   "source": [
    "# Split your data 50/20/30 into training, validation, and test sample"
   ]
  },
  {
   "cell_type": "code",
   "execution_count": 11,
   "id": "89c7f0a5",
   "metadata": {},
   "outputs": [],
   "source": [
    "# https://www.youtube.com/watch?v=ZHPwPHkrT4I\n",
    "# https://www.youtube.com/watch?v=k9cuKNnLF9w\n",
    "\n",
    "\n",
    "# Train = hier wird das optimale Lambda bestummen\n",
    "# Validation = hier werden die 2 verschiednen Modelle ausgewertet\n",
    "# Test = hier wird angeschaut wie gut die Voraussagen sind"
   ]
  },
  {
   "cell_type": "code",
   "execution_count": 16,
   "id": "9a774d4a",
   "metadata": {},
   "outputs": [
    {
     "data": {
      "text/plain": [
       "45211"
      ]
     },
     "execution_count": 16,
     "metadata": {},
     "output_type": "execute_result"
    }
   ],
   "source": [
    "len(bank_full)"
   ]
  },
  {
   "cell_type": "code",
   "execution_count": 12,
   "id": "2bb8bb23",
   "metadata": {},
   "outputs": [],
   "source": [
    "from sklearn.model_selection import train_test_split"
   ]
  },
  {
   "cell_type": "code",
   "execution_count": 61,
   "id": "41fda5e9",
   "metadata": {},
   "outputs": [
    {
     "name": "stdout",
     "output_type": "stream",
     "text": [
      "Länge vom Main:  31647\n",
      "Prozent von Total: 70.00 %\n",
      "Länge vom Test:  13564\n",
      "Prozent von Total: 30.00 %\n"
     ]
    }
   ],
   "source": [
    "train_main, test = train_test_split(bank_full, test_size=0.3, random_state=42)\n",
    "print(\"Länge vom Main: \", len(train_main))\n",
    "print(\"Prozent von Total: \" '{:.2f}'.format(len(train_main)/len(bank_full)*100), \"%\")\n",
    "print(\"Länge vom Test: \", len(test))\n",
    "print(\"Prozent von Total: \" '{:.2f}'.format(len(test)/len(bank_full)*100), \"%\")"
   ]
  },
  {
   "cell_type": "code",
   "execution_count": 66,
   "id": "e9a2cf74",
   "metadata": {},
   "outputs": [
    {
     "name": "stdout",
     "output_type": "stream",
     "text": [
      "Länge vom Train:  22604\n",
      "Prozent von Total: 50.00 %\n",
      "Länge vom Valuation:  9043\n",
      "Prozent von Total: 20.00 %\n"
     ]
    }
   ],
   "source": [
    "train, valuation = train_test_split(train_main, test_size=(0.2/0.7), random_state=42)\n",
    "print(\"Länge vom Train: \", len(train))\n",
    "print(\"Prozent von Total: \" '{:.2f}'.format(len(train)/len(bank_full)*100), \"%\")\n",
    "print(\"Länge vom Valuation: \", len(valuation))\n",
    "print(\"Prozent von Total: \" '{:.2f}'.format(len(valuation)/len(bank_full)*100), \"%\")"
   ]
  },
  {
   "cell_type": "code",
   "execution_count": null,
   "id": "4dbcec02",
   "metadata": {},
   "outputs": [],
   "source": []
  },
  {
   "cell_type": "code",
   "execution_count": null,
   "id": "e370431e",
   "metadata": {},
   "outputs": [],
   "source": []
  },
  {
   "cell_type": "code",
   "execution_count": 1,
   "id": "6405dca0",
   "metadata": {},
   "outputs": [
    {
     "name": "stdout",
     "output_type": "stream",
     "text": [
      "Check correlation: 0.00656204011451738\n",
      "                  Results: Ordinary least squares\n",
      "===================================================================\n",
      "Model:              OLS              Adj. R-squared:     0.974     \n",
      "Dependent Variable: y                AIC:                28556.6874\n",
      "Date:               2022-05-17 11:46 BIC:                28585.5288\n",
      "No. Observations:   10000            Log-Likelihood:     -14274.   \n",
      "Df Model:           3                F-statistic:        1.230e+05 \n",
      "Df Residuals:       9996             Prob (F-statistic): 0.00      \n",
      "R-squared:          0.974            Scale:              1.0175    \n",
      "----------------------------------------------------------------------\n",
      "          Coef.     Std.Err.       t        P>|t|     [0.025    0.975]\n",
      "----------------------------------------------------------------------\n",
      "const     4.9980      0.0101    495.4721    0.0000    4.9782    5.0178\n",
      "x1        3.0015      0.0102    293.8430    0.0000    2.9815    3.0216\n",
      "x2        5.0176      0.0102    493.9339    0.0000    4.9977    5.0375\n",
      "x3        2.0064      0.0101    198.3550    0.0000    1.9866    2.0263\n",
      "-------------------------------------------------------------------\n",
      "Omnibus:               8.684         Durbin-Watson:           1.966\n",
      "Prob(Omnibus):         0.013         Jarque-Bera (JB):        8.982\n",
      "Skew:                  -0.051        Prob(JB):                0.011\n",
      "Kurtosis:              3.107         Condition No.:           1    \n",
      "===================================================================\n",
      "\n",
      "OLS Estimates               :  [4.99799408 3.00153944 5.01758496 2.00644076]\n",
      "Own Ridge Estimates         :  [4.99799408 2.98605406 4.99221884 1.99660143]\n",
      "Ridge Estimates from package:  [4.99799408 2.9859503  4.99232271 1.99649686]\n"
     ]
    }
   ],
   "source": [
    "import numpy as np\n",
    "import statsmodels.api as sm\n",
    "from sklearn.linear_model import LinearRegression\n",
    "from sklearn.linear_model import Ridge\n",
    "\n",
    "#Input parameters\n",
    "n = 10000; mu1 = 0; sigma1 = 1; mu2 = 0; sigma2 = 1; mu3 = 0\n",
    "sigma3 = 1; c = 5; beta1 = 3; beta2 = 5; beta3 = 2\n",
    "#Correlation between x2 and x3\n",
    "rho = 0\n",
    "\n",
    "#Regressors\n",
    "np.random.seed(0)\n",
    "x1 = np.random.normal(mu1,sigma1,n)\n",
    "x2 = np.random.normal(mu2,sigma2,n)\n",
    "x3 = rho*x2 + np.sqrt(1-rho**2)*np.random.normal(mu3,sigma3,n)\n",
    "print(\"Check correlation:\", np.corrcoef(x2,x3)[0,1])\n",
    "\n",
    "#Error term\n",
    "epsilon = np.random.normal(0,1,n)\n",
    "\n",
    "#Centering the regressors necessary for ridge regression \n",
    "x1 = x1 - np.mean(x1)\n",
    "x2 = x2 - np.mean(x2)\n",
    "x3 = x3 - np.mean(x3)\n",
    "\n",
    "#Data Generating Process (True Model)\n",
    "y = c + beta1*x1 + beta2*x2 + beta3*x3 + epsilon\n",
    "\n",
    "#Correctly specified\n",
    "x=np.column_stack((x1,x2,x3))\n",
    "xcon = sm.add_constant(x)        \n",
    "model = sm.OLS(y,xcon) \n",
    "results = model.fit()\n",
    "print(results.summary2())\n",
    "\n",
    "xs = np.column_stack((np.ones(n),x1,x2,x3))\n",
    "betaOLS = np.dot(np.linalg.inv(np.dot(xs.T,xs)),np.dot(xs.T,y))\n",
    "print(\"OLS Estimates               : \", betaOLS)\n",
    "\n",
    "lam = 50\n",
    "xs = np.column_stack((x1,x2,x3))\n",
    "betaRidge = np.dot(np.linalg.inv(np.dot(xs.T,xs)+lam*np.identity(np.shape(xs)[1])),np.dot(xs.T,y))\n",
    "print(\"Own Ridge Estimates         : \", np.append(np.mean(y),betaRidge))\n",
    "\n",
    "#https://scikit-learn.org/stable/modules/generated/sklearn.linear_model.Ridge.html\n",
    "lr = LinearRegression()\n",
    "lr.fit(xs,y)\n",
    "rr = Ridge(alpha=lam, fit_intercept=True, solver='sparse_cg')\n",
    "# rr = Ridge(alpha=lam, fit_intercept=True, solver='sparse_cg', tol=0.00000001)\n",
    "rr.fit(xs, y)\n",
    "print(\"Ridge Estimates from package: \",np.append(rr.intercept_,rr.coef_))"
   ]
  },
  {
   "cell_type": "code",
   "execution_count": 4,
   "id": "336bccdf",
   "metadata": {},
   "outputs": [
    {
     "name": "stdout",
     "output_type": "stream",
     "text": [
      "Lasso Estimates from package: [4.99799408 0.62934538 2.6802179  0.        ]\n"
     ]
    }
   ],
   "source": [
    "from sklearn.linear_model import Lasso\n",
    "lam = 2.3\n",
    "\n",
    "lr = LinearRegression()\n",
    "lr.fit(xs,y)\n",
    "rr = Lasso(alpha=lam, fit_intercept=True)\n",
    "rr.fit(xs,y)\n",
    "print(\"Lasso Estimates from package:\", np.append(rr.intercept_,rr.coef_))"
   ]
  },
  {
   "cell_type": "code",
   "execution_count": null,
   "id": "e18c630b",
   "metadata": {},
   "outputs": [],
   "source": []
  }
 ],
 "metadata": {
  "interpreter": {
   "hash": "41a53f9f1c4e6100adb615a97637846208a0e91ef79bf1ee121234ca4e90fc3d"
  },
  "kernelspec": {
   "display_name": "Python 3.10.0 64-bit",
   "language": "python",
   "name": "python3"
  },
  "language_info": {
   "codemirror_mode": {
    "name": "ipython",
    "version": 3
   },
   "file_extension": ".py",
   "mimetype": "text/x-python",
   "name": "python",
   "nbconvert_exporter": "python",
   "pygments_lexer": "ipython3",
   "version": "3.10.0"
  }
 },
 "nbformat": 4,
 "nbformat_minor": 5
}
